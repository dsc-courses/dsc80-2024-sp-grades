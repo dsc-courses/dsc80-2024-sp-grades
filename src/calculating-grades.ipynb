{
 "cells": [
  {
   "cell_type": "markdown",
   "metadata": {},
   "source": [
    "# Calculating Grades – DSC 80, Winter 2024"
   ]
  },
  {
   "cell_type": "code",
   "execution_count": 1,
   "metadata": {
    "execution": {
     "iopub.execute_input": "2024-03-24T22:51:23.823081Z",
     "iopub.status.busy": "2024-03-24T22:51:23.822952Z",
     "iopub.status.idle": "2024-03-24T22:51:24.279466Z",
     "shell.execute_reply": "2024-03-24T22:51:24.279086Z"
    }
   },
   "outputs": [],
   "source": [
    "import pandas as pd\n",
    "import numpy as np\n",
    "import json\n",
    "import os\n",
    "import re\n",
    "import glob\n",
    "import matplotlib.pyplot as plt\n",
    "import yaml\n",
    "from yaml import load\n",
    "from os import path\n",
    "plt.style.use('ggplot')"
   ]
  },
  {
   "cell_type": "markdown",
   "metadata": {},
   "source": [
    "DataFrame downloaded by going to your respective courses assignments page on gradescope and clicking \"Download Grades > Download CSV\"."
   ]
  },
  {
   "cell_type": "code",
   "execution_count": 2,
   "metadata": {
    "execution": {
     "iopub.execute_input": "2024-03-24T22:51:24.281399Z",
     "iopub.status.busy": "2024-03-24T22:51:24.281283Z",
     "iopub.status.idle": "2024-03-24T22:51:24.285367Z",
     "shell.execute_reply": "2024-03-24T22:51:24.285099Z"
    }
   },
   "outputs": [],
   "source": [
    "#Import data from yaml file\n",
    "stream = open(\"../configs.yaml\", 'r')\n",
    "dictionary = yaml.safe_load(stream)"
   ]
  },
  {
   "cell_type": "code",
   "execution_count": 3,
   "metadata": {
    "execution": {
     "iopub.execute_input": "2024-03-24T22:51:24.286849Z",
     "iopub.status.busy": "2024-03-24T22:51:24.286766Z",
     "iopub.status.idle": "2024-03-24T22:51:24.289528Z",
     "shell.execute_reply": "2024-03-24T22:51:24.289297Z"
    }
   },
   "outputs": [],
   "source": [
    "# Data Loading Fields\n",
    "GRADES_FILENAME = dictionary['data_path']['grades_filename']\n",
    "# ROSTER_FILENAME = 'sheets/dsc10-sp23-roster-final.csv'\n",
    "# ATTENDANCE_PATH = 'sheets/discussions'\n",
    "\n",
    "# Lab Fields\n",
    "NUM_LABS = dictionary['labs']['num_labs']\n",
    "MAX_LABS = dictionary['labs']['max_labs']\n",
    "\n",
    "# Project Fields\n",
    "NUM_PROJECTS = dictionary['projects']['num_projects']\n",
    "MAX_PROJECTS = dictionary['projects']['max_projects']\n",
    "\n",
    "NUM_PROJECT_CHECKPOINTS = dictionary['projects']['num_checkpoints']\n",
    "MAX_PROJECT_CHECKPOINTS = dictionary['projects']['max_checkpoints']\n",
    "\n",
    "\n",
    "# Midterm fields\n",
    "YES_MIDTERM = dictionary['exams']['midterm']['enabled']\n",
    "MIDTERM_VERSIONS = dictionary['exams']['midterm']['versions']\n",
    "MIDTERM_BONUS = dictionary['exams']['midterm']['bonus']\n",
    "\n",
    "# Final Fields\n",
    "YES_FINAL = dictionary['exams']['final']['enabled']\n",
    "FINAL_VERSIONS = dictionary['exams']['final']['versions']\n",
    "\n",
    "\n",
    "# Discussion Fields\n",
    "NUM_DI = dictionary['discussions']['num_dis']\n",
    "MAX_DI = dictionary['discussions']['max_dis']\n",
    "\n",
    "# Number of dropped assignments per category (set to 0 for no drops)\n",
    "# For example, if NUM_DROPS = 2, then 2 Labs and 2 Homeworks will be dropped\n",
    "# Note: Set this to 0 until the end of the quarter\n",
    "NUM_DROPS = dictionary['drop_policy']['num_drops']\n",
    "\n",
    "OVERALL_EC = dictionary['extra_credit']['overall']"
   ]
  },
  {
   "cell_type": "code",
   "execution_count": 4,
   "metadata": {
    "execution": {
     "iopub.execute_input": "2024-03-24T22:51:24.290881Z",
     "iopub.status.busy": "2024-03-24T22:51:24.290802Z",
     "iopub.status.idle": "2024-03-24T22:51:24.297503Z",
     "shell.execute_reply": "2024-03-24T22:51:24.297249Z"
    }
   },
   "outputs": [
    {
     "data": {
      "text/html": [
       "<div>\n",
       "<style scoped>\n",
       "    .dataframe tbody tr th:only-of-type {\n",
       "        vertical-align: middle;\n",
       "    }\n",
       "\n",
       "    .dataframe tbody tr th {\n",
       "        vertical-align: top;\n",
       "    }\n",
       "\n",
       "    .dataframe thead th {\n",
       "        text-align: right;\n",
       "    }\n",
       "</style>\n",
       "<table border=\"1\" class=\"dataframe\">\n",
       "  <thead>\n",
       "    <tr style=\"text-align: right;\">\n",
       "      <th></th>\n",
       "      <th>Name</th>\n",
       "      <th>Email</th>\n",
       "      <th>Lab 1</th>\n",
       "      <th>Lab 1 - Max Points</th>\n",
       "      <th>Lab 1 - Submission Time</th>\n",
       "      <th>Lab 1 - Lateness (H:M:S)</th>\n",
       "      <th>Discussion 1 Reflection</th>\n",
       "      <th>Discussion 1 Reflection - Max Points</th>\n",
       "      <th>Discussion 1 Reflection - Submission Time</th>\n",
       "      <th>Discussion 1 Reflection - Lateness (H:M:S)</th>\n",
       "      <th>...</th>\n",
       "      <th>Final Exam - Version B - Lateness (H:M:S)</th>\n",
       "      <th>Total Lateness (H:M:S)</th>\n",
       "      <th>Last Name</th>\n",
       "      <th>First Name</th>\n",
       "      <th>Student ID</th>\n",
       "      <th>Pronoun</th>\n",
       "      <th>SectionId</th>\n",
       "      <th>Final_Assigned_Egrade</th>\n",
       "      <th>Grade Option</th>\n",
       "      <th>Concurrent Flag</th>\n",
       "    </tr>\n",
       "    <tr>\n",
       "      <th>SID</th>\n",
       "      <th></th>\n",
       "      <th></th>\n",
       "      <th></th>\n",
       "      <th></th>\n",
       "      <th></th>\n",
       "      <th></th>\n",
       "      <th></th>\n",
       "      <th></th>\n",
       "      <th></th>\n",
       "      <th></th>\n",
       "      <th></th>\n",
       "      <th></th>\n",
       "      <th></th>\n",
       "      <th></th>\n",
       "      <th></th>\n",
       "      <th></th>\n",
       "      <th></th>\n",
       "      <th></th>\n",
       "      <th></th>\n",
       "      <th></th>\n",
       "      <th></th>\n",
       "    </tr>\n",
       "  </thead>\n",
       "  <tbody>\n",
       "    <tr>\n",
       "      <th>A16681759</th>\n",
       "      <td>Aakash Davasam</td>\n",
       "      <td>adavasam@ucsd.edu</td>\n",
       "      <td>105.0</td>\n",
       "      <td>123.0</td>\n",
       "      <td>2024-01-17 16:46:26 -0800</td>\n",
       "      <td>00:00:00</td>\n",
       "      <td>NaN</td>\n",
       "      <td>0.0</td>\n",
       "      <td>NaN</td>\n",
       "      <td>00:00:00</td>\n",
       "      <td>...</td>\n",
       "      <td>00:00:00</td>\n",
       "      <td>1069:16:40</td>\n",
       "      <td>Davasam</td>\n",
       "      <td>Aakash</td>\n",
       "      <td>A16681759</td>\n",
       "      <td>NaN</td>\n",
       "      <td>319286</td>\n",
       "      <td>NaN</td>\n",
       "      <td>P</td>\n",
       "      <td>N</td>\n",
       "    </tr>\n",
       "    <tr>\n",
       "      <th>A17451764</th>\n",
       "      <td>Aile Banuelos</td>\n",
       "      <td>aibanuelos@ucsd.edu</td>\n",
       "      <td>92.0</td>\n",
       "      <td>123.0</td>\n",
       "      <td>2024-01-17 16:57:25 -0800</td>\n",
       "      <td>00:00:00</td>\n",
       "      <td>NaN</td>\n",
       "      <td>0.0</td>\n",
       "      <td>NaN</td>\n",
       "      <td>00:00:00</td>\n",
       "      <td>...</td>\n",
       "      <td>00:00:00</td>\n",
       "      <td>1072:04:37</td>\n",
       "      <td>Banuelos</td>\n",
       "      <td>Aile</td>\n",
       "      <td>A17451764</td>\n",
       "      <td>NaN</td>\n",
       "      <td>319286</td>\n",
       "      <td>NaN</td>\n",
       "      <td>L</td>\n",
       "      <td>N</td>\n",
       "    </tr>\n",
       "    <tr>\n",
       "      <th>A18158053</th>\n",
       "      <td>Ailinna Zhang</td>\n",
       "      <td>aiz007@ucsd.edu</td>\n",
       "      <td>112.0</td>\n",
       "      <td>123.0</td>\n",
       "      <td>2024-01-13 10:41:27 -0800</td>\n",
       "      <td>00:00:00</td>\n",
       "      <td>0.0</td>\n",
       "      <td>0.0</td>\n",
       "      <td>2024-01-11 10:06:08 -0800</td>\n",
       "      <td>00:00:00</td>\n",
       "      <td>...</td>\n",
       "      <td>00:00:00</td>\n",
       "      <td>942:12:16</td>\n",
       "      <td>Zhang</td>\n",
       "      <td>Ailinna</td>\n",
       "      <td>A18158053</td>\n",
       "      <td>NaN</td>\n",
       "      <td>319286</td>\n",
       "      <td>NaN</td>\n",
       "      <td>L</td>\n",
       "      <td>N</td>\n",
       "    </tr>\n",
       "    <tr>\n",
       "      <th>A17332208</th>\n",
       "      <td>Akshay Medidi</td>\n",
       "      <td>amedidi@ucsd.edu</td>\n",
       "      <td>116.0</td>\n",
       "      <td>123.0</td>\n",
       "      <td>2024-01-17 06:16:01 -0800</td>\n",
       "      <td>00:00:00</td>\n",
       "      <td>0.0</td>\n",
       "      <td>0.0</td>\n",
       "      <td>2024-01-11 11:41:32 -0800</td>\n",
       "      <td>00:00:00</td>\n",
       "      <td>...</td>\n",
       "      <td>00:00:00</td>\n",
       "      <td>993:39:20</td>\n",
       "      <td>Medidi</td>\n",
       "      <td>Akshay</td>\n",
       "      <td>A17332208</td>\n",
       "      <td>NaN</td>\n",
       "      <td>319286</td>\n",
       "      <td>NaN</td>\n",
       "      <td>L</td>\n",
       "      <td>N</td>\n",
       "    </tr>\n",
       "    <tr>\n",
       "      <th>A16683762</th>\n",
       "      <td>Aleck Wu</td>\n",
       "      <td>a5wu@ucsd.edu</td>\n",
       "      <td>121.0</td>\n",
       "      <td>123.0</td>\n",
       "      <td>2024-01-16 20:12:02 -0800</td>\n",
       "      <td>00:00:00</td>\n",
       "      <td>NaN</td>\n",
       "      <td>0.0</td>\n",
       "      <td>NaN</td>\n",
       "      <td>00:00:00</td>\n",
       "      <td>...</td>\n",
       "      <td>00:00:00</td>\n",
       "      <td>1000:26:54</td>\n",
       "      <td>Wu</td>\n",
       "      <td>Aleck</td>\n",
       "      <td>A16683762</td>\n",
       "      <td>NaN</td>\n",
       "      <td>319286</td>\n",
       "      <td>NaN</td>\n",
       "      <td>L</td>\n",
       "      <td>N</td>\n",
       "    </tr>\n",
       "  </tbody>\n",
       "</table>\n",
       "<p>5 rows × 151 columns</p>\n",
       "</div>"
      ],
      "text/plain": [
       "                     Name                Email  Lab 1  Lab 1 - Max Points  \\\n",
       "SID                                                                         \n",
       "A16681759  Aakash Davasam    adavasam@ucsd.edu  105.0               123.0   \n",
       "A17451764   Aile Banuelos  aibanuelos@ucsd.edu   92.0               123.0   \n",
       "A18158053   Ailinna Zhang      aiz007@ucsd.edu  112.0               123.0   \n",
       "A17332208   Akshay Medidi     amedidi@ucsd.edu  116.0               123.0   \n",
       "A16683762        Aleck Wu        a5wu@ucsd.edu  121.0               123.0   \n",
       "\n",
       "             Lab 1 - Submission Time Lab 1 - Lateness (H:M:S)  \\\n",
       "SID                                                             \n",
       "A16681759  2024-01-17 16:46:26 -0800                 00:00:00   \n",
       "A17451764  2024-01-17 16:57:25 -0800                 00:00:00   \n",
       "A18158053  2024-01-13 10:41:27 -0800                 00:00:00   \n",
       "A17332208  2024-01-17 06:16:01 -0800                 00:00:00   \n",
       "A16683762  2024-01-16 20:12:02 -0800                 00:00:00   \n",
       "\n",
       "           Discussion 1 Reflection  Discussion 1 Reflection - Max Points  \\\n",
       "SID                                                                        \n",
       "A16681759                      NaN                                   0.0   \n",
       "A17451764                      NaN                                   0.0   \n",
       "A18158053                      0.0                                   0.0   \n",
       "A17332208                      0.0                                   0.0   \n",
       "A16683762                      NaN                                   0.0   \n",
       "\n",
       "          Discussion 1 Reflection - Submission Time  \\\n",
       "SID                                                   \n",
       "A16681759                                       NaN   \n",
       "A17451764                                       NaN   \n",
       "A18158053                 2024-01-11 10:06:08 -0800   \n",
       "A17332208                 2024-01-11 11:41:32 -0800   \n",
       "A16683762                                       NaN   \n",
       "\n",
       "          Discussion 1 Reflection - Lateness (H:M:S)  ...  \\\n",
       "SID                                                   ...   \n",
       "A16681759                                   00:00:00  ...   \n",
       "A17451764                                   00:00:00  ...   \n",
       "A18158053                                   00:00:00  ...   \n",
       "A17332208                                   00:00:00  ...   \n",
       "A16683762                                   00:00:00  ...   \n",
       "\n",
       "           Final Exam - Version B - Lateness (H:M:S)  Total Lateness (H:M:S)  \\\n",
       "SID                                                                            \n",
       "A16681759                                   00:00:00              1069:16:40   \n",
       "A17451764                                   00:00:00              1072:04:37   \n",
       "A18158053                                   00:00:00               942:12:16   \n",
       "A17332208                                   00:00:00               993:39:20   \n",
       "A16683762                                   00:00:00              1000:26:54   \n",
       "\n",
       "          Last Name First Name  Student ID  Pronoun SectionId  \\\n",
       "SID                                                             \n",
       "A16681759   Davasam     Aakash   A16681759      NaN    319286   \n",
       "A17451764  Banuelos       Aile   A17451764      NaN    319286   \n",
       "A18158053     Zhang    Ailinna   A18158053      NaN    319286   \n",
       "A17332208    Medidi     Akshay   A17332208      NaN    319286   \n",
       "A16683762        Wu      Aleck   A16683762      NaN    319286   \n",
       "\n",
       "          Final_Assigned_Egrade  Grade Option  Concurrent Flag  \n",
       "SID                                                             \n",
       "A16681759                   NaN             P                N  \n",
       "A17451764                   NaN             L                N  \n",
       "A18158053                   NaN             L                N  \n",
       "A17332208                   NaN             L                N  \n",
       "A16683762                   NaN             L                N  \n",
       "\n",
       "[5 rows x 151 columns]"
      ]
     },
     "execution_count": 4,
     "metadata": {},
     "output_type": "execute_result"
    }
   ],
   "source": [
    "df = pd.read_csv(GRADES_FILENAME)\n",
    "\n",
    "# Create name column if not already present\n",
    "if 'Name' not in df.columns:\n",
    "    df['Name'] = df['First Name'] + ' ' + df['Last Name']\n",
    "    df = df.drop(['First Name', 'Last Name'], axis=1)\n",
    "\n",
    "#roster = pd.read_csv(ROSTER_FILENAME)\n",
    "\n",
    "#df = df.merge(roster[['Last Name', 'First Name', 'Student ID', 'Grade Option', 'SectionId']], left_on='SID', right_on='Student ID').drop(columns=['Student ID']).set_index('SID')\n",
    "\n",
    "# exceptions_path = path.join('sheets', EXCEPTIONS_FILENAME)\n",
    "# exceptions = pd.read_csv(EXCEPTIONS_FILENAME, skip_blank_lines=True) # Drops the empty rows if there are any\n",
    "\n",
    "# # ai = pd.read_csv('sheets/List of Involved Students - Pursuing.csv')\n",
    "\n",
    "roster = pd.read_csv('../data/egrade-roster.tsv', sep='\\t')\n",
    "df = df.merge(roster, left_on='SID', right_on='Student ID').set_index('SID')\n",
    "df.head()"
   ]
  },
  {
   "cell_type": "code",
   "execution_count": 5,
   "metadata": {},
   "outputs": [
    {
     "data": {
      "text/plain": [
       "(135, 151)"
      ]
     },
     "execution_count": 5,
     "metadata": {},
     "output_type": "execute_result"
    }
   ],
   "source": [
    "df.shape"
   ]
  },
  {
   "cell_type": "code",
   "execution_count": 6,
   "metadata": {
    "execution": {
     "iopub.execute_input": "2024-03-24T22:51:24.324970Z",
     "iopub.status.busy": "2024-03-24T22:51:24.324860Z",
     "iopub.status.idle": "2024-03-24T22:51:24.326339Z",
     "shell.execute_reply": "2024-03-24T22:51:24.326115Z"
    }
   },
   "outputs": [],
   "source": [
    "# exceptions.head()"
   ]
  },
  {
   "cell_type": "markdown",
   "metadata": {},
   "source": [
    "## Slip Days"
   ]
  },
  {
   "cell_type": "markdown",
   "metadata": {},
   "source": [
    "This is the \"priority order\" for slip days. We use students' slip days on the assignments worth the most, but within a category we assign them sequentially."
   ]
  },
  {
   "cell_type": "code",
   "execution_count": 7,
   "metadata": {
    "execution": {
     "iopub.execute_input": "2024-03-24T22:51:24.327720Z",
     "iopub.status.busy": "2024-03-24T22:51:24.327652Z",
     "iopub.status.idle": "2024-03-24T22:51:24.330209Z",
     "shell.execute_reply": "2024-03-24T22:51:24.329990Z"
    }
   },
   "outputs": [
    {
     "data": {
      "text/plain": [
       "['Project 1',\n",
       " 'Project 2',\n",
       " 'Project 3',\n",
       " 'Project 4',\n",
       " 'Lab 1',\n",
       " 'Lab 2',\n",
       " 'Lab 3',\n",
       " 'Lab 4',\n",
       " 'Lab 5',\n",
       " 'Lab 6',\n",
       " 'Lab 7',\n",
       " 'Lab 8',\n",
       " 'Lab 9',\n",
       " 'Project 1 (Checkpoint)',\n",
       " 'Project 2 (Checkpoint)',\n",
       " 'Project 3 (Checkpoint)',\n",
       " 'Project 4 (Checkpoint)']"
      ]
     },
     "execution_count": 7,
     "metadata": {},
     "output_type": "execute_result"
    }
   ],
   "source": [
    "assignment_order = []\n",
    "\n",
    "# if YES_FINAL:\n",
    "#     assignment_order += ['Final Project']\n",
    "# if YES_MIDTERM:\n",
    "#     assignment_order += ['Midterm Project']\n",
    "assignment_order = assignment_order + [f'Project {i+1}' for i in range(0, NUM_PROJECTS)]\n",
    "assignment_order = assignment_order + [f'Lab {i+1}' for i in range(0, NUM_LABS)]\n",
    "assignment_order = assignment_order + [f'Project {i+1} (Checkpoint)' for i in range(0, NUM_PROJECT_CHECKPOINTS)]\n",
    "assignment_order"
   ]
  },
  {
   "cell_type": "markdown",
   "metadata": {},
   "source": [
    "Formula:\n",
    "\n",
    "$$\\text{slip days} = \\text{late days} - \\text{extension days}$$"
   ]
  },
  {
   "cell_type": "markdown",
   "metadata": {},
   "source": [
    "## COLLAPSE PROJECT 3 & 5"
   ]
  },
  {
   "cell_type": "code",
   "execution_count": 8,
   "metadata": {
    "execution": {
     "iopub.execute_input": "2024-03-24T22:51:24.331615Z",
     "iopub.status.busy": "2024-03-24T22:51:24.331543Z",
     "iopub.status.idle": "2024-03-24T22:51:24.334586Z",
     "shell.execute_reply": "2024-03-24T22:51:24.334350Z"
    }
   },
   "outputs": [],
   "source": [
    "def collapse_project(proj_num, df):\n",
    "    df = df.copy()\n",
    "    # get the project data sets\n",
    "    proj_data = df.loc[:, df.columns.str.contains(f\"Project {proj_num}\")]\n",
    "\n",
    "    proj_x_cols = proj_data.columns\n",
    "    pids = df.index\n",
    "\n",
    "    datasets = set(proj_x_cols[proj_x_cols.str.contains('Notebook')].str.extract(r'\\(([a-zA-z\\s]+)\\)')[0])\n",
    "\n",
    "    # combine the three into one dataframe\n",
    "    cleaned_data = []\n",
    "    for dataset in datasets:\n",
    "        data = proj_data.loc[:, proj_x_cols.str.contains(dataset)]\n",
    "        data.columns = [f'Project {proj_num}', f'Project {proj_num} - Max Points', \n",
    "                        f'Project {proj_num} - Submission Time', f'Project {proj_num} - Lateness (H:M:S)']\n",
    "        # this gets rid of the rows where the student didn't submit for that dataset\n",
    "        no_na = data.dropna(axis=0)\n",
    "\n",
    "        # remove people who submitted to the wrong dataset (score is 0)\n",
    "        no_na = no_na[no_na[f'Project {proj_num}'] > 0]\n",
    "\n",
    "        cleaned_data.append(no_na)\n",
    "\n",
    "    # concatonates all of the dataframes\n",
    "    collapsed_df = pd.concat(cleaned_data, axis=0)\n",
    "\n",
    "    try:\n",
    "        df = df.drop(columns =[f'Project {proj_num} - Lateness (H:M:S)'])\n",
    "    except:\n",
    "        pass\n",
    "\n",
    "    \n",
    "\n",
    "    # merges with the original dataframe\n",
    "    merged_df = pd.merge(df, collapsed_df, how='left', left_index=True, right_index=True)\n",
    "\n",
    "    print(merged_df.columns)\n",
    "\n",
    "    # fill any lateness that is empty\n",
    "    merged_df[f'Project {proj_num} - Lateness (H:M:S)'] = merged_df[f'Project {proj_num} - Lateness (H:M:S)'].fillna('00:00:00')\n",
    "\n",
    "    return merged_df"
   ]
  },
  {
   "cell_type": "code",
   "execution_count": 9,
   "metadata": {
    "execution": {
     "iopub.execute_input": "2024-03-24T22:51:24.335862Z",
     "iopub.status.busy": "2024-03-24T22:51:24.335793Z",
     "iopub.status.idle": "2024-03-24T22:51:24.343645Z",
     "shell.execute_reply": "2024-03-24T22:51:24.343422Z"
    }
   },
   "outputs": [
    {
     "name": "stdout",
     "output_type": "stream",
     "text": [
      "Index(['Name', 'Email', 'Lab 1', 'Lab 1 - Max Points',\n",
      "       'Lab 1 - Submission Time', 'Lab 1 - Lateness (H:M:S)',\n",
      "       'Discussion 1 Reflection', 'Discussion 1 Reflection - Max Points',\n",
      "       'Discussion 1 Reflection - Submission Time',\n",
      "       'Discussion 1 Reflection - Lateness (H:M:S)',\n",
      "       ...\n",
      "       'Student ID', 'Pronoun', 'SectionId', 'Final_Assigned_Egrade',\n",
      "       'Grade Option', 'Concurrent Flag', 'Project 4',\n",
      "       'Project 4 - Max Points', 'Project 4 - Submission Time',\n",
      "       'Project 4 - Lateness (H:M:S)'],\n",
      "      dtype='object', length=155)\n"
     ]
    }
   ],
   "source": [
    "df = collapse_project(4, df)\n",
    "# df = collapse_project(5, df)"
   ]
  },
  {
   "cell_type": "markdown",
   "metadata": {},
   "source": [
    "## ADD PROJECT 3 & 5 CHECKPOINT"
   ]
  },
  {
   "cell_type": "code",
   "execution_count": 10,
   "metadata": {
    "execution": {
     "iopub.execute_input": "2024-03-24T22:51:24.344964Z",
     "iopub.status.busy": "2024-03-24T22:51:24.344894Z",
     "iopub.status.idle": "2024-03-24T22:51:24.346469Z",
     "shell.execute_reply": "2024-03-24T22:51:24.346225Z"
    }
   },
   "outputs": [],
   "source": [
    "# df['Project 3 (Checkpoint)'] = 1\n",
    "# df['Project 3 (Checkpoint) - Max Points'] = 1\n",
    "# df['Project 3 (Checkpoint) - Lateness (H:M:S)'] = '00:00:00'\n",
    "# df['Project 5 (Checkpoint)'] = 1\n",
    "# df['Project 5 (Checkpoint) - Max Points'] = 1\n",
    "# df['Project 5 (Checkpoint) - Lateness (H:M:S)'] = '00:00:00'"
   ]
  },
  {
   "cell_type": "code",
   "execution_count": 11,
   "metadata": {
    "execution": {
     "iopub.execute_input": "2024-03-24T22:51:24.347758Z",
     "iopub.status.busy": "2024-03-24T22:51:24.347691Z",
     "iopub.status.idle": "2024-03-24T22:51:24.349931Z",
     "shell.execute_reply": "2024-03-24T22:51:24.349685Z"
    }
   },
   "outputs": [],
   "source": [
    "GRACE_PERIOD = 3 / 60 # Grace period of 3 minutes.\n",
    "\n",
    "def string_to_days(time_str):\n",
    "    '''Converts an element in the Lateness column, formatted as H:M:S, to days. Factors in GRACE_PERIOD.'''\n",
    "    h, m, s = time_str.split(':')\n",
    "    \n",
    "    # Floors at 0\n",
    "    hours = max(int(h) + int(m) / 60 + int(s) / (60 * 60) - GRACE_PERIOD, 0)\n",
    "    \n",
    "    return int(np.ceil(hours / 24))"
   ]
  },
  {
   "cell_type": "markdown",
   "metadata": {},
   "source": [
    "For each student, compute the number of slip days they used per assignment."
   ]
  },
  {
   "cell_type": "code",
   "execution_count": 12,
   "metadata": {
    "execution": {
     "iopub.execute_input": "2024-03-24T22:51:24.351284Z",
     "iopub.status.busy": "2024-03-24T22:51:24.351215Z",
     "iopub.status.idle": "2024-03-24T22:51:24.358044Z",
     "shell.execute_reply": "2024-03-24T22:51:24.357776Z"
    }
   },
   "outputs": [],
   "source": [
    "for assignment in assignment_order:\n",
    "    df[f'{assignment} Slip Days'] = df[f'{assignment} - Lateness (H:M:S)'].apply(string_to_days)"
   ]
  },
  {
   "cell_type": "code",
   "execution_count": 13,
   "metadata": {
    "execution": {
     "iopub.execute_input": "2024-03-24T22:51:24.359278Z",
     "iopub.status.busy": "2024-03-24T22:51:24.359204Z",
     "iopub.status.idle": "2024-03-24T22:51:24.360669Z",
     "shell.execute_reply": "2024-03-24T22:51:24.360430Z"
    }
   },
   "outputs": [],
   "source": [
    "# df['Project 5 Slip Days']#.loc['A16481071']"
   ]
  },
  {
   "cell_type": "markdown",
   "metadata": {},
   "source": [
    "Then, look in the exceptions sheet. For each student there, replace their number of slip days with what the sheet says."
   ]
  },
  {
   "cell_type": "code",
   "execution_count": 14,
   "metadata": {
    "execution": {
     "iopub.execute_input": "2024-03-24T22:51:24.362074Z",
     "iopub.status.busy": "2024-03-24T22:51:24.361997Z",
     "iopub.status.idle": "2024-03-24T22:51:24.363517Z",
     "shell.execute_reply": "2024-03-24T22:51:24.363268Z"
    },
    "scrolled": true
   },
   "outputs": [],
   "source": [
    "# for idx, row in exceptions.iterrows():\n",
    "#     pid = row['PID']\n",
    "    \n",
    "#     if pid in df.index.values:\n",
    "#         name = df.loc[pid, 'Name']\n",
    "#         assignment = row['Assignment']\n",
    "#         new_slip_days = row['Slip Days']\n",
    "\n",
    "#         print(f\"{name} had {df.loc[pid, assignment + ' Slip Days']} slip days on {assignment} but now has {new_slip_days}.\")\n",
    "\n",
    "#         df.loc[pid, assignment + ' Slip Days'] = new_slip_days\n",
    "#     else:\n",
    "#         print(pid, 'no longer in class')"
   ]
  },
  {
   "cell_type": "code",
   "execution_count": 15,
   "metadata": {
    "execution": {
     "iopub.execute_input": "2024-03-24T22:51:24.364719Z",
     "iopub.status.busy": "2024-03-24T22:51:24.364653Z",
     "iopub.status.idle": "2024-03-24T22:51:24.366054Z",
     "shell.execute_reply": "2024-03-24T22:51:24.365823Z"
    }
   },
   "outputs": [],
   "source": [
    "# if exceptions.loc[(exceptions['PID'] == 'A16660228') & (exceptions['Assignment'] == 'Lab 3'), :].shape[0] > 0:\n",
    "#     print(True)"
   ]
  },
  {
   "cell_type": "code",
   "execution_count": 16,
   "metadata": {
    "execution": {
     "iopub.execute_input": "2024-03-24T22:51:24.367264Z",
     "iopub.status.busy": "2024-03-24T22:51:24.367179Z",
     "iopub.status.idle": "2024-03-24T22:51:24.368593Z",
     "shell.execute_reply": "2024-03-24T22:51:24.368371Z"
    }
   },
   "outputs": [],
   "source": [
    "# exceptions"
   ]
  },
  {
   "cell_type": "markdown",
   "metadata": {},
   "source": [
    "### Giving Back Slip Days\n",
    "\n",
    "If a student used slip days on their lowest homework or lab, they need to get those slip days back. We identify such cases below in the `to_adjust` dictionary and saved them to `sheets/adjustments.json`, which we now load as `adjustments`."
   ]
  },
  {
   "cell_type": "code",
   "execution_count": 17,
   "metadata": {
    "execution": {
     "iopub.execute_input": "2024-03-24T22:51:24.369892Z",
     "iopub.status.busy": "2024-03-24T22:51:24.369824Z",
     "iopub.status.idle": "2024-03-24T22:51:24.371344Z",
     "shell.execute_reply": "2024-03-24T22:51:24.371125Z"
    }
   },
   "outputs": [],
   "source": [
    "# def zero_out(pid, assignment):\n",
    "#     df.loc[pid, assignment] = 0.0\n",
    "#     df.loc[pid, assignment + ' Slip Days'] = 0\n",
    "#     print(f\"Removed {pid}'s submission of {assignment}\")"
   ]
  },
  {
   "cell_type": "code",
   "execution_count": 18,
   "metadata": {
    "execution": {
     "iopub.execute_input": "2024-03-24T22:51:24.372549Z",
     "iopub.status.busy": "2024-03-24T22:51:24.372485Z",
     "iopub.status.idle": "2024-03-24T22:51:24.373953Z",
     "shell.execute_reply": "2024-03-24T22:51:24.373690Z"
    }
   },
   "outputs": [],
   "source": [
    "# adj_path = 'sheets/adjustments.json'\n",
    "# if os.path.exists(adj_path):\n",
    "#     with open(adj_path, 'r') as f:\n",
    "#         adjustments = json.load(f)\n",
    "        \n",
    "#     for pid in adjustments:\n",
    "#         for assignment in adjustments[pid]:\n",
    "#             zero_out(pid, assignment)\n",
    "            \n",
    "# else:\n",
    "#     print('sheets/adjustments.json not found.')"
   ]
  },
  {
   "cell_type": "markdown",
   "metadata": {},
   "source": [
    "### Calculating category totals with drops"
   ]
  },
  {
   "cell_type": "code",
   "execution_count": 19,
   "metadata": {
    "execution": {
     "iopub.execute_input": "2024-03-24T22:51:24.375266Z",
     "iopub.status.busy": "2024-03-24T22:51:24.375194Z",
     "iopub.status.idle": "2024-03-24T22:51:24.376935Z",
     "shell.execute_reply": "2024-03-24T22:51:24.376648Z"
    }
   },
   "outputs": [],
   "source": [
    "# Helper functions/variables for all assignment types\n",
    "def get_proportion_assignment(r, assignment_name):\n",
    "    num = r[assignment_name]\n",
    "    den = r[assignment_name + ' - Max Points']\n",
    "    \n",
    "    return num / den"
   ]
  },
  {
   "cell_type": "markdown",
   "metadata": {},
   "source": [
    "## LABS"
   ]
  },
  {
   "cell_type": "markdown",
   "metadata": {},
   "source": [
    "Calculate the proportion per lab"
   ]
  },
  {
   "cell_type": "code",
   "execution_count": 20,
   "metadata": {
    "execution": {
     "iopub.execute_input": "2024-03-24T22:51:24.378237Z",
     "iopub.status.busy": "2024-03-24T22:51:24.378171Z",
     "iopub.status.idle": "2024-03-24T22:51:24.390032Z",
     "shell.execute_reply": "2024-03-24T22:51:24.389789Z"
    }
   },
   "outputs": [],
   "source": [
    "for i in range(1, NUM_LABS + 1):\n",
    "    assignment_name = f'Lab {i}'\n",
    "    df[assignment_name + ' Raw'] = df.apply(get_proportion_assignment, axis=1, assignment_name=assignment_name)"
   ]
  },
  {
   "cell_type": "markdown",
   "metadata": {},
   "source": [
    "If you want to release other lab grades zeroed out, run the cell below"
   ]
  },
  {
   "cell_type": "code",
   "execution_count": 21,
   "metadata": {
    "execution": {
     "iopub.execute_input": "2024-03-24T22:51:24.391407Z",
     "iopub.status.busy": "2024-03-24T22:51:24.391339Z",
     "iopub.status.idle": "2024-03-24T22:51:24.392713Z",
     "shell.execute_reply": "2024-03-24T22:51:24.392484Z"
    }
   },
   "outputs": [],
   "source": [
    "# # zeroing out the labs that haven't been released or graded yet\n",
    "# for i in range(NUM_LABS+1, MAX_LABS+1):\n",
    "#     assignment_name = f'Lab {i}'\n",
    "#     df[assignment_name] = 0\n",
    "#     df[assignment_name + ' - Max Points'] = 0\n",
    "#     df[assignment_name + ' Raw'] = 0\n",
    "#     df[assignment_name + ' Slip Days'] = 0 # need to output the number of slip days per assignment"
   ]
  },
  {
   "cell_type": "markdown",
   "metadata": {},
   "source": [
    "## Projects"
   ]
  },
  {
   "cell_type": "markdown",
   "metadata": {},
   "source": [
    "Here we calculate the proportions per Projects"
   ]
  },
  {
   "cell_type": "code",
   "execution_count": 22,
   "metadata": {
    "execution": {
     "iopub.execute_input": "2024-03-24T22:51:24.394032Z",
     "iopub.status.busy": "2024-03-24T22:51:24.393966Z",
     "iopub.status.idle": "2024-03-24T22:51:24.400260Z",
     "shell.execute_reply": "2024-03-24T22:51:24.400030Z"
    }
   },
   "outputs": [],
   "source": [
    "for i in range(1, NUM_PROJECTS+1):\n",
    "    assignment_name = f'Project {i}'\n",
    "    df[assignment_name + ' Raw'] = df.apply(get_proportion_assignment, axis=1, assignment_name=assignment_name)"
   ]
  },
  {
   "cell_type": "code",
   "execution_count": 23,
   "metadata": {
    "execution": {
     "iopub.execute_input": "2024-03-24T22:51:24.401517Z",
     "iopub.status.busy": "2024-03-24T22:51:24.401450Z",
     "iopub.status.idle": "2024-03-24T22:51:24.403333Z",
     "shell.execute_reply": "2024-03-24T22:51:24.403092Z"
    }
   },
   "outputs": [],
   "source": [
    "# zeroing out the projects that haven't been released or graded yet\n",
    "for i in range(NUM_PROJECTS+1, MAX_PROJECTS+1):\n",
    "    # if i == 4:\n",
    "    #     i = \"4A\"\n",
    "    # elif i == 5:\n",
    "    #     i = \"4B\"\n",
    "    assignment_name = f'Project {i}'\n",
    "    df[assignment_name] = 0\n",
    "    df[assignment_name + ' - Max Points'] = 0\n",
    "    df[assignment_name + ' Raw'] = 0\n",
    "    df[assignment_name + ' Slip Days'] = 0 # need to output the number of slip days per assignment"
   ]
  },
  {
   "cell_type": "code",
   "execution_count": 24,
   "metadata": {
    "execution": {
     "iopub.execute_input": "2024-03-24T22:51:24.404561Z",
     "iopub.status.busy": "2024-03-24T22:51:24.404494Z",
     "iopub.status.idle": "2024-03-24T22:51:24.406279Z",
     "shell.execute_reply": "2024-03-24T22:51:24.406053Z"
    }
   },
   "outputs": [],
   "source": [
    "def calculate_project_total(r):\n",
    "    project_scores = r[[f'Project {i} Raw' for i in range(1, MAX_PROJECTS+1)] + ['Project 4 Raw']].fillna(0)\n",
    "    project_scores = np.sort(project_scores)\n",
    "    return project_scores.mean()"
   ]
  },
  {
   "cell_type": "code",
   "execution_count": 25,
   "metadata": {},
   "outputs": [
    {
     "data": {
      "text/plain": [
       "Project 1 Raw    0.893443\n",
       "Project 2 Raw    0.970874\n",
       "Project 3 Raw        0.91\n",
       "Project 4 Raw       0.975\n",
       "Name: A16681759, dtype: object"
      ]
     },
     "execution_count": 25,
     "metadata": {},
     "output_type": "execute_result"
    }
   ],
   "source": [
    "df.loc['A16681759', ['Project 1 Raw', 'Project 2 Raw', 'Project 3 Raw', 'Project 4 Raw']]"
   ]
  },
  {
   "cell_type": "code",
   "execution_count": 26,
   "metadata": {
    "execution": {
     "iopub.execute_input": "2024-03-24T22:51:24.407572Z",
     "iopub.status.busy": "2024-03-24T22:51:24.407504Z",
     "iopub.status.idle": "2024-03-24T22:51:24.428883Z",
     "shell.execute_reply": "2024-03-24T22:51:24.428641Z"
    }
   },
   "outputs": [],
   "source": [
    "df['Project Total'] = df.apply(calculate_project_total, axis=1)"
   ]
  },
  {
   "cell_type": "code",
   "execution_count": 27,
   "metadata": {
    "execution": {
     "iopub.execute_input": "2024-03-24T22:51:24.430159Z",
     "iopub.status.busy": "2024-03-24T22:51:24.430086Z",
     "iopub.status.idle": "2024-03-24T22:51:24.433117Z",
     "shell.execute_reply": "2024-03-24T22:51:24.432885Z"
    }
   },
   "outputs": [
    {
     "data": {
      "text/plain": [
       "count    135.000000\n",
       "mean       0.877365\n",
       "std        0.139832\n",
       "min        0.000000\n",
       "25%        0.860075\n",
       "50%        0.906458\n",
       "75%        0.943043\n",
       "max        0.996117\n",
       "Name: Project Total, dtype: float64"
      ]
     },
     "execution_count": 27,
     "metadata": {},
     "output_type": "execute_result"
    }
   ],
   "source": [
    "df['Project Total'].describe()"
   ]
  },
  {
   "cell_type": "code",
   "execution_count": 28,
   "metadata": {
    "execution": {
     "iopub.execute_input": "2024-03-24T22:51:24.434429Z",
     "iopub.status.busy": "2024-03-24T22:51:24.434359Z",
     "iopub.status.idle": "2024-03-24T22:51:24.435828Z",
     "shell.execute_reply": "2024-03-24T22:51:24.435594Z"
    }
   },
   "outputs": [],
   "source": [
    "# df['Project Total'].head(50)"
   ]
  },
  {
   "cell_type": "markdown",
   "metadata": {},
   "source": [
    "## Project Checkpoints"
   ]
  },
  {
   "cell_type": "markdown",
   "metadata": {},
   "source": [
    "We assume that if a project is being calculated for we have a checkpoint to calculate"
   ]
  },
  {
   "cell_type": "code",
   "execution_count": 29,
   "metadata": {
    "execution": {
     "iopub.execute_input": "2024-03-24T22:51:24.437155Z",
     "iopub.status.busy": "2024-03-24T22:51:24.437089Z",
     "iopub.status.idle": "2024-03-24T22:51:24.443544Z",
     "shell.execute_reply": "2024-03-24T22:51:24.443313Z"
    }
   },
   "outputs": [],
   "source": [
    "for i in range(1, NUM_PROJECT_CHECKPOINTS+1):\n",
    "    assignment_name = f'Project {i} (Checkpoint)'\n",
    "    df[assignment_name + ' Raw'] = df.apply(get_proportion_assignment, axis=1, assignment_name=assignment_name)"
   ]
  },
  {
   "cell_type": "code",
   "execution_count": 30,
   "metadata": {
    "execution": {
     "iopub.execute_input": "2024-03-24T22:51:24.444823Z",
     "iopub.status.busy": "2024-03-24T22:51:24.444752Z",
     "iopub.status.idle": "2024-03-24T22:51:24.446873Z",
     "shell.execute_reply": "2024-03-24T22:51:24.446637Z"
    }
   },
   "outputs": [],
   "source": [
    "# zeroing out the project Checkpoints that haven't been released or graded yet\n",
    "for i in range(NUM_PROJECT_CHECKPOINTS+1, MAX_PROJECT_CHECKPOINTS+1):\n",
    "    # if i == 4:\n",
    "    #     i = \"4A\"\n",
    "    # elif i == 5:\n",
    "    #     i = \"4B\"\n",
    "    assignment_name = f'Project {i}'\n",
    "    df[assignment_name] = 0\n",
    "    df[assignment_name + ' - Max Points'] = 0\n",
    "    df[assignment_name + ' Raw'] = 0\n",
    "    df[assignment_name + ' Slip Days'] = 0 # need to output the number of slip days per assignment\n",
    "    assignment_name = f'Project {i} (Checkpoint)'\n",
    "    df[assignment_name] = 0\n",
    "    df[assignment_name + ' - Max Points'] = 0\n",
    "    df[assignment_name + ' Raw'] = 0\n",
    "    df[assignment_name + ' Slip Days'] = 0 # need to output the number of slip days per assignment"
   ]
  },
  {
   "cell_type": "code",
   "execution_count": 31,
   "metadata": {
    "execution": {
     "iopub.execute_input": "2024-03-24T22:51:24.448197Z",
     "iopub.status.busy": "2024-03-24T22:51:24.448130Z",
     "iopub.status.idle": "2024-03-24T22:51:24.449926Z",
     "shell.execute_reply": "2024-03-24T22:51:24.449699Z"
    }
   },
   "outputs": [],
   "source": [
    "def calculate_project_checkpoint_total(r):\n",
    "\n",
    "    # project_scores = r[[f'Project {i} (Checkpoint) Raw' if i <= 3 else 'Project 4A (Checkpoint) Raw' if i == 4 else 'Project 4B (Checkpoint) Raw' for i in range(1, MAX_PROJECT_CHECKPOINTS+1)]].fillna(0)\n",
    "    \n",
    "    project_scores = r[[f'Project {i} (Checkpoint) Raw' for i in range(1, MAX_PROJECT_CHECKPOINTS+1)] + ['Project 4 (Checkpoint) Raw']].fillna(0)\n",
    "    return project_scores.mean()"
   ]
  },
  {
   "cell_type": "code",
   "execution_count": 32,
   "metadata": {
    "execution": {
     "iopub.execute_input": "2024-03-24T22:51:24.451153Z",
     "iopub.status.busy": "2024-03-24T22:51:24.451086Z",
     "iopub.status.idle": "2024-03-24T22:51:24.473784Z",
     "shell.execute_reply": "2024-03-24T22:51:24.473526Z"
    }
   },
   "outputs": [],
   "source": [
    "df['Project Checkpoint Total'] = df.apply(calculate_project_checkpoint_total, axis=1)"
   ]
  },
  {
   "cell_type": "code",
   "execution_count": 33,
   "metadata": {
    "execution": {
     "iopub.execute_input": "2024-03-24T22:51:24.475177Z",
     "iopub.status.busy": "2024-03-24T22:51:24.475103Z",
     "iopub.status.idle": "2024-03-24T22:51:24.477900Z",
     "shell.execute_reply": "2024-03-24T22:51:24.477675Z"
    }
   },
   "outputs": [
    {
     "data": {
      "text/plain": [
       "count    135.000000\n",
       "mean       0.959741\n",
       "std        0.166046\n",
       "min        0.000000\n",
       "25%        1.000000\n",
       "50%        1.000000\n",
       "75%        1.000000\n",
       "max        1.000000\n",
       "Name: Project Checkpoint Total, dtype: float64"
      ]
     },
     "execution_count": 33,
     "metadata": {},
     "output_type": "execute_result"
    }
   ],
   "source": [
    "df['Project Checkpoint Total'].describe()"
   ]
  },
  {
   "cell_type": "code",
   "execution_count": 34,
   "metadata": {
    "execution": {
     "iopub.execute_input": "2024-03-24T22:51:24.479175Z",
     "iopub.status.busy": "2024-03-24T22:51:24.479105Z",
     "iopub.status.idle": "2024-03-24T22:51:24.481685Z",
     "shell.execute_reply": "2024-03-24T22:51:24.481441Z"
    }
   },
   "outputs": [
    {
     "data": {
      "text/plain": [
       "Name                                   Hana Tjendrawasi\n",
       "Email                             htjendrawasi@ucsd.edu\n",
       "Lab 1                                              83.0\n",
       "Lab 1 - Max Points                                123.0\n",
       "Lab 1 - Submission Time       2024-01-17 11:48:42 -0800\n",
       "                                        ...            \n",
       "Project 1 (Checkpoint) Raw                          1.0\n",
       "Project 2 (Checkpoint) Raw                          1.0\n",
       "Project 3 (Checkpoint) Raw                          1.0\n",
       "Project 4 (Checkpoint) Raw                          0.1\n",
       "Project Checkpoint Total                           0.64\n",
       "Name: A17417301, Length: 191, dtype: object"
      ]
     },
     "execution_count": 34,
     "metadata": {},
     "output_type": "execute_result"
    }
   ],
   "source": [
    "df.loc['A17417301']#[[f'Project {i} (Checkpoint) Raw' for i in range(1, MAX_PROJECT_CHECKPOINTS+1)]]"
   ]
  },
  {
   "cell_type": "markdown",
   "metadata": {},
   "source": [
    "### Apply extension and days"
   ]
  },
  {
   "cell_type": "markdown",
   "metadata": {},
   "source": [
    "Applies the appropriate slip days (accounting for extensions) to assignments"
   ]
  },
  {
   "cell_type": "code",
   "execution_count": 35,
   "metadata": {
    "execution": {
     "iopub.execute_input": "2024-03-24T22:51:24.483007Z",
     "iopub.status.busy": "2024-03-24T22:51:24.482936Z",
     "iopub.status.idle": "2024-03-24T22:51:24.484801Z",
     "shell.execute_reply": "2024-03-24T22:51:24.484580Z"
    }
   },
   "outputs": [],
   "source": [
    "def lowest_lab_name(row):\n",
    "    lab_rows = row[row.index.isin([f'Lab {i+1} Raw' for i in range(0, NUM_LABS)])]\n",
    "    lowest_lab_index = lab_rows.astype(float).argmin()\n",
    "    lowest_lab_name = lab_rows.index[lowest_lab_index].strip(' Raw')\n",
    "    \n",
    "    return lowest_lab_name"
   ]
  },
  {
   "cell_type": "code",
   "execution_count": 36,
   "metadata": {
    "execution": {
     "iopub.execute_input": "2024-03-24T22:51:24.486134Z",
     "iopub.status.busy": "2024-03-24T22:51:24.486062Z",
     "iopub.status.idle": "2024-03-24T22:51:24.488759Z",
     "shell.execute_reply": "2024-03-24T22:51:24.488531Z"
    }
   },
   "outputs": [],
   "source": [
    "def process_slip_days_for_row(r):\n",
    "    slip_days = 0\n",
    "    accepted_late_assignments = []\n",
    "    not_accepted_late_assignments = []\n",
    "\n",
    "    lowest_lab = lowest_lab_name(r)\n",
    "\n",
    "    pid = r.name\n",
    "\n",
    "    # iterate through assigments in priority order\n",
    "    for assignment in assignment_order:\n",
    "        # skip lowest lab\n",
    "        if assignment == lowest_lab:\n",
    "            df.loc[pid, f'{assignment} Slip Days'] = 0\n",
    "            continue\n",
    "        \n",
    "        # don't use slip days on lab if it's over 1 day or if \n",
    "        # if exceptions.loc[(exceptions['PID'] == pid) & (exceptions['Assignment'] == assignment), :].shape[0] > 0:\n",
    "        #     continue\n",
    "\n",
    "        # check how many slip days were used on the current assignment\n",
    "        assignment_slip_days = r.loc[f'{assignment} Slip Days']\n",
    "        \n",
    "        # slip days were used\n",
    "        if assignment_slip_days > 0:\n",
    "            # if there aren't enough slip days available\n",
    "            # add to the not accepted list\n",
    "            if slip_days + assignment_slip_days <= 7:\n",
    "                # add the slip days used to total amount used\n",
    "                slip_days += assignment_slip_days\n",
    "                accepted_late_assignments.append(assignment)\n",
    "            else:\n",
    "                not_accepted_late_assignments.append(assignment)\n",
    "    return slip_days, accepted_late_assignments,  not_accepted_late_assignments\n",
    "\n",
    "def show_slip_days(pid):\n",
    "    return df.loc[pid, df.columns[df.columns.str.contains('Slip Days')]].iloc[0]"
   ]
  },
  {
   "cell_type": "markdown",
   "metadata": {},
   "source": [
    "### Calculate Slip Days and add to DataFrame"
   ]
  },
  {
   "cell_type": "code",
   "execution_count": 37,
   "metadata": {
    "execution": {
     "iopub.execute_input": "2024-03-24T22:51:24.490012Z",
     "iopub.status.busy": "2024-03-24T22:51:24.489942Z",
     "iopub.status.idle": "2024-03-24T22:51:24.499136Z",
     "shell.execute_reply": "2024-03-24T22:51:24.498901Z"
    }
   },
   "outputs": [
    {
     "data": {
      "text/html": [
       "<div>\n",
       "<style scoped>\n",
       "    .dataframe tbody tr th:only-of-type {\n",
       "        vertical-align: middle;\n",
       "    }\n",
       "\n",
       "    .dataframe tbody tr th {\n",
       "        vertical-align: top;\n",
       "    }\n",
       "\n",
       "    .dataframe thead th {\n",
       "        text-align: right;\n",
       "    }\n",
       "</style>\n",
       "<table border=\"1\" class=\"dataframe\">\n",
       "  <thead>\n",
       "    <tr style=\"text-align: right;\">\n",
       "      <th></th>\n",
       "      <th>Name</th>\n",
       "      <th>Email</th>\n",
       "      <th>Lab 1</th>\n",
       "      <th>Lab 1 - Max Points</th>\n",
       "      <th>Lab 1 - Submission Time</th>\n",
       "      <th>Lab 1 - Lateness (H:M:S)</th>\n",
       "      <th>Discussion 1 Reflection</th>\n",
       "      <th>Discussion 1 Reflection - Max Points</th>\n",
       "      <th>Discussion 1 Reflection - Submission Time</th>\n",
       "      <th>Discussion 1 Reflection - Lateness (H:M:S)</th>\n",
       "      <th>...</th>\n",
       "      <th>Project 1 Raw</th>\n",
       "      <th>Project 2 Raw</th>\n",
       "      <th>Project 3 Raw</th>\n",
       "      <th>Project 4 Raw</th>\n",
       "      <th>Project Total</th>\n",
       "      <th>Project 1 (Checkpoint) Raw</th>\n",
       "      <th>Project 2 (Checkpoint) Raw</th>\n",
       "      <th>Project 3 (Checkpoint) Raw</th>\n",
       "      <th>Project 4 (Checkpoint) Raw</th>\n",
       "      <th>Project Checkpoint Total</th>\n",
       "    </tr>\n",
       "    <tr>\n",
       "      <th>SID</th>\n",
       "      <th></th>\n",
       "      <th></th>\n",
       "      <th></th>\n",
       "      <th></th>\n",
       "      <th></th>\n",
       "      <th></th>\n",
       "      <th></th>\n",
       "      <th></th>\n",
       "      <th></th>\n",
       "      <th></th>\n",
       "      <th></th>\n",
       "      <th></th>\n",
       "      <th></th>\n",
       "      <th></th>\n",
       "      <th></th>\n",
       "      <th></th>\n",
       "      <th></th>\n",
       "      <th></th>\n",
       "      <th></th>\n",
       "      <th></th>\n",
       "      <th></th>\n",
       "    </tr>\n",
       "  </thead>\n",
       "  <tbody>\n",
       "    <tr>\n",
       "      <th>A16681759</th>\n",
       "      <td>Aakash Davasam</td>\n",
       "      <td>adavasam@ucsd.edu</td>\n",
       "      <td>105.0</td>\n",
       "      <td>123.0</td>\n",
       "      <td>2024-01-17 16:46:26 -0800</td>\n",
       "      <td>00:00:00</td>\n",
       "      <td>NaN</td>\n",
       "      <td>0.0</td>\n",
       "      <td>NaN</td>\n",
       "      <td>00:00:00</td>\n",
       "      <td>...</td>\n",
       "      <td>0.893443</td>\n",
       "      <td>0.970874</td>\n",
       "      <td>0.91</td>\n",
       "      <td>0.9750</td>\n",
       "      <td>0.944863</td>\n",
       "      <td>1.000000</td>\n",
       "      <td>NaN</td>\n",
       "      <td>1.0</td>\n",
       "      <td>1.0</td>\n",
       "      <td>0.800000</td>\n",
       "    </tr>\n",
       "    <tr>\n",
       "      <th>A17451764</th>\n",
       "      <td>Aile Banuelos</td>\n",
       "      <td>aibanuelos@ucsd.edu</td>\n",
       "      <td>92.0</td>\n",
       "      <td>123.0</td>\n",
       "      <td>2024-01-17 16:57:25 -0800</td>\n",
       "      <td>00:00:00</td>\n",
       "      <td>NaN</td>\n",
       "      <td>0.0</td>\n",
       "      <td>NaN</td>\n",
       "      <td>00:00:00</td>\n",
       "      <td>...</td>\n",
       "      <td>0.622951</td>\n",
       "      <td>0.786408</td>\n",
       "      <td>0.68</td>\n",
       "      <td>0.7125</td>\n",
       "      <td>0.702872</td>\n",
       "      <td>0.846154</td>\n",
       "      <td>1.0</td>\n",
       "      <td>1.0</td>\n",
       "      <td>1.0</td>\n",
       "      <td>0.969231</td>\n",
       "    </tr>\n",
       "    <tr>\n",
       "      <th>A18158053</th>\n",
       "      <td>Ailinna Zhang</td>\n",
       "      <td>aiz007@ucsd.edu</td>\n",
       "      <td>112.0</td>\n",
       "      <td>123.0</td>\n",
       "      <td>2024-01-13 10:41:27 -0800</td>\n",
       "      <td>00:00:00</td>\n",
       "      <td>0.0</td>\n",
       "      <td>0.0</td>\n",
       "      <td>2024-01-11 10:06:08 -0800</td>\n",
       "      <td>00:00:00</td>\n",
       "      <td>...</td>\n",
       "      <td>0.893443</td>\n",
       "      <td>1.000000</td>\n",
       "      <td>0.90</td>\n",
       "      <td>0.9700</td>\n",
       "      <td>0.946689</td>\n",
       "      <td>1.000000</td>\n",
       "      <td>1.0</td>\n",
       "      <td>1.0</td>\n",
       "      <td>1.0</td>\n",
       "      <td>1.000000</td>\n",
       "    </tr>\n",
       "    <tr>\n",
       "      <th>A17332208</th>\n",
       "      <td>Akshay Medidi</td>\n",
       "      <td>amedidi@ucsd.edu</td>\n",
       "      <td>116.0</td>\n",
       "      <td>123.0</td>\n",
       "      <td>2024-01-17 06:16:01 -0800</td>\n",
       "      <td>00:00:00</td>\n",
       "      <td>0.0</td>\n",
       "      <td>0.0</td>\n",
       "      <td>2024-01-11 11:41:32 -0800</td>\n",
       "      <td>00:00:00</td>\n",
       "      <td>...</td>\n",
       "      <td>0.795082</td>\n",
       "      <td>0.699029</td>\n",
       "      <td>0.85</td>\n",
       "      <td>0.9000</td>\n",
       "      <td>0.828822</td>\n",
       "      <td>1.000000</td>\n",
       "      <td>1.0</td>\n",
       "      <td>1.0</td>\n",
       "      <td>1.0</td>\n",
       "      <td>1.000000</td>\n",
       "    </tr>\n",
       "    <tr>\n",
       "      <th>A16683762</th>\n",
       "      <td>Aleck Wu</td>\n",
       "      <td>a5wu@ucsd.edu</td>\n",
       "      <td>121.0</td>\n",
       "      <td>123.0</td>\n",
       "      <td>2024-01-16 20:12:02 -0800</td>\n",
       "      <td>00:00:00</td>\n",
       "      <td>NaN</td>\n",
       "      <td>0.0</td>\n",
       "      <td>NaN</td>\n",
       "      <td>00:00:00</td>\n",
       "      <td>...</td>\n",
       "      <td>0.877049</td>\n",
       "      <td>0.825243</td>\n",
       "      <td>0.83</td>\n",
       "      <td>1.0000</td>\n",
       "      <td>0.906458</td>\n",
       "      <td>1.000000</td>\n",
       "      <td>1.0</td>\n",
       "      <td>1.0</td>\n",
       "      <td>1.0</td>\n",
       "      <td>1.000000</td>\n",
       "    </tr>\n",
       "    <tr>\n",
       "      <th>...</th>\n",
       "      <td>...</td>\n",
       "      <td>...</td>\n",
       "      <td>...</td>\n",
       "      <td>...</td>\n",
       "      <td>...</td>\n",
       "      <td>...</td>\n",
       "      <td>...</td>\n",
       "      <td>...</td>\n",
       "      <td>...</td>\n",
       "      <td>...</td>\n",
       "      <td>...</td>\n",
       "      <td>...</td>\n",
       "      <td>...</td>\n",
       "      <td>...</td>\n",
       "      <td>...</td>\n",
       "      <td>...</td>\n",
       "      <td>...</td>\n",
       "      <td>...</td>\n",
       "      <td>...</td>\n",
       "      <td>...</td>\n",
       "      <td>...</td>\n",
       "    </tr>\n",
       "    <tr>\n",
       "      <th>A16414249</th>\n",
       "      <td>Zening Wang</td>\n",
       "      <td>zew003@ucsd.edu</td>\n",
       "      <td>96.0</td>\n",
       "      <td>123.0</td>\n",
       "      <td>2024-01-17 22:47:09 -0800</td>\n",
       "      <td>00:00:09</td>\n",
       "      <td>NaN</td>\n",
       "      <td>0.0</td>\n",
       "      <td>NaN</td>\n",
       "      <td>00:00:00</td>\n",
       "      <td>...</td>\n",
       "      <td>0.811475</td>\n",
       "      <td>0.912621</td>\n",
       "      <td>0.72</td>\n",
       "      <td>0.9900</td>\n",
       "      <td>0.884819</td>\n",
       "      <td>1.000000</td>\n",
       "      <td>1.0</td>\n",
       "      <td>1.0</td>\n",
       "      <td>1.0</td>\n",
       "      <td>1.000000</td>\n",
       "    </tr>\n",
       "    <tr>\n",
       "      <th>A17462025</th>\n",
       "      <td>Zhenghao Gong</td>\n",
       "      <td>z3gong@ucsd.edu</td>\n",
       "      <td>107.0</td>\n",
       "      <td>123.0</td>\n",
       "      <td>2024-01-15 08:38:00 -0800</td>\n",
       "      <td>00:00:00</td>\n",
       "      <td>0.0</td>\n",
       "      <td>0.0</td>\n",
       "      <td>2024-01-10 21:31:42 -0800</td>\n",
       "      <td>00:00:00</td>\n",
       "      <td>...</td>\n",
       "      <td>0.975410</td>\n",
       "      <td>0.902913</td>\n",
       "      <td>0.91</td>\n",
       "      <td>0.9850</td>\n",
       "      <td>0.951664</td>\n",
       "      <td>1.000000</td>\n",
       "      <td>1.0</td>\n",
       "      <td>1.0</td>\n",
       "      <td>1.0</td>\n",
       "      <td>1.000000</td>\n",
       "    </tr>\n",
       "    <tr>\n",
       "      <th>A16227798</th>\n",
       "      <td>Zhihan Li</td>\n",
       "      <td>zhl023@ucsd.edu</td>\n",
       "      <td>116.0</td>\n",
       "      <td>123.0</td>\n",
       "      <td>2024-01-17 01:28:26 -0800</td>\n",
       "      <td>00:00:00</td>\n",
       "      <td>NaN</td>\n",
       "      <td>0.0</td>\n",
       "      <td>NaN</td>\n",
       "      <td>00:00:00</td>\n",
       "      <td>...</td>\n",
       "      <td>0.926230</td>\n",
       "      <td>1.000000</td>\n",
       "      <td>0.93</td>\n",
       "      <td>0.8575</td>\n",
       "      <td>0.914246</td>\n",
       "      <td>1.000000</td>\n",
       "      <td>1.0</td>\n",
       "      <td>1.0</td>\n",
       "      <td>1.0</td>\n",
       "      <td>1.000000</td>\n",
       "    </tr>\n",
       "    <tr>\n",
       "      <th>A16420131</th>\n",
       "      <td>Ziting Xiong</td>\n",
       "      <td>zixiong@ucsd.edu</td>\n",
       "      <td>NaN</td>\n",
       "      <td>123.0</td>\n",
       "      <td>NaN</td>\n",
       "      <td>00:00:00</td>\n",
       "      <td>NaN</td>\n",
       "      <td>0.0</td>\n",
       "      <td>NaN</td>\n",
       "      <td>00:00:00</td>\n",
       "      <td>...</td>\n",
       "      <td>NaN</td>\n",
       "      <td>NaN</td>\n",
       "      <td>NaN</td>\n",
       "      <td>NaN</td>\n",
       "      <td>0.000000</td>\n",
       "      <td>NaN</td>\n",
       "      <td>NaN</td>\n",
       "      <td>NaN</td>\n",
       "      <td>NaN</td>\n",
       "      <td>0.000000</td>\n",
       "    </tr>\n",
       "    <tr>\n",
       "      <th>A17427885</th>\n",
       "      <td>Zoey He</td>\n",
       "      <td>jih084@ucsd.edu</td>\n",
       "      <td>119.0</td>\n",
       "      <td>123.0</td>\n",
       "      <td>2024-01-17 13:26:12 -0800</td>\n",
       "      <td>00:00:00</td>\n",
       "      <td>NaN</td>\n",
       "      <td>0.0</td>\n",
       "      <td>NaN</td>\n",
       "      <td>00:00:00</td>\n",
       "      <td>...</td>\n",
       "      <td>0.877049</td>\n",
       "      <td>0.864078</td>\n",
       "      <td>0.85</td>\n",
       "      <td>1.0000</td>\n",
       "      <td>0.918225</td>\n",
       "      <td>1.000000</td>\n",
       "      <td>1.0</td>\n",
       "      <td>1.0</td>\n",
       "      <td>1.0</td>\n",
       "      <td>1.000000</td>\n",
       "    </tr>\n",
       "  </tbody>\n",
       "</table>\n",
       "<p>135 rows × 191 columns</p>\n",
       "</div>"
      ],
      "text/plain": [
       "                     Name                Email  Lab 1  Lab 1 - Max Points  \\\n",
       "SID                                                                         \n",
       "A16681759  Aakash Davasam    adavasam@ucsd.edu  105.0               123.0   \n",
       "A17451764   Aile Banuelos  aibanuelos@ucsd.edu   92.0               123.0   \n",
       "A18158053   Ailinna Zhang      aiz007@ucsd.edu  112.0               123.0   \n",
       "A17332208   Akshay Medidi     amedidi@ucsd.edu  116.0               123.0   \n",
       "A16683762        Aleck Wu        a5wu@ucsd.edu  121.0               123.0   \n",
       "...                   ...                  ...    ...                 ...   \n",
       "A16414249     Zening Wang      zew003@ucsd.edu   96.0               123.0   \n",
       "A17462025   Zhenghao Gong      z3gong@ucsd.edu  107.0               123.0   \n",
       "A16227798       Zhihan Li      zhl023@ucsd.edu  116.0               123.0   \n",
       "A16420131    Ziting Xiong     zixiong@ucsd.edu    NaN               123.0   \n",
       "A17427885         Zoey He      jih084@ucsd.edu  119.0               123.0   \n",
       "\n",
       "             Lab 1 - Submission Time Lab 1 - Lateness (H:M:S)  \\\n",
       "SID                                                             \n",
       "A16681759  2024-01-17 16:46:26 -0800                 00:00:00   \n",
       "A17451764  2024-01-17 16:57:25 -0800                 00:00:00   \n",
       "A18158053  2024-01-13 10:41:27 -0800                 00:00:00   \n",
       "A17332208  2024-01-17 06:16:01 -0800                 00:00:00   \n",
       "A16683762  2024-01-16 20:12:02 -0800                 00:00:00   \n",
       "...                              ...                      ...   \n",
       "A16414249  2024-01-17 22:47:09 -0800                 00:00:09   \n",
       "A17462025  2024-01-15 08:38:00 -0800                 00:00:00   \n",
       "A16227798  2024-01-17 01:28:26 -0800                 00:00:00   \n",
       "A16420131                        NaN                 00:00:00   \n",
       "A17427885  2024-01-17 13:26:12 -0800                 00:00:00   \n",
       "\n",
       "           Discussion 1 Reflection  Discussion 1 Reflection - Max Points  \\\n",
       "SID                                                                        \n",
       "A16681759                      NaN                                   0.0   \n",
       "A17451764                      NaN                                   0.0   \n",
       "A18158053                      0.0                                   0.0   \n",
       "A17332208                      0.0                                   0.0   \n",
       "A16683762                      NaN                                   0.0   \n",
       "...                            ...                                   ...   \n",
       "A16414249                      NaN                                   0.0   \n",
       "A17462025                      0.0                                   0.0   \n",
       "A16227798                      NaN                                   0.0   \n",
       "A16420131                      NaN                                   0.0   \n",
       "A17427885                      NaN                                   0.0   \n",
       "\n",
       "          Discussion 1 Reflection - Submission Time  \\\n",
       "SID                                                   \n",
       "A16681759                                       NaN   \n",
       "A17451764                                       NaN   \n",
       "A18158053                 2024-01-11 10:06:08 -0800   \n",
       "A17332208                 2024-01-11 11:41:32 -0800   \n",
       "A16683762                                       NaN   \n",
       "...                                             ...   \n",
       "A16414249                                       NaN   \n",
       "A17462025                 2024-01-10 21:31:42 -0800   \n",
       "A16227798                                       NaN   \n",
       "A16420131                                       NaN   \n",
       "A17427885                                       NaN   \n",
       "\n",
       "          Discussion 1 Reflection - Lateness (H:M:S)  ...  Project 1 Raw  \\\n",
       "SID                                                   ...                  \n",
       "A16681759                                   00:00:00  ...       0.893443   \n",
       "A17451764                                   00:00:00  ...       0.622951   \n",
       "A18158053                                   00:00:00  ...       0.893443   \n",
       "A17332208                                   00:00:00  ...       0.795082   \n",
       "A16683762                                   00:00:00  ...       0.877049   \n",
       "...                                              ...  ...            ...   \n",
       "A16414249                                   00:00:00  ...       0.811475   \n",
       "A17462025                                   00:00:00  ...       0.975410   \n",
       "A16227798                                   00:00:00  ...       0.926230   \n",
       "A16420131                                   00:00:00  ...            NaN   \n",
       "A17427885                                   00:00:00  ...       0.877049   \n",
       "\n",
       "           Project 2 Raw Project 3 Raw Project 4 Raw  Project Total  \\\n",
       "SID                                                                   \n",
       "A16681759       0.970874          0.91        0.9750       0.944863   \n",
       "A17451764       0.786408          0.68        0.7125       0.702872   \n",
       "A18158053       1.000000          0.90        0.9700       0.946689   \n",
       "A17332208       0.699029          0.85        0.9000       0.828822   \n",
       "A16683762       0.825243          0.83        1.0000       0.906458   \n",
       "...                  ...           ...           ...            ...   \n",
       "A16414249       0.912621          0.72        0.9900       0.884819   \n",
       "A17462025       0.902913          0.91        0.9850       0.951664   \n",
       "A16227798       1.000000          0.93        0.8575       0.914246   \n",
       "A16420131            NaN           NaN           NaN       0.000000   \n",
       "A17427885       0.864078          0.85        1.0000       0.918225   \n",
       "\n",
       "           Project 1 (Checkpoint) Raw Project 2 (Checkpoint) Raw  \\\n",
       "SID                                                                \n",
       "A16681759                    1.000000                        NaN   \n",
       "A17451764                    0.846154                        1.0   \n",
       "A18158053                    1.000000                        1.0   \n",
       "A17332208                    1.000000                        1.0   \n",
       "A16683762                    1.000000                        1.0   \n",
       "...                               ...                        ...   \n",
       "A16414249                    1.000000                        1.0   \n",
       "A17462025                    1.000000                        1.0   \n",
       "A16227798                    1.000000                        1.0   \n",
       "A16420131                         NaN                        NaN   \n",
       "A17427885                    1.000000                        1.0   \n",
       "\n",
       "          Project 3 (Checkpoint) Raw  Project 4 (Checkpoint) Raw  \\\n",
       "SID                                                                \n",
       "A16681759                        1.0                         1.0   \n",
       "A17451764                        1.0                         1.0   \n",
       "A18158053                        1.0                         1.0   \n",
       "A17332208                        1.0                         1.0   \n",
       "A16683762                        1.0                         1.0   \n",
       "...                              ...                         ...   \n",
       "A16414249                        1.0                         1.0   \n",
       "A17462025                        1.0                         1.0   \n",
       "A16227798                        1.0                         1.0   \n",
       "A16420131                        NaN                         NaN   \n",
       "A17427885                        1.0                         1.0   \n",
       "\n",
       "           Project Checkpoint Total  \n",
       "SID                                  \n",
       "A16681759                  0.800000  \n",
       "A17451764                  0.969231  \n",
       "A18158053                  1.000000  \n",
       "A17332208                  1.000000  \n",
       "A16683762                  1.000000  \n",
       "...                             ...  \n",
       "A16414249                  1.000000  \n",
       "A17462025                  1.000000  \n",
       "A16227798                  1.000000  \n",
       "A16420131                  0.000000  \n",
       "A17427885                  1.000000  \n",
       "\n",
       "[135 rows x 191 columns]"
      ]
     },
     "execution_count": 37,
     "metadata": {},
     "output_type": "execute_result"
    }
   ],
   "source": [
    "df =  df#.iloc[:-4]\n",
    "df"
   ]
  },
  {
   "cell_type": "code",
   "execution_count": 38,
   "metadata": {
    "execution": {
     "iopub.execute_input": "2024-03-24T22:51:24.500358Z",
     "iopub.status.busy": "2024-03-24T22:51:24.500285Z",
     "iopub.status.idle": "2024-03-24T22:51:24.531679Z",
     "shell.execute_reply": "2024-03-24T22:51:24.531405Z"
    }
   },
   "outputs": [],
   "source": [
    "applied = df.apply(process_slip_days_for_row, axis=1)\n",
    "df['Used Slip Days'] = applied.str[0]\n",
    "df['Slip Days Remaining'] = 7 - df['Used Slip Days']\n",
    "df['Accepted Late Assignments'] = applied.str[1]\n",
    "df['Late Assignments Past 7 Slip Days'] = applied.str[2]"
   ]
  },
  {
   "cell_type": "code",
   "execution_count": 39,
   "metadata": {
    "execution": {
     "iopub.execute_input": "2024-03-24T22:51:24.532956Z",
     "iopub.status.busy": "2024-03-24T22:51:24.532884Z",
     "iopub.status.idle": "2024-03-24T22:51:24.577109Z",
     "shell.execute_reply": "2024-03-24T22:51:24.576882Z"
    }
   },
   "outputs": [
    {
     "data": {
      "text/plain": [
       "<AxesSubplot:>"
      ]
     },
     "execution_count": 39,
     "metadata": {},
     "output_type": "execute_result"
    },
    {
     "data": {
      "image/png": "[encoded data removed]",
      "text/plain": [
       "<Figure size 640x480 with 1 Axes>"
      ]
     },
     "metadata": {},
     "output_type": "display_data"
    }
   ],
   "source": [
    "df['Used Slip Days'].value_counts().sort_index().plot.bar(rot=0)"
   ]
  },
  {
   "cell_type": "markdown",
   "metadata": {},
   "source": [
    "Now, we zero out the assignments that are \"past slip days\". There should only be a few students who this applies to."
   ]
  },
  {
   "cell_type": "code",
   "execution_count": 40,
   "metadata": {
    "execution": {
     "iopub.execute_input": "2024-03-24T22:51:24.578663Z",
     "iopub.status.busy": "2024-03-24T22:51:24.578569Z",
     "iopub.status.idle": "2024-03-24T22:51:24.583002Z",
     "shell.execute_reply": "2024-03-24T22:51:24.582771Z"
    }
   },
   "outputs": [
    {
     "data": {
      "text/html": [
       "<div>\n",
       "<style scoped>\n",
       "    .dataframe tbody tr th:only-of-type {\n",
       "        vertical-align: middle;\n",
       "    }\n",
       "\n",
       "    .dataframe tbody tr th {\n",
       "        vertical-align: top;\n",
       "    }\n",
       "\n",
       "    .dataframe thead th {\n",
       "        text-align: right;\n",
       "    }\n",
       "</style>\n",
       "<table border=\"1\" class=\"dataframe\">\n",
       "  <thead>\n",
       "    <tr style=\"text-align: right;\">\n",
       "      <th></th>\n",
       "      <th>Name</th>\n",
       "      <th>Accepted Late Assignments</th>\n",
       "      <th>Late Assignments Past 7 Slip Days</th>\n",
       "    </tr>\n",
       "    <tr>\n",
       "      <th>SID</th>\n",
       "      <th></th>\n",
       "      <th></th>\n",
       "      <th></th>\n",
       "    </tr>\n",
       "  </thead>\n",
       "  <tbody>\n",
       "    <tr>\n",
       "      <th>A16821776</th>\n",
       "      <td>Arnav Saxena</td>\n",
       "      <td>[Project 1, Project 2, Project 3, Lab 4, Proje...</td>\n",
       "      <td>[Project 4 (Checkpoint)]</td>\n",
       "    </tr>\n",
       "    <tr>\n",
       "      <th>A16979798</th>\n",
       "      <td>Kailey Wen</td>\n",
       "      <td>[Project 1, Project 2, Project 3, Lab 3, Lab 6...</td>\n",
       "      <td>[Project 3 (Checkpoint)]</td>\n",
       "    </tr>\n",
       "    <tr>\n",
       "      <th>A17638982</th>\n",
       "      <td>Yujin Lee</td>\n",
       "      <td>[Project 1, Project 2, Project 3]</td>\n",
       "      <td>[Lab 2, Lab 4]</td>\n",
       "    </tr>\n",
       "  </tbody>\n",
       "</table>\n",
       "</div>"
      ],
      "text/plain": [
       "                   Name                          Accepted Late Assignments  \\\n",
       "SID                                                                          \n",
       "A16821776  Arnav Saxena  [Project 1, Project 2, Project 3, Lab 4, Proje...   \n",
       "A16979798    Kailey Wen  [Project 1, Project 2, Project 3, Lab 3, Lab 6...   \n",
       "A17638982     Yujin Lee                  [Project 1, Project 2, Project 3]   \n",
       "\n",
       "          Late Assignments Past 7 Slip Days  \n",
       "SID                                          \n",
       "A16821776          [Project 4 (Checkpoint)]  \n",
       "A16979798          [Project 3 (Checkpoint)]  \n",
       "A17638982                    [Lab 2, Lab 4]  "
      ]
     },
     "execution_count": 40,
     "metadata": {},
     "output_type": "execute_result"
    }
   ],
   "source": [
    "past_six = df.loc[df['Late Assignments Past 7 Slip Days'].str.len() > 0, ['Name', 'Accepted Late Assignments', 'Late Assignments Past 7 Slip Days']]\n",
    "past_six"
   ]
  },
  {
   "cell_type": "code",
   "execution_count": 41,
   "metadata": {
    "execution": {
     "iopub.execute_input": "2024-03-24T22:51:24.584348Z",
     "iopub.status.busy": "2024-03-24T22:51:24.584270Z",
     "iopub.status.idle": "2024-03-24T22:51:24.586807Z",
     "shell.execute_reply": "2024-03-24T22:51:24.586572Z"
    }
   },
   "outputs": [],
   "source": [
    "for r in past_six.iterrows():\n",
    "    pid = r[0]\n",
    "    if r[1]['Name'] == 'Eric Pham':\n",
    "        print(pid)\n",
    "    late_assignments = r[1]['Late Assignments Past 7 Slip Days']\n",
    "    for assignment in late_assignments:\n",
    "        df.loc[pid, assignment + ' Raw'] = 0.0"
   ]
  },
  {
   "cell_type": "code",
   "execution_count": 42,
   "metadata": {
    "execution": {
     "iopub.execute_input": "2024-03-24T22:51:24.588147Z",
     "iopub.status.busy": "2024-03-24T22:51:24.588075Z",
     "iopub.status.idle": "2024-03-24T22:51:24.589637Z",
     "shell.execute_reply": "2024-03-24T22:51:24.589420Z"
    }
   },
   "outputs": [],
   "source": [
    "# df.loc['A16834749', 'Project 4 (Checkpoint) Raw']"
   ]
  },
  {
   "cell_type": "code",
   "execution_count": 43,
   "metadata": {
    "execution": {
     "iopub.execute_input": "2024-03-24T22:51:24.590920Z",
     "iopub.status.busy": "2024-03-24T22:51:24.590847Z",
     "iopub.status.idle": "2024-03-24T22:51:24.633419Z",
     "shell.execute_reply": "2024-03-24T22:51:24.633178Z"
    }
   },
   "outputs": [],
   "source": [
    "df['Project Checkpoint Total'] = df.apply(calculate_project_checkpoint_total, axis=1)\n",
    "df['Project Total'] = df.apply(calculate_project_total, axis=1)"
   ]
  },
  {
   "cell_type": "code",
   "execution_count": 44,
   "metadata": {
    "execution": {
     "iopub.execute_input": "2024-03-24T22:51:24.634754Z",
     "iopub.status.busy": "2024-03-24T22:51:24.634681Z",
     "iopub.status.idle": "2024-03-24T22:51:24.636524Z",
     "shell.execute_reply": "2024-03-24T22:51:24.636303Z"
    }
   },
   "outputs": [],
   "source": [
    "def calculate_lab_total(r):\n",
    "    lab_scores = r[[f'Lab {i} Raw' for i in range(1, MAX_LABS+1)]].fillna(0)\n",
    "    lab_scores = np.sort(lab_scores)\n",
    "    return lab_scores[NUM_DROPS:].mean()"
   ]
  },
  {
   "cell_type": "code",
   "execution_count": 45,
   "metadata": {
    "execution": {
     "iopub.execute_input": "2024-03-24T22:51:24.637799Z",
     "iopub.status.busy": "2024-03-24T22:51:24.637706Z",
     "iopub.status.idle": "2024-03-24T22:51:24.639478Z",
     "shell.execute_reply": "2024-03-24T22:51:24.639260Z"
    }
   },
   "outputs": [],
   "source": [
    "# # zeroing out the labs that haven't been released or graded yet\n",
    "for i in range(NUM_LABS+1, MAX_LABS+1):\n",
    "    assignment_name = f'Lab {i}'\n",
    "    df[assignment_name] = 0\n",
    "    df[assignment_name + ' - Max Points'] = 0\n",
    "    df[assignment_name + ' Raw'] = 0"
   ]
  },
  {
   "cell_type": "code",
   "execution_count": 46,
   "metadata": {
    "execution": {
     "iopub.execute_input": "2024-03-24T22:51:24.640769Z",
     "iopub.status.busy": "2024-03-24T22:51:24.640689Z",
     "iopub.status.idle": "2024-03-24T22:51:24.662215Z",
     "shell.execute_reply": "2024-03-24T22:51:24.661987Z"
    }
   },
   "outputs": [],
   "source": [
    "df['Lab Total'] = df.apply(calculate_lab_total, axis=1)"
   ]
  },
  {
   "cell_type": "code",
   "execution_count": 47,
   "metadata": {
    "execution": {
     "iopub.execute_input": "2024-03-24T22:51:24.663506Z",
     "iopub.status.busy": "2024-03-24T22:51:24.663429Z",
     "iopub.status.idle": "2024-03-24T22:51:24.665501Z",
     "shell.execute_reply": "2024-03-24T22:51:24.665284Z"
    }
   },
   "outputs": [],
   "source": [
    "# Find the dropped labs\n",
    "def find_dropped_labs(r):\n",
    "    lab_scores = r[[f'Lab {i} Raw' for i in range(1, NUM_LABS+1)]].fillna(0)\n",
    "    dropped_labs = np.argsort(np.array(lab_scores))[:NUM_DROPS]\n",
    "    dropped_labs = np.sort(dropped_labs) + 1\n",
    "    dropped_labs = [f'Lab {l}' for l in dropped_labs]\n",
    "    return ', '.join(dropped_labs)"
   ]
  },
  {
   "cell_type": "code",
   "execution_count": 48,
   "metadata": {
    "execution": {
     "iopub.execute_input": "2024-03-24T22:51:24.666927Z",
     "iopub.status.busy": "2024-03-24T22:51:24.666850Z",
     "iopub.status.idle": "2024-03-24T22:51:24.686594Z",
     "shell.execute_reply": "2024-03-24T22:51:24.686375Z"
    }
   },
   "outputs": [],
   "source": [
    "df['Dropped Labs'] = df.apply(find_dropped_labs, axis=1)"
   ]
  },
  {
   "cell_type": "code",
   "execution_count": 49,
   "metadata": {
    "execution": {
     "iopub.execute_input": "2024-03-24T22:51:24.687982Z",
     "iopub.status.busy": "2024-03-24T22:51:24.687918Z",
     "iopub.status.idle": "2024-03-24T22:51:24.690500Z",
     "shell.execute_reply": "2024-03-24T22:51:24.690262Z"
    }
   },
   "outputs": [
    {
     "data": {
      "text/plain": [
       "SID\n",
       "A16681759    Lab 2\n",
       "A17451764    Lab 1\n",
       "A18158053    Lab 9\n",
       "A17332208    Lab 2\n",
       "A16683762    Lab 6\n",
       "             ...  \n",
       "A16414249    Lab 3\n",
       "A17462025    Lab 1\n",
       "A16227798    Lab 9\n",
       "A16420131    Lab 1\n",
       "A17427885    Lab 8\n",
       "Name: Dropped Labs, Length: 135, dtype: object"
      ]
     },
     "execution_count": 49,
     "metadata": {},
     "output_type": "execute_result"
    }
   ],
   "source": [
    "df['Dropped Labs'] # Could be empty if no drops were made"
   ]
  },
  {
   "cell_type": "code",
   "execution_count": 50,
   "metadata": {
    "execution": {
     "iopub.execute_input": "2024-03-24T22:51:24.691778Z",
     "iopub.status.busy": "2024-03-24T22:51:24.691700Z",
     "iopub.status.idle": "2024-03-24T22:51:24.694951Z",
     "shell.execute_reply": "2024-03-24T22:51:24.694671Z"
    }
   },
   "outputs": [
    {
     "data": {
      "text/plain": [
       "count    135.000000\n",
       "mean       0.920831\n",
       "std        0.149046\n",
       "min        0.000000\n",
       "25%        0.921404\n",
       "50%        0.956786\n",
       "75%        0.976879\n",
       "max        1.006859\n",
       "Name: Lab Total, dtype: float64"
      ]
     },
     "execution_count": 50,
     "metadata": {},
     "output_type": "execute_result"
    }
   ],
   "source": [
    "df['Lab Total'].describe()"
   ]
  },
  {
   "cell_type": "code",
   "execution_count": 51,
   "metadata": {
    "execution": {
     "iopub.execute_input": "2024-03-24T22:51:24.696368Z",
     "iopub.status.busy": "2024-03-24T22:51:24.696275Z",
     "iopub.status.idle": "2024-03-24T22:51:24.698154Z",
     "shell.execute_reply": "2024-03-24T22:51:24.697927Z"
    }
   },
   "outputs": [],
   "source": [
    "def lowest_lab_name(row):\n",
    "    lab_rows = row[row.index.isin([f'Lab {i+1} Raw' for i in range(0, NUM_LABS)])]\n",
    "    lowest_lab_index = lab_rows.astype(float).argmin()\n",
    "    lowest_lab_name = lab_rows.index[lowest_lab_index].strip(' Raw')\n",
    "    \n",
    "    return lowest_lab_name"
   ]
  },
  {
   "cell_type": "markdown",
   "metadata": {},
   "source": [
    "### Giving Back Slip Days\n",
    "\n",
    "Some students ran out of slip days but used slip days on their lowest lab/homework, which was dropped. In such cases, we will \"delete\" their submissions for the dropped assignments by setting their score and submission time to 0. This way, the same assignment is dropped but they don't waste their slip days on it.\n",
    "\n",
    "The issue is we need to run the above code in order to know what is dropped, but then we need to go and adjust the above code to make it all right. Workflow:\n",
    "- Run the code below once to figure out what to adjust and save it to `sheets/adjustments.json`.\n",
    "- Above, if `adjustments.json` exists, it will read what's there and 0 out the submissions for these students.\n",
    "- Then, the second time the code below is run, `to_adjust` should be empty, since this will already have been handled."
   ]
  },
  {
   "cell_type": "code",
   "execution_count": 52,
   "metadata": {
    "execution": {
     "iopub.execute_input": "2024-03-24T22:51:24.699628Z",
     "iopub.status.busy": "2024-03-24T22:51:24.699510Z",
     "iopub.status.idle": "2024-03-24T22:51:24.701396Z",
     "shell.execute_reply": "2024-03-24T22:51:24.701141Z"
    }
   },
   "outputs": [],
   "source": [
    "# to_adjust = {}\n",
    "# def used_slip_days_on_lowest(r):\n",
    "#     hw = r['Dropped Homeworks']\n",
    "#     lab = r['Dropped Labs']\n",
    "    \n",
    "#     hw_slip_days = r[f'{hw} Slip Days']\n",
    "#     lab_slip_days = r[f'{lab} Slip Days']\n",
    "    \n",
    "#     to_adjust[r.name] = []\n",
    "       \n",
    "#     if hw_slip_days > 0:\n",
    "#         to_adjust[r.name].append(hw)\n",
    "\n",
    "#     if lab_slip_days > 0:\n",
    "#         to_adjust[r.name].append(lab)\n",
    "        \n",
    "#     if len(to_adjust[r.name]) == 0:\n",
    "#         to_adjust.pop(r.name)\n",
    "        \n",
    "# df.apply(used_slip_days_on_lowest, axis=1);\n",
    "\n",
    "# # # Should be empty if the adjustments are taken care of\n",
    "# # if len(to_adjust) > 0:\n",
    "# #     with open('sheets/adjustments.json', 'w') as f:\n",
    "# #         json.dump(to_adjust, f)\n",
    "# # else:\n",
    "# #     print('adjustments made')"
   ]
  },
  {
   "cell_type": "markdown",
   "metadata": {},
   "source": [
    "## PROJECTS AND EXAMS"
   ]
  },
  {
   "cell_type": "markdown",
   "metadata": {},
   "source": [
    "Combine Midterm Exam columns if they are in different sections"
   ]
  },
  {
   "cell_type": "markdown",
   "metadata": {},
   "source": [
    "MIDTERM EXAM"
   ]
  },
  {
   "cell_type": "code",
   "execution_count": 53,
   "metadata": {
    "execution": {
     "iopub.execute_input": "2024-03-24T22:51:24.702786Z",
     "iopub.status.busy": "2024-03-24T22:51:24.702695Z",
     "iopub.status.idle": "2024-03-24T22:51:24.709053Z",
     "shell.execute_reply": "2024-03-24T22:51:24.708832Z"
    }
   },
   "outputs": [],
   "source": [
    "# df['Midterm Exam'] = df['Midterm Exam'].fillna(0)\n",
    "# df['Midterm Exam Raw'] = df['Midterm Exam'] / df['Midterm Exam - Max Points']\n",
    "\n",
    "\n",
    "if YES_MIDTERM:\n",
    "    midterm_total = np.zeros(df.shape[0])\n",
    "    for version in MIDTERM_VERSIONS:\n",
    "        midterm_total += df[f'Midterm Exam - Version {version}'].fillna(0)\n",
    "    df[f'Midterm Exam'] = midterm_total #+ dictionary['exams']['midterm']['bonus']\n",
    "    df[f'Midterm Exam - Max Points'] = df[f'Midterm Exam - Version A - Max Points']\n",
    "    df[f'Midterm Exam Raw Pre-EC'] = midterm_total/df[f'Midterm Exam - Version A - Max Points']\n",
    "    \n",
    "#     df['Midterm Exam Total'] = df['Midterm Exam Raw']\n",
    "    df['Midterm Mean'] = df['Midterm Exam Raw Pre-EC'].dropna().mean()\n",
    "    df['Midterm std'] = df['Midterm Exam Raw Pre-EC'].dropna().std(ddof=0)\n",
    "    for version in MIDTERM_VERSIONS:\n",
    "        df.drop(f'Midterm Exam - Version {version}', axis=1, inplace=True)\n",
    "        df.drop(f'Midterm Exam - Version {version} - Max Points', axis=1, inplace=True)\n",
    "        df.drop(f'Midterm Exam - Version {version} - Lateness (H:M:S)', axis=1, inplace=True)\n",
    "        df.drop(f'Midterm Exam - Version {version} - Submission Time', axis=1, inplace=True)"
   ]
  },
  {
   "cell_type": "code",
   "execution_count": 54,
   "metadata": {},
   "outputs": [],
   "source": [
    "def find_old_stats():\n",
    "    new_df = pd.DataFrame()\n",
    "    final_total = np.zeros(df.shape[0])\n",
    "    redemption_total = np.zeros(df.shape[0])\n",
    "    for version in FINAL_VERSIONS:\n",
    "        cur_version_final = pd.read_csv(f\"../data/old-set-scores/Final_Exam_-_Version_{version}_scores.csv\").set_index('SID')\n",
    "        redmp_questions = cur_version_final.columns[cur_version_final.columns.str.contains(\"(R)\")]\n",
    "        redmp_scores = cur_version_final[redmp_questions].sum(axis=1)\n",
    "        # merge the redemp_scores with df\n",
    "        new_df = new_df.assign(**{f\"redepmtion_v{version}\":redmp_scores}, left_index=True, right_index=True)\n",
    "#         final_total += new_df[f'Final Exam - Version {version}'].fillna(0)\n",
    "    return new_df"
   ]
  },
  {
   "cell_type": "code",
   "execution_count": 55,
   "metadata": {},
   "outputs": [
    {
     "name": "stderr",
     "output_type": "stream",
     "text": [
      "/var/folders/pd/w73mdrsj2836_7gp0brr2q7r0000gn/T/ipykernel_8060/3070273779.py:7: UserWarning: This pattern has match groups. To actually get the groups, use str.extract.\n",
      "  redmp_questions = cur_version_final.columns[cur_version_final.columns.str.contains(\"(R)\")]\n"
     ]
    }
   ],
   "source": [
    "redem = find_old_stats()\n",
    "redem['score'] = redem.iloc[:, 0] + redem.iloc[:, -1]"
   ]
  },
  {
   "cell_type": "code",
   "execution_count": 56,
   "metadata": {},
   "outputs": [
    {
     "data": {
      "text/plain": [
       "0.6446191797718162"
      ]
     },
     "execution_count": 56,
     "metadata": {},
     "output_type": "execute_result"
    }
   ],
   "source": [
    "(redem['score'] / 46).mean()"
   ]
  },
  {
   "cell_type": "code",
   "execution_count": 57,
   "metadata": {},
   "outputs": [
    {
     "data": {
      "text/plain": [
       "0.24808183675732415"
      ]
     },
     "execution_count": 57,
     "metadata": {},
     "output_type": "execute_result"
    }
   ],
   "source": [
    "(redem['score'] / 46).std()"
   ]
  },
  {
   "cell_type": "code",
   "execution_count": 58,
   "metadata": {
    "execution": {
     "iopub.execute_input": "2024-03-24T22:51:24.710387Z",
     "iopub.status.busy": "2024-03-24T22:51:24.710310Z",
     "iopub.status.idle": "2024-03-24T22:51:24.712614Z",
     "shell.execute_reply": "2024-03-24T22:51:24.712392Z"
    }
   },
   "outputs": [],
   "source": [
    "def z_score(ser, is_redem=False):\n",
    "    if not is_redem:\n",
    "        return (ser - ser.dropna().mean()) / ser.dropna().std(ddof=0)\n",
    "    else:\n",
    "        return (ser - (redem['score'] / 46).mean()) / (redem['score'] / 46).std()\n",
    "\n",
    "def individual_student_redemption(row):\n",
    "    if row['Redemption Successful']:\n",
    "        # print(df['Midterm Exam Raw'].dropna().std(ddof=0))\n",
    "        # print(df['Midterm Exam Raw'].dropna().mean())\n",
    "        post_redemption = row['Midterm Redemption Part z-score'] * df['Midterm Exam Raw Pre-EC'].dropna().std(ddof=0) + df['Midterm Exam Raw Pre-EC'].dropna().mean()\n",
    "        return np.clip(post_redemption, 0, 1)\n",
    "    else:\n",
    "        return row['Midterm Exam Raw Pre-EC']"
   ]
  },
  {
   "cell_type": "code",
   "execution_count": 59,
   "metadata": {
    "execution": {
     "iopub.execute_input": "2024-03-24T22:51:24.714055Z",
     "iopub.status.busy": "2024-03-24T22:51:24.713954Z",
     "iopub.status.idle": "2024-03-24T22:51:24.734545Z",
     "shell.execute_reply": "2024-03-24T22:51:24.734318Z"
    }
   },
   "outputs": [
    {
     "name": "stderr",
     "output_type": "stream",
     "text": [
      "/var/folders/pd/w73mdrsj2836_7gp0brr2q7r0000gn/T/ipykernel_8060/1703019662.py:6: UserWarning: This pattern has match groups. To actually get the groups, use str.extract.\n",
      "  redmp_questions = cur_version_final.columns[cur_version_final.columns.str.contains(\"(R)\")]\n"
     ]
    }
   ],
   "source": [
    "if YES_FINAL:\n",
    "    final_total = np.zeros(df.shape[0])\n",
    "    redemption_total = np.zeros(df.shape[0])\n",
    "    for version in FINAL_VERSIONS:\n",
    "        cur_version_final = pd.read_csv(f\"../data/Final_Exam_Version_Set_Scores/Final_Exam_-_Version_{version}_scores.csv\").set_index('SID')\n",
    "        redmp_questions = cur_version_final.columns[cur_version_final.columns.str.contains(\"(R)\")]\n",
    "        redmp_scores = cur_version_final[redmp_questions].sum(axis=1)\n",
    "        # merge the redemp_scores with df\n",
    "        df = df.assign(**{f\"redepmtion_v{version}\":redmp_scores}, left_index=True, right_index=True)\n",
    "        final_total += df[f'Final Exam - Version {version}'].fillna(0)\n",
    "    df[f'Final Exam'] = final_total + dictionary['exams']['final']['bonus']\n",
    "    df[f'Final Exam - Max Points'] = df[f'Final Exam - Version A - Max Points']\n",
    "    df[f'Final Exam Raw'] = final_total/df[f'Final Exam - Version A - Max Points']\n",
    "    df['Final Exam Total'] = df['Final Exam Raw']\n",
    "\n",
    "    df['Redemption Score'] = df[[f\"redepmtion_v{version}\" for version in FINAL_VERSIONS]].sum(axis=1) / 46\n",
    "    MEAN_MID_RE, STD_MID_RE = df['Redemption Score'].mean(), df['Redemption Score'].std(ddof=0)\n",
    "\n",
    "    df['Midterm z-score'] = z_score(df['Midterm Exam Raw Pre-EC'])\n",
    "    df['Midterm Redemption Part z-score'] = z_score(df['Redemption Score'], is_redem=True)\n",
    "    df['Redemption Successful'] = df['Midterm Redemption Part z-score'] > df['Midterm z-score']\n",
    "    df['Midterm Mean'] = df['Midterm Exam Raw Pre-EC'].dropna().mean()\n",
    "    # df['Redemption Successful'].sum()\n",
    "    df['Midterm Exam Raw Post-Redemption Pre-EC'] = df.apply(individual_student_redemption, axis=1)\n",
    "    df['Midterm Exam Raw Post-Redemption Post-EC'] = df['Midterm Exam Raw Post-Redemption Pre-EC'] + 0.025\n",
    "\n",
    "    for version in FINAL_VERSIONS:\n",
    "        df.drop(f'Final Exam - Version {version}', axis=1, inplace=True)\n",
    "        df.drop(f'Final Exam - Version {version} - Max Points', axis=1, inplace=True)\n",
    "        df.drop(f'Final Exam - Version {version} - Lateness (H:M:S)', axis=1, inplace=True)\n",
    "        df.drop(f'Final Exam - Version {version} - Submission Time', axis=1, inplace=True)\n",
    "\n",
    "\n",
    "\n",
    "# redmp_questions = final_exam.columns[final_exam.columns.str.contains(\"(R)\")]\n",
    "# mid_part_score = (final_exam[redmp_questions].sum(axis=1) / 16).to_frame('Midterm Redemption Part Score')\n",
    "# # MEAN_MID_RE, STD_MID_RE = mid_part_score.mean(), mid_part_score.std(ddof=0)\n",
    "# df = df.merge(mid_part_score, left_index=True, right_index=True, how='left')\n",
    "# df.head()\n",
    "\n",
    "# list(df.columns)\n",
    "# # MEAN_MID, STD_MID = df['Midterm Exam Raw'].mean(), df['Midterm Exam Raw'].std(ddof=0)\n",
    "# df['Midterm z-score'] = z_score(df['Midterm Exam Raw'])\n",
    "# df['Midterm Redemption Part z-score'] = z_score(df['Midterm Redemption Part Score'])\n",
    "# df['Redemption Successful'] = df['Midterm Redemption Part z-score'] > df['Midterm z-score']\n",
    "# df['Midterm Mean'] = df['Midterm Exam Raw'].dropna().mean()\n",
    "# df['Midterm std'] = df['Midterm Exam Raw'].dropna().std(ddof=0)\n",
    "# df['Redemption Successful'].sum()\n",
    "\n",
    "# def individual_student_redemption(row):\n",
    "#     if row['Redemption Successful']:\n",
    "#         # print(df['Midterm Exam Raw'].dropna().std(ddof=0))\n",
    "#         # print(df['Midterm Exam Raw'].dropna().mean())\n",
    "#         post_redemption = row['Midterm Redemption Part z-score'] * df['Midterm Exam Raw'].dropna().std(ddof=0) + df['Midterm Exam Raw'].dropna().mean()\n",
    "#         return np.clip(post_redemption, 0, 1)\n",
    "#     else:\n",
    "#         return row['Midterm Exam Raw']\n",
    "# df['Midterm Final Raw'] = df.apply(individual_student_redemption, axis=1)\n",
    "# df['Midterm Final Raw']"
   ]
  },
  {
   "cell_type": "code",
   "execution_count": 60,
   "metadata": {
    "execution": {
     "iopub.execute_input": "2024-03-24T22:51:24.735850Z",
     "iopub.status.busy": "2024-03-24T22:51:24.735775Z",
     "iopub.status.idle": "2024-03-24T22:51:24.737275Z",
     "shell.execute_reply": "2024-03-24T22:51:24.737021Z"
    }
   },
   "outputs": [],
   "source": [
    "# clobber_pids = '''A16305027\n",
    "# A17493614\n",
    "# A17211629\n",
    "# A17574318'''.split('\\n')\n",
    "# clobber_pids"
   ]
  },
  {
   "cell_type": "code",
   "execution_count": 61,
   "metadata": {
    "execution": {
     "iopub.execute_input": "2024-03-24T22:51:24.738480Z",
     "iopub.status.busy": "2024-03-24T22:51:24.738411Z",
     "iopub.status.idle": "2024-03-24T22:51:24.739930Z",
     "shell.execute_reply": "2024-03-24T22:51:24.739697Z"
    }
   },
   "outputs": [],
   "source": [
    "# took_midterm = df[df['Midterm Exam Raw'] > 0]['Midterm Exam Raw']\n",
    "# took_final = df[df['Final Exam Raw'] > 0]['Final Exam Raw']"
   ]
  },
  {
   "cell_type": "code",
   "execution_count": 62,
   "metadata": {
    "execution": {
     "iopub.execute_input": "2024-03-24T22:51:24.741269Z",
     "iopub.status.busy": "2024-03-24T22:51:24.741184Z",
     "iopub.status.idle": "2024-03-24T22:51:24.742734Z",
     "shell.execute_reply": "2024-03-24T22:51:24.742509Z"
    }
   },
   "outputs": [],
   "source": [
    "# def new_midterm_score(final):\n",
    "#     assert 0 <= final <= 1, 'needs to be final score as a proportion'\n",
    "#     final_z = (final - took_final.mean()) / np.std(took_final, ddof=0)\n",
    "#     return np.clip(took_midterm.mean() + np.std(took_midterm, ddof=0) * final_z, 0, 1)"
   ]
  },
  {
   "cell_type": "code",
   "execution_count": 63,
   "metadata": {
    "execution": {
     "iopub.execute_input": "2024-03-24T22:51:24.743914Z",
     "iopub.status.busy": "2024-03-24T22:51:24.743844Z",
     "iopub.status.idle": "2024-03-24T22:51:24.745465Z",
     "shell.execute_reply": "2024-03-24T22:51:24.745244Z"
    }
   },
   "outputs": [],
   "source": [
    "# df['Midterm Clobbered'] = False"
   ]
  },
  {
   "cell_type": "code",
   "execution_count": 64,
   "metadata": {
    "execution": {
     "iopub.execute_input": "2024-03-24T22:51:24.746786Z",
     "iopub.status.busy": "2024-03-24T22:51:24.746720Z",
     "iopub.status.idle": "2024-03-24T22:51:24.748275Z",
     "shell.execute_reply": "2024-03-24T22:51:24.748049Z"
    }
   },
   "outputs": [],
   "source": [
    "# for pid in clobber_pids:\n",
    "#     final = df.loc[pid, 'Final Exam Raw']\n",
    "#     old_midterm = df.loc[pid, 'Midterm Exam Raw']\n",
    "#     new_midterm = new_midterm_score(final)\n",
    "#     df.loc[pid, 'Midterm Exam Raw'] = new_midterm\n",
    "#     df.loc[pid, 'Midterm Exam'] = new_midterm * 70\n",
    "#     df.loc[pid, 'Midterm Clobbered'] = True\n",
    "#     print(df.loc[pid, 'Name'], '\\nOld:', old_midterm, 'New:', new_midterm)"
   ]
  },
  {
   "cell_type": "code",
   "execution_count": 65,
   "metadata": {
    "execution": {
     "iopub.execute_input": "2024-03-24T22:51:24.749509Z",
     "iopub.status.busy": "2024-03-24T22:51:24.749421Z",
     "iopub.status.idle": "2024-03-24T22:51:24.750842Z",
     "shell.execute_reply": "2024-03-24T22:51:24.750647Z"
    }
   },
   "outputs": [],
   "source": [
    "# final_exam = pd.read_csv(\"sheets/Final_Exam_scores.csv\")\n",
    "# final_exam = final_exam.set_index('SID')\n",
    "# final_exam.head()"
   ]
  },
  {
   "cell_type": "code",
   "execution_count": 66,
   "metadata": {
    "execution": {
     "iopub.execute_input": "2024-03-24T22:51:24.752066Z",
     "iopub.status.busy": "2024-03-24T22:51:24.751980Z",
     "iopub.status.idle": "2024-03-24T22:51:24.753443Z",
     "shell.execute_reply": "2024-03-24T22:51:24.753227Z"
    }
   },
   "outputs": [],
   "source": [
    "# mid_part_score"
   ]
  },
  {
   "cell_type": "code",
   "execution_count": 67,
   "metadata": {
    "execution": {
     "iopub.execute_input": "2024-03-24T22:51:24.754776Z",
     "iopub.status.busy": "2024-03-24T22:51:24.754700Z",
     "iopub.status.idle": "2024-03-24T22:51:24.756311Z",
     "shell.execute_reply": "2024-03-24T22:51:24.756079Z"
    }
   },
   "outputs": [],
   "source": [
    "# redmp_questions = final_exam.columns[final_exam.columns.str.contains(\"(R)\")]\n",
    "# mid_part_score = (final_exam[redmp_questions].sum(axis=1) / 16).to_frame('Midterm Redemption Part Score')\n",
    "# # MEAN_MID_RE, STD_MID_RE = mid_part_score.mean(), mid_part_score.std(ddof=0)\n",
    "# df = df.merge(mid_part_score, left_index=True, right_index=True, how='left')\n",
    "# df.head()\n"
   ]
  },
  {
   "cell_type": "code",
   "execution_count": null,
   "metadata": {
    "execution": {
     "iopub.execute_input": "2024-03-24T01:01:49.231167Z",
     "iopub.status.busy": "2024-03-24T01:01:49.231101Z",
     "iopub.status.idle": "2024-03-24T01:01:49.232736Z",
     "shell.execute_reply": "2024-03-24T01:01:49.232531Z"
    }
   },
   "outputs": [],
   "source": []
  },
  {
   "cell_type": "code",
   "execution_count": 68,
   "metadata": {
    "execution": {
     "iopub.execute_input": "2024-03-24T22:51:24.757661Z",
     "iopub.status.busy": "2024-03-24T22:51:24.757573Z",
     "iopub.status.idle": "2024-03-24T22:51:24.759114Z",
     "shell.execute_reply": "2024-03-24T22:51:24.758884Z"
    }
   },
   "outputs": [],
   "source": [
    "# list(df.columns)\n",
    "# # MEAN_MID, STD_MID = df['Midterm Exam Raw'].mean(), df['Midterm Exam Raw'].std(ddof=0)\n",
    "# df['Midterm z-score'] = z_score(df['Midterm Exam Raw'])\n",
    "# df['Midterm Redemption Part z-score'] = z_score(df['Midterm Redemption Part Score'])\n",
    "# df['Redemption Successful'] = df['Midterm Redemption Part z-score'] > df['Midterm z-score']\n",
    "\n",
    "# df['Redemption Successful'].sum()"
   ]
  },
  {
   "cell_type": "code",
   "execution_count": 69,
   "metadata": {
    "execution": {
     "iopub.execute_input": "2024-03-24T22:51:24.760331Z",
     "iopub.status.busy": "2024-03-24T22:51:24.760257Z",
     "iopub.status.idle": "2024-03-24T22:51:24.761580Z",
     "shell.execute_reply": "2024-03-24T22:51:24.761365Z"
    }
   },
   "outputs": [],
   "source": [
    "# df['Midterm Redemption Part z-score']"
   ]
  },
  {
   "cell_type": "code",
   "execution_count": 70,
   "metadata": {
    "execution": {
     "iopub.execute_input": "2024-03-24T22:51:24.762879Z",
     "iopub.status.busy": "2024-03-24T22:51:24.762794Z",
     "iopub.status.idle": "2024-03-24T22:51:24.764458Z",
     "shell.execute_reply": "2024-03-24T22:51:24.764215Z"
    }
   },
   "outputs": [],
   "source": [
    "# def individual_student_redemption(row):\n",
    "#     if row['Redemption Successful']:\n",
    "#         # print(df['Midterm Exam Raw'].dropna().std(ddof=0))\n",
    "#         # print(df['Midterm Exam Raw'].dropna().mean())\n",
    "#         post_redemption = row['Midterm Redemption Part z-score'] * df['Midterm Exam Raw'].dropna().std(ddof=0) + df['Midterm Exam Raw'].dropna().mean()\n",
    "#         return np.clip(post_redemption, 0, 1)\n",
    "#     else:\n",
    "#         return row['Midterm Exam Raw']\n",
    "# df['Midterm Final Raw'] = df.apply(individual_student_redemption, axis=1)\n",
    "# df['Midterm Final Raw']"
   ]
  },
  {
   "cell_type": "code",
   "execution_count": 71,
   "metadata": {
    "execution": {
     "iopub.execute_input": "2024-03-24T22:51:24.765728Z",
     "iopub.status.busy": "2024-03-24T22:51:24.765656Z",
     "iopub.status.idle": "2024-03-24T22:51:24.767161Z",
     "shell.execute_reply": "2024-03-24T22:51:24.766941Z"
    }
   },
   "outputs": [],
   "source": [
    "# df['Midterm Final Raw'] > df['Midterm Exam Raw']"
   ]
  },
  {
   "cell_type": "markdown",
   "metadata": {},
   "source": [
    "## DISCUSSION"
   ]
  },
  {
   "cell_type": "markdown",
   "metadata": {},
   "source": [
    "### Load Initial Sheets\n",
    "Please place all required csvs in the sheets folder.\n",
    "<br>\n",
    "<br>\n",
    "Make sure to change all fields below to your current required fields\n",
    "\n",
    "Note: later on, we'll add the roster, but we don't need it for now.\n",
    "\n",
    "**Note to Tiffany:**\n",
    "- Right now, there is no logic for discussions.\n",
    "- In the `sheets/` folder, add another folder called `discussions/` and add each discussion sheet separately.\n",
    "- Then, in the section called \"DISCUSSIONS\", read from each of the files in that folder and add a column for each discussion. For each student, this should contain \"1\" if the student came to that discussion and \"0\" otherwise.\n",
    "- Lastly, tally up all discussion grades as a proportion between 0 and 1 (# attended / 8)."
   ]
  },
  {
   "cell_type": "markdown",
   "metadata": {},
   "source": [
    "This generates a dictionary containing all the discussion attendance."
   ]
  },
  {
   "cell_type": "code",
   "execution_count": 72,
   "metadata": {
    "execution": {
     "iopub.execute_input": "2024-03-24T22:51:24.768637Z",
     "iopub.status.busy": "2024-03-24T22:51:24.768544Z",
     "iopub.status.idle": "2024-03-24T22:51:24.786110Z",
     "shell.execute_reply": "2024-03-24T22:51:24.785881Z"
    }
   },
   "outputs": [],
   "source": [
    "di1 = pd.read_csv('../data/DSC80 Wi24 - Disc1.csv')['Email Address']\n",
    "for email in di1:\n",
    "    if email in df['Email'].values:\n",
    "        sid = df[df['Email'] == email].index[0]\n",
    "        df.loc[sid, 'Discussion 1 Reflection'] = 1\n",
    "    else:\n",
    "        pass"
   ]
  },
  {
   "cell_type": "code",
   "execution_count": 73,
   "metadata": {
    "execution": {
     "iopub.execute_input": "2024-03-24T22:51:24.787413Z",
     "iopub.status.busy": "2024-03-24T22:51:24.787342Z",
     "iopub.status.idle": "2024-03-24T22:51:24.790894Z",
     "shell.execute_reply": "2024-03-24T22:51:24.790687Z"
    }
   },
   "outputs": [],
   "source": [
    "df['Discussion Week 1 Raw'] = (df['Discussion 1 Reflection'] == 1).astype(int)\n",
    "\n",
    "for i in range(1, NUM_DI):\n",
    "    df[f'Discussion Week {i + 1} Raw'] = (df[f'Lab {i} Reflection'] > 0).astype(int)\n"
   ]
  },
  {
   "cell_type": "code",
   "execution_count": 74,
   "metadata": {
    "execution": {
     "iopub.execute_input": "2024-03-24T22:51:24.792237Z",
     "iopub.status.busy": "2024-03-24T22:51:24.792148Z",
     "iopub.status.idle": "2024-03-24T22:51:24.793874Z",
     "shell.execute_reply": "2024-03-24T22:51:24.793658Z"
    }
   },
   "outputs": [],
   "source": [
    "for i in range(NUM_DI + 1, MAX_DI + 1):\n",
    "    col = f'Discussion Week {i}'\n",
    "    df[col] = 0"
   ]
  },
  {
   "cell_type": "code",
   "execution_count": 75,
   "metadata": {
    "execution": {
     "iopub.execute_input": "2024-03-24T22:51:24.795075Z",
     "iopub.status.busy": "2024-03-24T22:51:24.794985Z",
     "iopub.status.idle": "2024-03-24T22:51:24.796632Z",
     "shell.execute_reply": "2024-03-24T22:51:24.796385Z"
    }
   },
   "outputs": [],
   "source": [
    "def calculate_discussion_total(r):\n",
    "    return max(0, r[r.index.str.contains('Discussion Week')].sum())"
   ]
  },
  {
   "cell_type": "code",
   "execution_count": 76,
   "metadata": {
    "execution": {
     "iopub.execute_input": "2024-03-24T22:51:24.797941Z",
     "iopub.status.busy": "2024-03-24T22:51:24.797857Z",
     "iopub.status.idle": "2024-03-24T22:51:24.833351Z",
     "shell.execute_reply": "2024-03-24T22:51:24.833124Z"
    }
   },
   "outputs": [
    {
     "data": {
      "text/plain": [
       "SID\n",
       "A16681759    [0, 0, 0, 0, 0, 0, 0, 0, 0, 0]\n",
       "A17451764    [1, 0, 1, 0, 1, 1, 1, 1, 1, 1]\n",
       "A18158053    [1, 1, 1, 1, 1, 1, 1, 1, 1, 1]\n",
       "A17332208    [1, 1, 1, 1, 1, 1, 0, 0, 0, 0]\n",
       "A16683762    [0, 0, 0, 0, 0, 0, 0, 0, 0, 0]\n",
       "                          ...              \n",
       "A16414249    [1, 0, 1, 1, 1, 0, 0, 1, 1, 1]\n",
       "A17462025    [0, 1, 1, 1, 1, 1, 1, 1, 0, 1]\n",
       "A16227798    [0, 0, 1, 0, 1, 1, 1, 1, 1, 0]\n",
       "A16420131    [0, 0, 0, 0, 0, 0, 0, 0, 0, 0]\n",
       "A17427885    [1, 1, 1, 1, 0, 1, 1, 1, 1, 1]\n",
       "Name: Discussion Weeks, Length: 135, dtype: object"
      ]
     },
     "execution_count": 76,
     "metadata": {},
     "output_type": "execute_result"
    }
   ],
   "source": [
    "df['Discussion Raw'] = df.apply(calculate_discussion_total, axis=1)\n",
    "df['Discussion Weeks'] = df.apply(lambda r: list((r[r.index.str.contains('Discussion Week')] > 0).astype(int)), axis=1)\n",
    "df['Discussion Weeks']"
   ]
  },
  {
   "cell_type": "code",
   "execution_count": 77,
   "metadata": {
    "execution": {
     "iopub.execute_input": "2024-03-24T22:51:24.834663Z",
     "iopub.status.busy": "2024-03-24T22:51:24.834589Z",
     "iopub.status.idle": "2024-03-24T22:51:24.836649Z",
     "shell.execute_reply": "2024-03-24T22:51:24.836408Z"
    }
   },
   "outputs": [
    {
     "data": {
      "text/plain": [
       "int"
      ]
     },
     "execution_count": 77,
     "metadata": {},
     "output_type": "execute_result"
    }
   ],
   "source": [
    "type(df['Discussion Weeks'].iloc[0][0])"
   ]
  },
  {
   "cell_type": "code",
   "execution_count": 78,
   "metadata": {
    "execution": {
     "iopub.execute_input": "2024-03-24T22:51:24.837851Z",
     "iopub.status.busy": "2024-03-24T22:51:24.837780Z",
     "iopub.status.idle": "2024-03-24T22:51:24.839764Z",
     "shell.execute_reply": "2024-03-24T22:51:24.839527Z"
    }
   },
   "outputs": [
    {
     "data": {
      "text/plain": [
       "list"
      ]
     },
     "execution_count": 78,
     "metadata": {},
     "output_type": "execute_result"
    }
   ],
   "source": [
    "a = \"[1, 1, 1, 1, 0, 0, 0, 0, 0, 0]\"\n",
    "type(eval(a))"
   ]
  },
  {
   "cell_type": "code",
   "execution_count": 79,
   "metadata": {
    "execution": {
     "iopub.execute_input": "2024-03-24T22:51:24.841103Z",
     "iopub.status.busy": "2024-03-24T22:51:24.841036Z",
     "iopub.status.idle": "2024-03-24T22:51:24.843032Z",
     "shell.execute_reply": "2024-03-24T22:51:24.842810Z"
    }
   },
   "outputs": [
    {
     "data": {
      "text/plain": [
       "10"
      ]
     },
     "execution_count": 79,
     "metadata": {},
     "output_type": "execute_result"
    }
   ],
   "source": [
    "df['Discussion Raw'].max()"
   ]
  },
  {
   "cell_type": "markdown",
   "metadata": {},
   "source": [
    "Global extra credit"
   ]
  },
  {
   "cell_type": "code",
   "execution_count": 80,
   "metadata": {
    "execution": {
     "iopub.execute_input": "2024-03-24T22:51:24.844345Z",
     "iopub.status.busy": "2024-03-24T22:51:24.844271Z",
     "iopub.status.idle": "2024-03-24T22:51:24.845753Z",
     "shell.execute_reply": "2024-03-24T22:51:24.845523Z"
    }
   },
   "outputs": [],
   "source": [
    "# df['CAPEs Extra Credit'] = 1"
   ]
  },
  {
   "cell_type": "code",
   "execution_count": 81,
   "metadata": {
    "execution": {
     "iopub.execute_input": "2024-03-24T22:51:24.846936Z",
     "iopub.status.busy": "2024-03-24T22:51:24.846867Z",
     "iopub.status.idle": "2024-03-24T22:51:24.848959Z",
     "shell.execute_reply": "2024-03-24T22:51:24.848724Z"
    }
   },
   "outputs": [
    {
     "data": {
      "text/plain": [
       "{'lab': 0.25,\n",
       " 'project': 0.3,\n",
       " 'project_checkpoint': 0.05,\n",
       " 'midterm_exam': 0.15,\n",
       " 'final_exam': 0.25,\n",
       " 'discussion': 0.02}"
      ]
     },
     "execution_count": 81,
     "metadata": {},
     "output_type": "execute_result"
    }
   ],
   "source": [
    "# TODO: AT THE END OF THE QUARTER, CHANGE DISCUSSION RAW's VALUE TO 2\n",
    "# weights = {'Lab Total': 30,\n",
    "#            'Project Total': 35,\n",
    "#            'Project Checkpoint Total': 5,\n",
    "#            'Midterm Final Raw': 10,\n",
    "#            'Final Exam Raw': 20,\n",
    "#          # TODO-\n",
    "#            'Discussion Raw': 2.7,\n",
    "#            'CAPEs Extra Credit': 0.5\n",
    "#         }\n",
    "\n",
    "weights = dictionary['assignment_weights']\n",
    "weights"
   ]
  },
  {
   "cell_type": "code",
   "execution_count": 82,
   "metadata": {
    "execution": {
     "iopub.execute_input": "2024-03-24T22:51:24.850191Z",
     "iopub.status.busy": "2024-03-24T22:51:24.850126Z",
     "iopub.status.idle": "2024-03-24T22:51:24.852381Z",
     "shell.execute_reply": "2024-03-24T22:51:24.852145Z"
    }
   },
   "outputs": [
    {
     "data": {
      "text/plain": [
       "['Lab Total',\n",
       " 'Project Total',\n",
       " 'Project Checkpoint Total',\n",
       " 'Midterm Exam Total',\n",
       " 'Final Exam Total',\n",
       " 'Discussion Total']"
      ]
     },
     "execution_count": 82,
     "metadata": {},
     "output_type": "execute_result"
    }
   ],
   "source": [
    "weights_columns = [f'{key.title().replace(\"_\", \" \")} Total' for key in weights.keys()]\n",
    "if not YES_MIDTERM:\n",
    "    del weights_columns[weights_columns.index('Midterm Exam Total')]\n",
    "if not YES_FINAL:\n",
    "    del weights_columns[weights_columns.index('Final Exam Total')]\n",
    "weights_columns"
   ]
  },
  {
   "cell_type": "code",
   "execution_count": 83,
   "metadata": {
    "execution": {
     "iopub.execute_input": "2024-03-24T22:51:24.853612Z",
     "iopub.status.busy": "2024-03-24T22:51:24.853547Z",
     "iopub.status.idle": "2024-03-24T22:51:24.856561Z",
     "shell.execute_reply": "2024-03-24T22:51:24.856330Z"
    }
   },
   "outputs": [
    {
     "data": {
      "text/plain": [
       "100.0"
      ]
     },
     "execution_count": 83,
     "metadata": {},
     "output_type": "execute_result"
    }
   ],
   "source": [
    "df[\"Max Possible Points\"] = NUM_LABS/ MAX_LABS * weights['lab'] \\\n",
    "    + NUM_PROJECTS/ MAX_PROJECTS * weights['project'] + \\\n",
    "          NUM_PROJECT_CHECKPOINTS/ MAX_PROJECT_CHECKPOINTS * weights['project_checkpoint']\n",
    "if YES_MIDTERM:\n",
    "    df[\"Max Possible Points\"] += weights['midterm_exam']\n",
    "if YES_FINAL:\n",
    "    df[\"Max Possible Points\"] += weights['final_exam']\n",
    "df[\"Max Possible Points\"] *= 100\n",
    "df[\"Max Possible Points\"].max()"
   ]
  },
  {
   "cell_type": "code",
   "execution_count": 84,
   "metadata": {
    "execution": {
     "iopub.execute_input": "2024-03-24T22:51:24.857841Z",
     "iopub.status.busy": "2024-03-24T22:51:24.857768Z",
     "iopub.status.idle": "2024-03-24T22:51:24.859703Z",
     "shell.execute_reply": "2024-03-24T22:51:24.859460Z"
    }
   },
   "outputs": [
    {
     "data": {
      "text/plain": [
       "{'lab': 0.25,\n",
       " 'project': 0.3,\n",
       " 'project_checkpoint': 0.05,\n",
       " 'midterm_exam': 0.15,\n",
       " 'final_exam': 0.25,\n",
       " 'discussion': 0.02}"
      ]
     },
     "execution_count": 84,
     "metadata": {},
     "output_type": "execute_result"
    }
   ],
   "source": [
    "weights"
   ]
  },
  {
   "cell_type": "code",
   "execution_count": 85,
   "metadata": {},
   "outputs": [],
   "source": [
    "df['Midterm Exam Total'] = df['Midterm Exam Raw Post-Redemption Post-EC']"
   ]
  },
  {
   "cell_type": "code",
   "execution_count": 86,
   "metadata": {
    "execution": {
     "iopub.execute_input": "2024-03-24T22:51:24.860902Z",
     "iopub.status.busy": "2024-03-24T22:51:24.860836Z",
     "iopub.status.idle": "2024-03-24T22:51:24.863467Z",
     "shell.execute_reply": "2024-03-24T22:51:24.863245Z"
    }
   },
   "outputs": [],
   "source": [
    "# def calculate_overall_score(df: pd.DataFrame, weights):\n",
    "#     \"\"\"\n",
    "#     Calculates the overall score for the students, even if assignments don't exist yet.\n",
    "#     \"\"\"\n",
    "#     # Iterate through weights and if \n",
    "#     return np.sum([weights[w] * df.loc[:, w] if w in df.columns  else [0] * df.shape[0] for w in weights], axis=0)\n",
    "\n",
    "\n",
    "\n",
    "# def calculate_overall_score(df: pd.DataFrame, weights):\n",
    "#     \"\"\"\n",
    "#     Calculates the overall score for the students, even if assignments don't exist yet.\n",
    "#     \"\"\"\n",
    "#     # Iterate through weights and if \n",
    "#     score = np.sum([weights[w] * df.loc[:, f'{w.title().replace(\"_\", \" \")} Total'] if f'{w.title().replace(\"_\", \" \")} Total' in df.columns else [0] * df.shape[0] for w in weights], axis=0)\n",
    "#     if YES_FINAL:\n",
    "#         score -= df['Midterm Exam Total'] * weights['midterm_exam']\n",
    "#     return score\n",
    "\n",
    "def calculate_overall_score(df: pd.DataFrame, weights):\n",
    "    \"\"\"\n",
    "    Calculates the overall score for the students, even if assignments don't exist yet.\n",
    "    \"\"\"\n",
    "    # Initialize the accumulator\n",
    "    accumulated_scores = np.zeros(df.shape[0])\n",
    "\n",
    "    # Loop through the weights\n",
    "    for w in weights:\n",
    "        column_name = f'{w.title().replace(\"_\", \" \")} Total'\n",
    "        print(column_name)\n",
    "        if column_name in df.columns:\n",
    "            # If the column exists, add the weighted score\n",
    "            \n",
    "            accumulated_scores += weights[w] * df[column_name]\n",
    "            print(w)\n",
    "        else:\n",
    "            # If the column does not exist, add zeros\n",
    "            accumulated_scores += np.zeros(df.shape[0])\n",
    "            print(\"---\", w)\n",
    "\n",
    "#     # Adjust the score if YES_FINAL is True\n",
    "#     if YES_FINAL:\n",
    "#         accumulated_scores -= df['Midterm Exam Total'] * weights['midterm_exam']\n",
    "#         accumulated_scores += df['Midterm Final Raw'] * weights['midterm_exam']\n",
    "\n",
    "    return accumulated_scores\n",
    "\n",
    "# df['Overall Score'] = calculate_overall_score(df, weights) * 100\n",
    "# df['Overall Score']\n",
    "\n",
    "# def calculate_overall_loss(df: pd.DataFrame, weights):\n",
    "#     return np.sum([weights[w] * (1-df.loc[:, w]) if w in df.columns  else [0] * df.shape[0] for w in weights], axis=0)"
   ]
  },
  {
   "cell_type": "code",
   "execution_count": 87,
   "metadata": {},
   "outputs": [
    {
     "name": "stdout",
     "output_type": "stream",
     "text": [
      "Lab Total\n",
      "lab\n",
      "Project Total\n",
      "project\n",
      "Project Checkpoint Total\n",
      "project_checkpoint\n",
      "Midterm Exam Total\n",
      "midterm_exam\n",
      "Final Exam Total\n",
      "final_exam\n",
      "Discussion Total\n",
      "--- discussion\n"
     ]
    },
    {
     "data": {
      "text/plain": [
       "0.8268469603075556"
      ]
     },
     "execution_count": 87,
     "metadata": {},
     "output_type": "execute_result"
    }
   ],
   "source": [
    "calculate_overall_score(df, weights).mean()"
   ]
  },
  {
   "cell_type": "code",
   "execution_count": 88,
   "metadata": {
    "execution": {
     "iopub.execute_input": "2024-03-24T22:51:24.864761Z",
     "iopub.status.busy": "2024-03-24T22:51:24.864690Z",
     "iopub.status.idle": "2024-03-24T22:51:24.868798Z",
     "shell.execute_reply": "2024-03-24T22:51:24.868563Z"
    }
   },
   "outputs": [
    {
     "name": "stdout",
     "output_type": "stream",
     "text": [
      "Lab Total\n",
      "lab\n",
      "Project Total\n",
      "project\n",
      "Project Checkpoint Total\n",
      "project_checkpoint\n",
      "Midterm Exam Total\n",
      "midterm_exam\n",
      "Final Exam Total\n",
      "final_exam\n",
      "Discussion Total\n",
      "--- discussion\n"
     ]
    },
    {
     "data": {
      "text/plain": [
       "count    135.000000\n",
       "mean      84.939511\n",
       "std       13.806348\n",
       "min        2.540021\n",
       "25%       81.095875\n",
       "50%       87.556917\n",
       "75%       92.685981\n",
       "max       99.775319\n",
       "Name: Overall Score, dtype: float64"
      ]
     },
     "execution_count": 88,
     "metadata": {},
     "output_type": "execute_result"
    }
   ],
   "source": [
    "df['Overall Score'] = calculate_overall_score(df, weights) * 100 + OVERALL_EC * 100 + df['Discussion Raw'] * 0.2\n",
    "\n",
    "# df['Overall Loss'] = calculate_overall_loss(df, weights)\n",
    "\n",
    "df['Overall Score'].describe()"
   ]
  },
  {
   "cell_type": "markdown",
   "metadata": {},
   "source": [
    "## Get the maximum possible score right now"
   ]
  },
  {
   "cell_type": "code",
   "execution_count": 89,
   "metadata": {
    "execution": {
     "iopub.execute_input": "2024-03-24T22:51:24.870134Z",
     "iopub.status.busy": "2024-03-24T22:51:24.870066Z",
     "iopub.status.idle": "2024-03-24T22:51:24.872109Z",
     "shell.execute_reply": "2024-03-24T22:51:24.871885Z"
    }
   },
   "outputs": [],
   "source": [
    "def get_curr_max_score():\n",
    "    props = {}\n",
    "    # calc lab proportion\n",
    "    props['Lab Total'] = NUM_LABS / MAX_LABS\n",
    "\n",
    "    # project proportion\n",
    "    props['Project Total'] = NUM_PROJECTS / MAX_PROJECTS\n",
    "     \n",
    "    # checkpoint proportion \n",
    "    props['Project Checkpoint Total'] = NUM_PROJECT_CHECKPOINTS / MAX_PROJECT_CHECKPOINTS\n",
    "\n",
    "    # get midterm exam\n",
    "    props['Midterm Final Raw'] = 1\n",
    "\n",
    "    # get final exam\n",
    "    props['Final Exam Raw'] = 1 \n",
    "\n",
    "    # iterate through weights\n",
    "    max_score = 0\n",
    "    for w in weights:\n",
    "        max_score += (props.get(w, 0) * weights[w])\n",
    "\n",
    "    return max_score"
   ]
  },
  {
   "cell_type": "code",
   "execution_count": null,
   "metadata": {},
   "outputs": [],
   "source": []
  },
  {
   "cell_type": "code",
   "execution_count": 90,
   "metadata": {
    "execution": {
     "iopub.execute_input": "2024-03-24T22:51:24.873379Z",
     "iopub.status.busy": "2024-03-24T22:51:24.873306Z",
     "iopub.status.idle": "2024-03-24T22:51:24.875325Z",
     "shell.execute_reply": "2024-03-24T22:51:24.875082Z"
    }
   },
   "outputs": [
    {
     "data": {
      "text/plain": [
       "'A17284671'"
      ]
     },
     "execution_count": 90,
     "metadata": {},
     "output_type": "execute_result"
    }
   ],
   "source": [
    "# df.loc[\n",
    "df['Overall Score'].idxmax()\n",
    "    #    ].to_frame().head(40)\n",
    "\n",
    "# df['Overall Loss'].idxmin()\n",
    "# df['Overall Loss'].min()"
   ]
  },
  {
   "cell_type": "code",
   "execution_count": 91,
   "metadata": {
    "execution": {
     "iopub.execute_input": "2024-03-24T22:51:24.876646Z",
     "iopub.status.busy": "2024-03-24T22:51:24.876573Z",
     "iopub.status.idle": "2024-03-24T22:51:24.878584Z",
     "shell.execute_reply": "2024-03-24T22:51:24.878355Z"
    }
   },
   "outputs": [
    {
     "data": {
      "text/plain": [
       "99.77531908745506"
      ]
     },
     "execution_count": 91,
     "metadata": {},
     "output_type": "execute_result"
    }
   ],
   "source": [
    "df['Overall Score'].max()"
   ]
  },
  {
   "cell_type": "code",
   "execution_count": 92,
   "metadata": {
    "execution": {
     "iopub.execute_input": "2024-03-24T22:51:24.879854Z",
     "iopub.status.busy": "2024-03-24T22:51:24.879782Z",
     "iopub.status.idle": "2024-03-24T22:51:24.881271Z",
     "shell.execute_reply": "2024-03-24T22:51:24.881041Z"
    }
   },
   "outputs": [],
   "source": [
    "# df[df['Overall Score'] == df['Overall Score'].max()].iloc[:,108:]"
   ]
  },
  {
   "cell_type": "code",
   "execution_count": 93,
   "metadata": {
    "execution": {
     "iopub.execute_input": "2024-03-24T22:51:24.882511Z",
     "iopub.status.busy": "2024-03-24T22:51:24.882442Z",
     "iopub.status.idle": "2024-03-24T22:51:24.885155Z",
     "shell.execute_reply": "2024-03-24T22:51:24.884908Z"
    }
   },
   "outputs": [
    {
     "data": {
      "text/plain": [
       "SID\n",
       "A16681759    100.0\n",
       "A17451764    100.0\n",
       "A18158053    100.0\n",
       "A17332208    100.0\n",
       "A16683762    100.0\n",
       "             ...  \n",
       "A16414249    100.0\n",
       "A17462025    100.0\n",
       "A16227798    100.0\n",
       "A16420131    100.0\n",
       "A17427885    100.0\n",
       "Name: Max Score, Length: 135, dtype: float64"
      ]
     },
     "execution_count": 93,
     "metadata": {},
     "output_type": "execute_result"
    }
   ],
   "source": [
    "df['Max Score'] = df['Max Possible Points']\n",
    "df['Max Score']#.iloc[0]"
   ]
  },
  {
   "cell_type": "markdown",
   "metadata": {},
   "source": [
    "### Letter grade calculation"
   ]
  },
  {
   "cell_type": "code",
   "execution_count": 94,
   "metadata": {
    "execution": {
     "iopub.execute_input": "2024-03-24T22:51:24.886490Z",
     "iopub.status.busy": "2024-03-24T22:51:24.886421Z",
     "iopub.status.idle": "2024-03-24T22:51:24.888104Z",
     "shell.execute_reply": "2024-03-24T22:51:24.887871Z"
    }
   },
   "outputs": [],
   "source": [
    "def compute_letter_grade(score, bins):\n",
    "    for letter in bins.keys():\n",
    "        if score >= bins[letter]:\n",
    "            return letter"
   ]
  },
  {
   "cell_type": "code",
   "execution_count": 95,
   "metadata": {
    "execution": {
     "iopub.execute_input": "2024-03-24T22:51:24.889347Z",
     "iopub.status.busy": "2024-03-24T22:51:24.889280Z",
     "iopub.status.idle": "2024-03-24T22:51:24.891117Z",
     "shell.execute_reply": "2024-03-24T22:51:24.890869Z"
    }
   },
   "outputs": [],
   "source": [
    "gpa_converter = {\n",
    "    'A+': 4,\n",
    "    'A': 4,\n",
    "    'A-': 3.7,\n",
    "    'B+': 3.3,\n",
    "    'B': 3,\n",
    "    'B-': 2.7,\n",
    "    'C+': 2.3,\n",
    "    'C': 2,\n",
    "    'C-': 1.7,\n",
    "    'D+': 1.3,\n",
    "    'D': 1,\n",
    "    'D-': 0.7,\n",
    "    'F': 0\n",
    "}"
   ]
  },
  {
   "cell_type": "code",
   "execution_count": 96,
   "metadata": {
    "execution": {
     "iopub.execute_input": "2024-03-24T22:51:24.892330Z",
     "iopub.status.busy": "2024-03-24T22:51:24.892263Z",
     "iopub.status.idle": "2024-03-24T22:51:24.894016Z",
     "shell.execute_reply": "2024-03-24T22:51:24.893783Z"
    }
   },
   "outputs": [],
   "source": [
    "standard_bins = {\n",
    "    'A+': 97,\n",
    "    'A': 91.2,\n",
    "    'A-': 87,\n",
    "    'B+': 82.9,\n",
    "    'B': 79.9,\n",
    "    'B-': 76.3,\n",
    "    'C+': 72.4,\n",
    "    'C': 68.3,\n",
    "    'C-': 63.6,\n",
    "    'F': 0\n",
    "}"
   ]
  },
  {
   "cell_type": "code",
   "execution_count": 97,
   "metadata": {
    "execution": {
     "iopub.execute_input": "2024-03-24T22:51:24.895222Z",
     "iopub.status.busy": "2024-03-24T22:51:24.895155Z",
     "iopub.status.idle": "2024-03-24T22:51:24.897040Z",
     "shell.execute_reply": "2024-03-24T22:51:24.896767Z"
    }
   },
   "outputs": [
    {
     "data": {
      "text/plain": [
       "dict_keys(['A+', 'A', 'A-', 'B+', 'B', 'B-', 'C+', 'C', 'C-', 'F'])"
      ]
     },
     "execution_count": 97,
     "metadata": {},
     "output_type": "execute_result"
    }
   ],
   "source": [
    "# # Make sure this is in the right order before moving on\n",
    "poss_letters = standard_bins.keys()\n",
    "poss_letters"
   ]
  },
  {
   "cell_type": "code",
   "execution_count": 98,
   "metadata": {},
   "outputs": [],
   "source": [
    "pd.options.plotting.backend = \"plotly\""
   ]
  },
  {
   "cell_type": "code",
   "execution_count": 99,
   "metadata": {},
   "outputs": [],
   "source": [
    "import plotly.io as pio"
   ]
  },
  {
   "cell_type": "code",
   "execution_count": 100,
   "metadata": {},
   "outputs": [],
   "source": [
    "pio.renderers.default = 'browser'"
   ]
  },
  {
   "cell_type": "code",
   "execution_count": 101,
   "metadata": {
    "execution": {
     "iopub.execute_input": "2024-03-24T22:51:24.898297Z",
     "iopub.status.busy": "2024-03-24T22:51:24.898229Z",
     "iopub.status.idle": "2024-03-24T22:51:24.900104Z",
     "shell.execute_reply": "2024-03-24T22:51:24.899835Z"
    }
   },
   "outputs": [
    {
     "name": "stdout",
     "output_type": "stream",
     "text": [
      "GPA with standard bins:  3.4175572519083963\n"
     ]
    }
   ],
   "source": [
    "\n",
    "\n",
    "# df['Letter Grade'] = df['Overall Score'].apply(compute_letter_grade, bins=standard_bins)\n",
    "test_grades = df['Overall Score'].apply(compute_letter_grade, bins=standard_bins)\n",
    "# df['New Letter Grade'] = df['Overall Score'].apply(compute_letter_grade, bins=final_bins)\n",
    "\n",
    "gpas = test_grades.replace(gpa_converter)\n",
    "print('GPA with standard bins: ', gpas[gpas > 0].mean())\n",
    "\n",
    "fig = test_grades.value_counts()[list(standard_bins.keys())[:-2] + ['F']].plot(kind='bar')\n",
    "fig.update_xaxes(title='Grade')\n",
    "fig.update_yaxes(title='Frequency')\n",
    "fig.update_layout(title=f'Distribution of Overall Letter Grades (GPA: {round(gpas.mean(), 3)})')"
   ]
  },
  {
   "cell_type": "code",
   "execution_count": 102,
   "metadata": {},
   "outputs": [],
   "source": [
    "df['Letter Grade'] = df['Overall Score'].apply(compute_letter_grade, bins=standard_bins)"
   ]
  },
  {
   "cell_type": "markdown",
   "metadata": {
    "tags": []
   },
   "source": [
    "### P/NP, S/U, AI, and Incompletes"
   ]
  },
  {
   "cell_type": "code",
   "execution_count": 103,
   "metadata": {},
   "outputs": [],
   "source": [
    "incompletes = ['Pranav Kumarsubha', 'Sarah Colbath']"
   ]
  },
  {
   "cell_type": "code",
   "execution_count": 104,
   "metadata": {
    "execution": {
     "iopub.execute_input": "2024-03-24T22:51:24.936618Z",
     "iopub.status.busy": "2024-03-24T22:51:24.936551Z",
     "iopub.status.idle": "2024-03-24T22:51:24.938076Z",
     "shell.execute_reply": "2024-03-24T22:51:24.937855Z"
    }
   },
   "outputs": [],
   "source": [
    "def letter_grade_with_option(r):\n",
    "    option = r['Grade Option']\n",
    "    letter = r['Letter Grade']\n",
    "    name = r['Name']\n",
    "    \n",
    "    if name in incompletes:\n",
    "        return 'I'\n",
    "    if option == 'L':\n",
    "        return letter\n",
    "    elif option == 'P':\n",
    "        if letter in ['A+', 'A', 'A-', 'B+', 'B', 'B-', 'C+', 'C', 'C-']:\n",
    "            return 'P'\n",
    "        else:\n",
    "            return 'NP'\n",
    "    elif option == 'S':\n",
    "        if letter in ['A+', 'A', 'A-', 'B+', 'B', 'B-']:\n",
    "            return 'S'\n",
    "        else:\n",
    "            return 'US'\n",
    "    else:\n",
    "        1/0"
   ]
  },
  {
   "cell_type": "code",
   "execution_count": 105,
   "metadata": {
    "execution": {
     "iopub.execute_input": "2024-03-24T22:51:24.939280Z",
     "iopub.status.busy": "2024-03-24T22:51:24.939212Z",
     "iopub.status.idle": "2024-03-24T22:51:24.940677Z",
     "shell.execute_reply": "2024-03-24T22:51:24.940447Z"
    }
   },
   "outputs": [],
   "source": [
    "df['Final_Assigned_Egrade'] = df.apply(letter_grade_with_option, axis=1)"
   ]
  },
  {
   "cell_type": "code",
   "execution_count": 106,
   "metadata": {},
   "outputs": [
    {
     "data": {
      "text/plain": [
       "A     0.259259\n",
       "A-    0.229630\n",
       "B+    0.140741\n",
       "B     0.111111\n",
       "B-    0.081481\n",
       "A+    0.051852\n",
       "C     0.037037\n",
       "C+    0.029630\n",
       "P     0.014815\n",
       "F     0.014815\n",
       "I     0.014815\n",
       "NP    0.007407\n",
       "C-    0.007407\n",
       "Name: Final_Assigned_Egrade, dtype: float64"
      ]
     },
     "execution_count": 106,
     "metadata": {},
     "output_type": "execute_result"
    }
   ],
   "source": [
    "df['Final_Assigned_Egrade'].value_counts(normalize=True)"
   ]
  },
  {
   "cell_type": "markdown",
   "metadata": {},
   "source": [
    "### Creating Egrades CSV"
   ]
  },
  {
   "cell_type": "code",
   "execution_count": 114,
   "metadata": {
    "execution": {
     "iopub.execute_input": "2024-03-24T22:51:24.941908Z",
     "iopub.status.busy": "2024-03-24T22:51:24.941829Z",
     "iopub.status.idle": "2024-03-24T22:51:24.943273Z",
     "shell.execute_reply": "2024-03-24T22:51:24.943061Z"
    }
   },
   "outputs": [
    {
     "data": {
      "text/html": [
       "<div>\n",
       "<style scoped>\n",
       "    .dataframe tbody tr th:only-of-type {\n",
       "        vertical-align: middle;\n",
       "    }\n",
       "\n",
       "    .dataframe tbody tr th {\n",
       "        vertical-align: top;\n",
       "    }\n",
       "\n",
       "    .dataframe thead th {\n",
       "        text-align: right;\n",
       "    }\n",
       "</style>\n",
       "<table border=\"1\" class=\"dataframe\">\n",
       "  <thead>\n",
       "    <tr style=\"text-align: right;\">\n",
       "      <th></th>\n",
       "      <th>Last Name</th>\n",
       "      <th>First Name</th>\n",
       "      <th>Student ID</th>\n",
       "      <th>SectionId</th>\n",
       "      <th>Final_Assigned_Egrade</th>\n",
       "    </tr>\n",
       "  </thead>\n",
       "  <tbody>\n",
       "    <tr>\n",
       "      <th>0</th>\n",
       "      <td>Davasam</td>\n",
       "      <td>Aakash</td>\n",
       "      <td>A16681759</td>\n",
       "      <td>319286</td>\n",
       "      <td>P</td>\n",
       "    </tr>\n",
       "    <tr>\n",
       "      <th>1</th>\n",
       "      <td>Banuelos</td>\n",
       "      <td>Aile</td>\n",
       "      <td>A17451764</td>\n",
       "      <td>319286</td>\n",
       "      <td>C</td>\n",
       "    </tr>\n",
       "    <tr>\n",
       "      <th>2</th>\n",
       "      <td>Zhang</td>\n",
       "      <td>Ailinna</td>\n",
       "      <td>A18158053</td>\n",
       "      <td>319286</td>\n",
       "      <td>A-</td>\n",
       "    </tr>\n",
       "    <tr>\n",
       "      <th>3</th>\n",
       "      <td>Medidi</td>\n",
       "      <td>Akshay</td>\n",
       "      <td>A17332208</td>\n",
       "      <td>319286</td>\n",
       "      <td>B+</td>\n",
       "    </tr>\n",
       "    <tr>\n",
       "      <th>4</th>\n",
       "      <td>Wu</td>\n",
       "      <td>Aleck</td>\n",
       "      <td>A16683762</td>\n",
       "      <td>319286</td>\n",
       "      <td>B+</td>\n",
       "    </tr>\n",
       "    <tr>\n",
       "      <th>...</th>\n",
       "      <td>...</td>\n",
       "      <td>...</td>\n",
       "      <td>...</td>\n",
       "      <td>...</td>\n",
       "      <td>...</td>\n",
       "    </tr>\n",
       "    <tr>\n",
       "      <th>130</th>\n",
       "      <td>Wang</td>\n",
       "      <td>Zening</td>\n",
       "      <td>A16414249</td>\n",
       "      <td>319286</td>\n",
       "      <td>A-</td>\n",
       "    </tr>\n",
       "    <tr>\n",
       "      <th>131</th>\n",
       "      <td>Gong</td>\n",
       "      <td>Zhenghao</td>\n",
       "      <td>A17462025</td>\n",
       "      <td>319286</td>\n",
       "      <td>A</td>\n",
       "    </tr>\n",
       "    <tr>\n",
       "      <th>132</th>\n",
       "      <td>LI</td>\n",
       "      <td>ZHIHAN</td>\n",
       "      <td>A16227798</td>\n",
       "      <td>319286</td>\n",
       "      <td>A-</td>\n",
       "    </tr>\n",
       "    <tr>\n",
       "      <th>133</th>\n",
       "      <td>Xiong</td>\n",
       "      <td>Ziting</td>\n",
       "      <td>A16420131</td>\n",
       "      <td>319286</td>\n",
       "      <td>F</td>\n",
       "    </tr>\n",
       "    <tr>\n",
       "      <th>134</th>\n",
       "      <td>He</td>\n",
       "      <td>Zoey</td>\n",
       "      <td>A17427885</td>\n",
       "      <td>319286</td>\n",
       "      <td>A</td>\n",
       "    </tr>\n",
       "  </tbody>\n",
       "</table>\n",
       "<p>135 rows × 5 columns</p>\n",
       "</div>"
      ],
      "text/plain": [
       "    Last Name First Name Student ID  SectionId Final_Assigned_Egrade\n",
       "0     Davasam     Aakash  A16681759     319286                     P\n",
       "1    Banuelos       Aile  A17451764     319286                     C\n",
       "2       Zhang    Ailinna  A18158053     319286                    A-\n",
       "3      Medidi     Akshay  A17332208     319286                    B+\n",
       "4          Wu      Aleck  A16683762     319286                    B+\n",
       "..        ...        ...        ...        ...                   ...\n",
       "130      Wang     Zening  A16414249     319286                    A-\n",
       "131      Gong   Zhenghao  A17462025     319286                     A\n",
       "132        LI     ZHIHAN  A16227798     319286                    A-\n",
       "133     Xiong     Ziting  A16420131     319286                     F\n",
       "134        He       Zoey  A17427885     319286                     A\n",
       "\n",
       "[135 rows x 5 columns]"
      ]
     },
     "execution_count": 114,
     "metadata": {},
     "output_type": "execute_result"
    }
   ],
   "source": [
    "for_egrades = df[['Last Name', 'First Name', 'SectionId', 'Final_Assigned_Egrade']].reset_index()\n",
    "for_egrades = for_egrades.iloc[:, [1, 2, 0, 3, 4]]\n",
    "for_egrades.columns = ['Last Name', 'First Name', 'Student ID', 'SectionId', 'Final_Assigned_Egrade']\n",
    "for_egrades"
   ]
  },
  {
   "cell_type": "code",
   "execution_count": 115,
   "metadata": {
    "execution": {
     "iopub.execute_input": "2024-03-24T22:51:24.944452Z",
     "iopub.status.busy": "2024-03-24T22:51:24.944366Z",
     "iopub.status.idle": "2024-03-24T22:51:24.945647Z",
     "shell.execute_reply": "2024-03-24T22:51:24.945432Z"
    }
   },
   "outputs": [],
   "source": [
    "for_egrades.to_csv('dsc-80-egrades.csv', index=False)"
   ]
  },
  {
   "cell_type": "markdown",
   "metadata": {},
   "source": [
    "## for autograder"
   ]
  },
  {
   "cell_type": "code",
   "execution_count": null,
   "metadata": {
    "execution": {
     "iopub.execute_input": "2024-03-24T22:51:24.946872Z",
     "iopub.status.busy": "2024-03-24T22:51:24.946806Z",
     "iopub.status.idle": "2024-03-24T22:51:24.948185Z",
     "shell.execute_reply": "2024-03-24T22:51:24.947958Z"
    }
   },
   "outputs": [],
   "source": [
    "# old = pd.read_csv('autograder/grades_for_grade_report.csv').set_index('SID')"
   ]
  },
  {
   "cell_type": "code",
   "execution_count": null,
   "metadata": {
    "execution": {
     "iopub.execute_input": "2024-03-24T22:51:24.949404Z",
     "iopub.status.busy": "2024-03-24T22:51:24.949343Z",
     "iopub.status.idle": "2024-03-24T22:51:24.950745Z",
     "shell.execute_reply": "2024-03-24T22:51:24.950547Z"
    }
   },
   "outputs": [],
   "source": [
    "# m = df[['Letter Grade']].merge(old[['Letter Grade']], left_index=True, right_index=True)\n",
    "# # m[m.iloc[:, 0] != m.iloc[:, 1]] "
   ]
  },
  {
   "cell_type": "code",
   "execution_count": null,
   "metadata": {},
   "outputs": [],
   "source": [
    "df.columns[df.columns.str.contains('Midterm')]"
   ]
  },
  {
   "cell_type": "code",
   "execution_count": 107,
   "metadata": {},
   "outputs": [],
   "source": [
    "old = pd.read_csv('../data/grades_for_grade_report.csv')"
   ]
  },
  {
   "cell_type": "code",
   "execution_count": null,
   "metadata": {},
   "outputs": [],
   "source": []
  },
  {
   "cell_type": "code",
   "execution_count": 108,
   "metadata": {},
   "outputs": [
    {
     "data": {
      "text/html": [
       "<div>\n",
       "<style scoped>\n",
       "    .dataframe tbody tr th:only-of-type {\n",
       "        vertical-align: middle;\n",
       "    }\n",
       "\n",
       "    .dataframe tbody tr th {\n",
       "        vertical-align: top;\n",
       "    }\n",
       "\n",
       "    .dataframe thead th {\n",
       "        text-align: right;\n",
       "    }\n",
       "</style>\n",
       "<table border=\"1\" class=\"dataframe\">\n",
       "  <thead>\n",
       "    <tr style=\"text-align: right;\">\n",
       "      <th></th>\n",
       "      <th>SID</th>\n",
       "      <th>Name</th>\n",
       "      <th>Email</th>\n",
       "      <th>Lab 1</th>\n",
       "      <th>Lab 1 - Max Points</th>\n",
       "      <th>Lab 1 - Submission Time</th>\n",
       "      <th>Lab 1 - Lateness (H:M:S)</th>\n",
       "      <th>Discussion 1 Reflection</th>\n",
       "      <th>Discussion 1 Reflection - Max Points</th>\n",
       "      <th>Discussion 1 Reflection - Submission Time</th>\n",
       "      <th>...</th>\n",
       "      <th>Discussion Week 8 Raw</th>\n",
       "      <th>Discussion Week 9 Raw</th>\n",
       "      <th>Discussion Week 10 Raw</th>\n",
       "      <th>Discussion Raw</th>\n",
       "      <th>Discussion Weeks</th>\n",
       "      <th>Max Possible Points</th>\n",
       "      <th>Midterm Exam Total</th>\n",
       "      <th>Overall Score</th>\n",
       "      <th>Max Score</th>\n",
       "      <th>Letter Grade</th>\n",
       "    </tr>\n",
       "  </thead>\n",
       "  <tbody>\n",
       "    <tr>\n",
       "      <th>0</th>\n",
       "      <td>A16681759</td>\n",
       "      <td>Aakash Davasam</td>\n",
       "      <td>adavasam@ucsd.edu</td>\n",
       "      <td>105.0</td>\n",
       "      <td>123.0</td>\n",
       "      <td>2024-01-17 16:46:26 -0800</td>\n",
       "      <td>00:00:00</td>\n",
       "      <td>NaN</td>\n",
       "      <td>0.0</td>\n",
       "      <td>NaN</td>\n",
       "      <td>...</td>\n",
       "      <td>0</td>\n",
       "      <td>0</td>\n",
       "      <td>0</td>\n",
       "      <td>0</td>\n",
       "      <td>[0, 0, 0, 0, 0, 0, 0, 0, 0, 0]</td>\n",
       "      <td>100.0</td>\n",
       "      <td>0.692777</td>\n",
       "      <td>85.616822</td>\n",
       "      <td>100.0</td>\n",
       "      <td>B+</td>\n",
       "    </tr>\n",
       "    <tr>\n",
       "      <th>1</th>\n",
       "      <td>A17451764</td>\n",
       "      <td>Aile Banuelos</td>\n",
       "      <td>aibanuelos@ucsd.edu</td>\n",
       "      <td>92.0</td>\n",
       "      <td>123.0</td>\n",
       "      <td>2024-01-17 16:57:25 -0800</td>\n",
       "      <td>00:00:00</td>\n",
       "      <td>1.0</td>\n",
       "      <td>0.0</td>\n",
       "      <td>NaN</td>\n",
       "      <td>...</td>\n",
       "      <td>1</td>\n",
       "      <td>1</td>\n",
       "      <td>1</td>\n",
       "      <td>8</td>\n",
       "      <td>[1, 0, 1, 0, 1, 1, 1, 1, 1, 1]</td>\n",
       "      <td>100.0</td>\n",
       "      <td>0.575000</td>\n",
       "      <td>70.199754</td>\n",
       "      <td>100.0</td>\n",
       "      <td>C</td>\n",
       "    </tr>\n",
       "    <tr>\n",
       "      <th>2</th>\n",
       "      <td>A18158053</td>\n",
       "      <td>Ailinna Zhang</td>\n",
       "      <td>aiz007@ucsd.edu</td>\n",
       "      <td>112.0</td>\n",
       "      <td>123.0</td>\n",
       "      <td>2024-01-13 10:41:27 -0800</td>\n",
       "      <td>00:00:00</td>\n",
       "      <td>1.0</td>\n",
       "      <td>0.0</td>\n",
       "      <td>2024-01-11 10:06:08 -0800</td>\n",
       "      <td>...</td>\n",
       "      <td>1</td>\n",
       "      <td>1</td>\n",
       "      <td>1</td>\n",
       "      <td>10</td>\n",
       "      <td>[1, 1, 1, 1, 1, 1, 1, 1, 1, 1]</td>\n",
       "      <td>100.0</td>\n",
       "      <td>0.657013</td>\n",
       "      <td>90.110796</td>\n",
       "      <td>100.0</td>\n",
       "      <td>A-</td>\n",
       "    </tr>\n",
       "    <tr>\n",
       "      <th>3</th>\n",
       "      <td>A17332208</td>\n",
       "      <td>Akshay Medidi</td>\n",
       "      <td>amedidi@ucsd.edu</td>\n",
       "      <td>116.0</td>\n",
       "      <td>123.0</td>\n",
       "      <td>2024-01-17 06:16:01 -0800</td>\n",
       "      <td>00:00:00</td>\n",
       "      <td>1.0</td>\n",
       "      <td>0.0</td>\n",
       "      <td>2024-01-11 11:41:32 -0800</td>\n",
       "      <td>...</td>\n",
       "      <td>0</td>\n",
       "      <td>0</td>\n",
       "      <td>0</td>\n",
       "      <td>6</td>\n",
       "      <td>[1, 1, 1, 1, 1, 1, 0, 0, 0, 0]</td>\n",
       "      <td>100.0</td>\n",
       "      <td>0.728542</td>\n",
       "      <td>83.157376</td>\n",
       "      <td>100.0</td>\n",
       "      <td>B+</td>\n",
       "    </tr>\n",
       "    <tr>\n",
       "      <th>4</th>\n",
       "      <td>A16683762</td>\n",
       "      <td>Aleck Wu</td>\n",
       "      <td>a5wu@ucsd.edu</td>\n",
       "      <td>121.0</td>\n",
       "      <td>123.0</td>\n",
       "      <td>2024-01-16 20:12:02 -0800</td>\n",
       "      <td>00:00:00</td>\n",
       "      <td>NaN</td>\n",
       "      <td>0.0</td>\n",
       "      <td>NaN</td>\n",
       "      <td>...</td>\n",
       "      <td>0</td>\n",
       "      <td>0</td>\n",
       "      <td>0</td>\n",
       "      <td>0</td>\n",
       "      <td>[0, 0, 0, 0, 0, 0, 0, 0, 0, 0]</td>\n",
       "      <td>100.0</td>\n",
       "      <td>0.710659</td>\n",
       "      <td>85.313134</td>\n",
       "      <td>100.0</td>\n",
       "      <td>B+</td>\n",
       "    </tr>\n",
       "  </tbody>\n",
       "</table>\n",
       "<p>5 rows × 218 columns</p>\n",
       "</div>"
      ],
      "text/plain": [
       "         SID            Name                Email  Lab 1  Lab 1 - Max Points  \\\n",
       "0  A16681759  Aakash Davasam    adavasam@ucsd.edu  105.0               123.0   \n",
       "1  A17451764   Aile Banuelos  aibanuelos@ucsd.edu   92.0               123.0   \n",
       "2  A18158053   Ailinna Zhang      aiz007@ucsd.edu  112.0               123.0   \n",
       "3  A17332208   Akshay Medidi     amedidi@ucsd.edu  116.0               123.0   \n",
       "4  A16683762        Aleck Wu        a5wu@ucsd.edu  121.0               123.0   \n",
       "\n",
       "     Lab 1 - Submission Time Lab 1 - Lateness (H:M:S)  \\\n",
       "0  2024-01-17 16:46:26 -0800                 00:00:00   \n",
       "1  2024-01-17 16:57:25 -0800                 00:00:00   \n",
       "2  2024-01-13 10:41:27 -0800                 00:00:00   \n",
       "3  2024-01-17 06:16:01 -0800                 00:00:00   \n",
       "4  2024-01-16 20:12:02 -0800                 00:00:00   \n",
       "\n",
       "   Discussion 1 Reflection  Discussion 1 Reflection - Max Points  \\\n",
       "0                      NaN                                   0.0   \n",
       "1                      1.0                                   0.0   \n",
       "2                      1.0                                   0.0   \n",
       "3                      1.0                                   0.0   \n",
       "4                      NaN                                   0.0   \n",
       "\n",
       "  Discussion 1 Reflection - Submission Time  ... Discussion Week 8 Raw  \\\n",
       "0                                       NaN  ...                     0   \n",
       "1                                       NaN  ...                     1   \n",
       "2                 2024-01-11 10:06:08 -0800  ...                     1   \n",
       "3                 2024-01-11 11:41:32 -0800  ...                     0   \n",
       "4                                       NaN  ...                     0   \n",
       "\n",
       "   Discussion Week 9 Raw  Discussion Week 10 Raw Discussion Raw  \\\n",
       "0                      0                       0              0   \n",
       "1                      1                       1              8   \n",
       "2                      1                       1             10   \n",
       "3                      0                       0              6   \n",
       "4                      0                       0              0   \n",
       "\n",
       "                 Discussion Weeks  Max Possible Points  Midterm Exam Total  \\\n",
       "0  [0, 0, 0, 0, 0, 0, 0, 0, 0, 0]                100.0            0.692777   \n",
       "1  [1, 0, 1, 0, 1, 1, 1, 1, 1, 1]                100.0            0.575000   \n",
       "2  [1, 1, 1, 1, 1, 1, 1, 1, 1, 1]                100.0            0.657013   \n",
       "3  [1, 1, 1, 1, 1, 1, 0, 0, 0, 0]                100.0            0.728542   \n",
       "4  [0, 0, 0, 0, 0, 0, 0, 0, 0, 0]                100.0            0.710659   \n",
       "\n",
       "  Overall Score Max Score  Letter Grade  \n",
       "0     85.616822     100.0            B+  \n",
       "1     70.199754     100.0             C  \n",
       "2     90.110796     100.0            A-  \n",
       "3     83.157376     100.0            B+  \n",
       "4     85.313134     100.0            B+  \n",
       "\n",
       "[5 rows x 218 columns]"
      ]
     },
     "execution_count": 108,
     "metadata": {},
     "output_type": "execute_result"
    }
   ],
   "source": [
    "old.head()"
   ]
  },
  {
   "cell_type": "code",
   "execution_count": 109,
   "metadata": {},
   "outputs": [],
   "source": [
    "comb = old[['Name', 'Email', 'Letter Grade']].merge(df[['Email', 'Letter Grade']], on='Email', suffixes=('_old', '_new'))"
   ]
  },
  {
   "cell_type": "code",
   "execution_count": 110,
   "metadata": {},
   "outputs": [
    {
     "data": {
      "text/html": [
       "<div>\n",
       "<style scoped>\n",
       "    .dataframe tbody tr th:only-of-type {\n",
       "        vertical-align: middle;\n",
       "    }\n",
       "\n",
       "    .dataframe tbody tr th {\n",
       "        vertical-align: top;\n",
       "    }\n",
       "\n",
       "    .dataframe thead th {\n",
       "        text-align: right;\n",
       "    }\n",
       "</style>\n",
       "<table border=\"1\" class=\"dataframe\">\n",
       "  <thead>\n",
       "    <tr style=\"text-align: right;\">\n",
       "      <th></th>\n",
       "      <th>Name</th>\n",
       "      <th>Email</th>\n",
       "      <th>Letter Grade_old</th>\n",
       "      <th>Letter Grade_new</th>\n",
       "    </tr>\n",
       "  </thead>\n",
       "  <tbody>\n",
       "  </tbody>\n",
       "</table>\n",
       "</div>"
      ],
      "text/plain": [
       "Empty DataFrame\n",
       "Columns: [Name, Email, Letter Grade_old, Letter Grade_new]\n",
       "Index: []"
      ]
     },
     "execution_count": 110,
     "metadata": {},
     "output_type": "execute_result"
    }
   ],
   "source": [
    "comb[comb['Letter Grade_old'] != comb['Letter Grade_new']]"
   ]
  },
  {
   "cell_type": "code",
   "execution_count": 112,
   "metadata": {},
   "outputs": [
    {
     "data": {
      "text/html": [
       "<div>\n",
       "<style scoped>\n",
       "    .dataframe tbody tr th:only-of-type {\n",
       "        vertical-align: middle;\n",
       "    }\n",
       "\n",
       "    .dataframe tbody tr th {\n",
       "        vertical-align: top;\n",
       "    }\n",
       "\n",
       "    .dataframe thead th {\n",
       "        text-align: right;\n",
       "    }\n",
       "</style>\n",
       "<table border=\"1\" class=\"dataframe\">\n",
       "  <thead>\n",
       "    <tr style=\"text-align: right;\">\n",
       "      <th></th>\n",
       "      <th>Name</th>\n",
       "      <th>Email</th>\n",
       "      <th>Lab 1</th>\n",
       "      <th>Lab 1 - Max Points</th>\n",
       "      <th>Lab 1 - Submission Time</th>\n",
       "      <th>Lab 1 - Lateness (H:M:S)</th>\n",
       "      <th>Discussion 1 Reflection</th>\n",
       "      <th>Discussion 1 Reflection - Max Points</th>\n",
       "      <th>Discussion 1 Reflection - Submission Time</th>\n",
       "      <th>Discussion 1 Reflection - Lateness (H:M:S)</th>\n",
       "      <th>...</th>\n",
       "      <th>Discussion Week 8 Raw</th>\n",
       "      <th>Discussion Week 9 Raw</th>\n",
       "      <th>Discussion Week 10 Raw</th>\n",
       "      <th>Discussion Raw</th>\n",
       "      <th>Discussion Weeks</th>\n",
       "      <th>Max Possible Points</th>\n",
       "      <th>Midterm Exam Total</th>\n",
       "      <th>Overall Score</th>\n",
       "      <th>Max Score</th>\n",
       "      <th>Letter Grade</th>\n",
       "    </tr>\n",
       "    <tr>\n",
       "      <th>SID</th>\n",
       "      <th></th>\n",
       "      <th></th>\n",
       "      <th></th>\n",
       "      <th></th>\n",
       "      <th></th>\n",
       "      <th></th>\n",
       "      <th></th>\n",
       "      <th></th>\n",
       "      <th></th>\n",
       "      <th></th>\n",
       "      <th></th>\n",
       "      <th></th>\n",
       "      <th></th>\n",
       "      <th></th>\n",
       "      <th></th>\n",
       "      <th></th>\n",
       "      <th></th>\n",
       "      <th></th>\n",
       "      <th></th>\n",
       "      <th></th>\n",
       "      <th></th>\n",
       "    </tr>\n",
       "  </thead>\n",
       "  <tbody>\n",
       "    <tr>\n",
       "      <th>A17638982</th>\n",
       "      <td>Yujin Lee</td>\n",
       "      <td>yul243@ucsd.edu</td>\n",
       "      <td>89.0</td>\n",
       "      <td>123.0</td>\n",
       "      <td>2024-01-17 17:00:20 -0800</td>\n",
       "      <td>00:00:20</td>\n",
       "      <td>1.0</td>\n",
       "      <td>0.0</td>\n",
       "      <td>2024-01-11 12:27:27 -0800</td>\n",
       "      <td>00:00:00</td>\n",
       "      <td>...</td>\n",
       "      <td>1</td>\n",
       "      <td>1</td>\n",
       "      <td>1</td>\n",
       "      <td>10</td>\n",
       "      <td>[1, 1, 1, 1, 1, 1, 1, 1, 1, 1]</td>\n",
       "      <td>100.0</td>\n",
       "      <td>0.728542</td>\n",
       "      <td>68.806846</td>\n",
       "      <td>100.0</td>\n",
       "      <td>C</td>\n",
       "    </tr>\n",
       "  </tbody>\n",
       "</table>\n",
       "<p>1 rows × 217 columns</p>\n",
       "</div>"
      ],
      "text/plain": [
       "                Name            Email  Lab 1  Lab 1 - Max Points  \\\n",
       "SID                                                                \n",
       "A17638982  Yujin Lee  yul243@ucsd.edu   89.0               123.0   \n",
       "\n",
       "             Lab 1 - Submission Time Lab 1 - Lateness (H:M:S)  \\\n",
       "SID                                                             \n",
       "A17638982  2024-01-17 17:00:20 -0800                 00:00:20   \n",
       "\n",
       "           Discussion 1 Reflection  Discussion 1 Reflection - Max Points  \\\n",
       "SID                                                                        \n",
       "A17638982                      1.0                                   0.0   \n",
       "\n",
       "          Discussion 1 Reflection - Submission Time  \\\n",
       "SID                                                   \n",
       "A17638982                 2024-01-11 12:27:27 -0800   \n",
       "\n",
       "          Discussion 1 Reflection - Lateness (H:M:S)  ...  \\\n",
       "SID                                                   ...   \n",
       "A17638982                                   00:00:00  ...   \n",
       "\n",
       "           Discussion Week 8 Raw  Discussion Week 9 Raw  \\\n",
       "SID                                                       \n",
       "A17638982                      1                      1   \n",
       "\n",
       "          Discussion Week 10 Raw Discussion Raw  \\\n",
       "SID                                               \n",
       "A17638982                      1             10   \n",
       "\n",
       "                         Discussion Weeks  Max Possible Points  \\\n",
       "SID                                                              \n",
       "A17638982  [1, 1, 1, 1, 1, 1, 1, 1, 1, 1]                100.0   \n",
       "\n",
       "          Midterm Exam Total Overall Score  Max Score  Letter Grade  \n",
       "SID                                                                  \n",
       "A17638982           0.728542     68.806846      100.0             C  \n",
       "\n",
       "[1 rows x 217 columns]"
      ]
     },
     "execution_count": 112,
     "metadata": {},
     "output_type": "execute_result"
    }
   ],
   "source": [
    "df[df['Name'].str.contains('Yujin')]"
   ]
  },
  {
   "cell_type": "code",
   "execution_count": null,
   "metadata": {},
   "outputs": [],
   "source": []
  },
  {
   "cell_type": "code",
   "execution_count": null,
   "metadata": {},
   "outputs": [],
   "source": []
  },
  {
   "cell_type": "code",
   "execution_count": null,
   "metadata": {},
   "outputs": [],
   "source": []
  },
  {
   "cell_type": "code",
   "execution_count": null,
   "metadata": {},
   "outputs": [],
   "source": []
  },
  {
   "cell_type": "code",
   "execution_count": null,
   "metadata": {},
   "outputs": [],
   "source": []
  },
  {
   "cell_type": "code",
   "execution_count": null,
   "metadata": {},
   "outputs": [],
   "source": []
  },
  {
   "cell_type": "code",
   "execution_count": null,
   "metadata": {},
   "outputs": [],
   "source": []
  },
  {
   "cell_type": "code",
   "execution_count": null,
   "metadata": {},
   "outputs": [],
   "source": []
  },
  {
   "cell_type": "code",
   "execution_count": null,
   "metadata": {},
   "outputs": [],
   "source": []
  },
  {
   "cell_type": "code",
   "execution_count": null,
   "metadata": {},
   "outputs": [],
   "source": []
  },
  {
   "cell_type": "code",
   "execution_count": 113,
   "metadata": {
    "execution": {
     "iopub.execute_input": "2024-03-24T22:51:24.951938Z",
     "iopub.status.busy": "2024-03-24T22:51:24.951861Z",
     "iopub.status.idle": "2024-03-24T22:51:24.960001Z",
     "shell.execute_reply": "2024-03-24T22:51:24.959762Z"
    }
   },
   "outputs": [],
   "source": [
    "# df.to_csv('autograder/grades_for_grade_report.csv')\n",
    "df.to_csv('../data/grades_for_grade_report.csv')"
   ]
  },
  {
   "cell_type": "code",
   "execution_count": null,
   "metadata": {},
   "outputs": [],
   "source": [
    "df['Project 4'].describe()"
   ]
  },
  {
   "cell_type": "code",
   "execution_count": null,
   "metadata": {
    "execution": {
     "iopub.execute_input": "2024-03-24T22:51:24.961257Z",
     "iopub.status.busy": "2024-03-24T22:51:24.961181Z",
     "iopub.status.idle": "2024-03-24T22:51:24.962440Z",
     "shell.execute_reply": "2024-03-24T22:51:24.962236Z"
    }
   },
   "outputs": [],
   "source": [
    "# (982.8 + 4 * 20) / (247 + 20) "
   ]
  },
  {
   "cell_type": "code",
   "execution_count": null,
   "metadata": {
    "execution": {
     "iopub.execute_input": "2024-03-24T22:51:24.963621Z",
     "iopub.status.busy": "2024-03-24T22:51:24.963544Z",
     "iopub.status.idle": "2024-03-24T22:51:24.964879Z",
     "shell.execute_reply": "2024-03-24T22:51:24.964678Z"
    }
   },
   "outputs": [],
   "source": [
    "# np.random.randint(0, 10, 5)"
   ]
  },
  {
   "cell_type": "code",
   "execution_count": null,
   "metadata": {},
   "outputs": [],
   "source": [
    "df.loc[df['Student ID'] == 'A18138846', 'Overall Score']"
   ]
  },
  {
   "cell_type": "code",
   "execution_count": null,
   "metadata": {},
   "outputs": [],
   "source": [
    "df['Final Exam Raw'].describe()"
   ]
  },
  {
   "cell_type": "code",
   "execution_count": null,
   "metadata": {},
   "outputs": [],
   "source": [
    "df[df['Final Exam Raw'] == 0].sort_values('Overall Score')[['Name', 'Overall Score', 'Project 4']]"
   ]
  },
  {
   "cell_type": "code",
   "execution_count": null,
   "metadata": {
    "scrolled": true
   },
   "outputs": [],
   "source": [
    "df.sort_values('Overall Score', ascending=False)[['Name', 'Overall Score', 'Letter Grade']].head(25)"
   ]
  },
  {
   "cell_type": "code",
   "execution_count": null,
   "metadata": {},
   "outputs": [],
   "source": [
    "gs = pd.read_csv('../data/Grade_Report_scores.csv')\n",
    "gs.head()"
   ]
  },
  {
   "cell_type": "code",
   "execution_count": null,
   "metadata": {},
   "outputs": [],
   "source": [
    "(\n",
    "    df\n",
    "    .sort_values('Overall Score', ascending=False)\n",
    "    [['Name', 'Overall Score', 'Letter Grade']]\n",
    "    .merge(gs[['SID', 'Total Score']], left_index=True, right_on='SID')\n",
    "    .pipe(lambda df: df[~np.isclose(df[\"Total Score\"], df[\"Overall Score\"])])\n",
    "    .pipe(lambda df: df.assign(diff=df[\"Overall Score\"]-df[\"Total Score\"]))\n",
    "    .sort_values('diff')\n",
    "    .to_csv('ascending=False')\n",
    ")"
   ]
  },
  {
   "cell_type": "code",
   "execution_count": null,
   "metadata": {},
   "outputs": [],
   "source": []
  },
  {
   "cell_type": "code",
   "execution_count": null,
   "metadata": {},
   "outputs": [],
   "source": []
  }
 ],
 "metadata": {
  "kernelspec": {
   "display_name": "Python 3 (ipykernel)",
   "language": "python",
   "name": "python3"
  },
  "language_info": {
   "codemirror_mode": {
    "name": "ipython",
    "version": 3
   },
   "file_extension": ".py",
   "mimetype": "text/x-python",
   "name": "python",
   "nbconvert_exporter": "python",
   "pygments_lexer": "ipython3",
   "version": "3.8.19"
  },
  "vscode": {
   "interpreter": {
    "hash": "b7ab7694f6d79f954bfdb91817862f25ee722345e9a48ff7bc296198d566906c"
   }
  }
 },
 "nbformat": 4,
 "nbformat_minor": 4
}
