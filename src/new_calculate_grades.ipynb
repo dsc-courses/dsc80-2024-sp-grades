{
 "cells": [
  {
   "cell_type": "code",
   "execution_count": 1,
   "metadata": {},
   "outputs": [],
   "source": [
    "import pandas as pd\n",
    "import numpy as np\n",
    "import yaml"
   ]
  },
  {
   "cell_type": "markdown",
   "metadata": {},
   "source": [
    "# Getting the Data from Config File"
   ]
  },
  {
   "cell_type": "code",
   "execution_count": 2,
   "metadata": {},
   "outputs": [],
   "source": [
    "config = open(\"../configs.yaml\", \"r\")\n",
    "dictionary = yaml.safe_load(config)"
   ]
  },
  {
   "cell_type": "code",
   "execution_count": 3,
   "metadata": {},
   "outputs": [],
   "source": [
    "# Data Loading Fields\n",
    "GRADES_FILENAME = dictionary[\"data_path\"][\"grades_filename\"]\n",
    "\n",
    "# Lab Fields\n",
    "NUM_LABS = dictionary[\"labs\"][\"num_labs\"]\n",
    "MAX_LABS = dictionary[\"labs\"][\"max_labs\"]\n",
    "\n",
    "# Project Fields\n",
    "NUM_PROJECTS = dictionary[\"projects\"][\"num_projects\"]\n",
    "MAX_PROJECTS = dictionary[\"projects\"][\"max_projects\"]\n",
    "\n",
    "NUM_PROJECT_CHECKPOINTS = dictionary[\"projects\"][\"num_checkpoints\"]\n",
    "MAX_PROJECT_CHECKPOINTS = dictionary[\"projects\"][\"max_checkpoints\"]\n",
    "\n",
    "# Midterm fields\n",
    "YES_MIDTERM = dictionary[\"exams\"][\"midterm\"][\"enabled\"]\n",
    "MIDTERM_VERSIONS = dictionary[\"exams\"][\"midterm\"][\"versions\"]\n",
    "MIDTERM_BONUS = dictionary[\"exams\"][\"midterm\"][\"bonus\"]\n",
    "\n",
    "# Final Fields\n",
    "YES_FINAL = dictionary[\"exams\"][\"final\"][\"enabled\"]\n",
    "FINAL_VERSIONS = dictionary[\"exams\"][\"final\"][\"versions\"]\n",
    "FINAl_BONUS = dictionary[\"exams\"][\"final\"][\"bonus\"]\n",
    "\n",
    "# Discussion Fields\n",
    "NUM_DISC_ATTENDENCE_REQUIRED = dictionary[\"discussions\"][\n",
    "    \"num_discussions_attendence_required\"\n",
    "]\n",
    "NUM_LECT_ATTENDENCE_REQUIRED = dictionary[\"discussions\"][\n",
    "    \"num_lecture_attendence_required\"\n",
    "]\n",
    "\n",
    "# Number of dropped assignments per category (set to 0 for no drops)\n",
    "# For example, if NUM_DROPS = 2, then 2 Labs and 2 Homeworks will be dropped\n",
    "# Note: Set this to 0 until the end of the quarter\n",
    "NUM_DROPS = dictionary[\"drop_policy\"][\"num_drops\"]\n",
    "\n",
    "OVERALL_EC = dictionary[\"extra_credit\"][\"overall\"]\n",
    "\n",
    "ASSIGNMENT_WEIGHTS = dictionary[\"assignment_weights\"]\n",
    "DISCUSSION_ASSIGNMENT_WEIGHTS = dictionary[\"discussion_assignment_weights\"]\n",
    "\n",
    "# Late Submission Grace Period (3 Minutes)\n",
    "GRACE_PERIOD = 3 / 60"
   ]
  },
  {
   "cell_type": "markdown",
   "metadata": {},
   "source": [
    "# Reading in the Current Grade CSV"
   ]
  },
  {
   "cell_type": "code",
   "execution_count": 4,
   "metadata": {},
   "outputs": [],
   "source": [
    "df = pd.read_csv(GRADES_FILENAME)\n",
    "discussion_and_lecture_attendence = pd.read_csv(\"../data/attendance.csv\").drop(\n",
    "    columns=[\"Email\", \"Name\"]\n",
    ")\n",
    "df = df.merge(discussion_and_lecture_attendence, on=\"SID\").set_index(\"SID\")\n",
    "\n",
    "# Create name column if not already present\n",
    "if \"Name\" not in df.columns:\n",
    "    df[\"Name\"] = df[\"First Name\"] + \" \" + df[\"Last Name\"]\n",
    "    df = df.drop([\"First Name\", \"Last Name\"], axis=1)"
   ]
  },
  {
   "cell_type": "markdown",
   "metadata": {},
   "source": [
    "# Lab 1 Does not have Redemption Assignement "
   ]
  },
  {
   "cell_type": "code",
   "execution_count": 5,
   "metadata": {},
   "outputs": [],
   "source": [
    "# At the beginning of the quarter, we did not do Lab 1 Redemption\n",
    "def redemption_score(lateness, score):\n",
    "    if lateness != \"00:00:00\":\n",
    "        return score\n",
    "    else:\n",
    "        return np.nan\n",
    "\n",
    "\n",
    "df[\"Lab 1 Redemption\"] = df.apply(\n",
    "    lambda row: redemption_score(row[\"Lab 1 - Lateness (H:M:S)\"], row[\"Lab 1\"]), axis=1\n",
    ")\n",
    "df[\"Lab 1 Redemption - Max Points\"] = df[\"Lab 1 - Max Points\"]"
   ]
  },
  {
   "cell_type": "markdown",
   "metadata": {},
   "source": [
    "# Fixing few Labs and Projects we did Manual Grading for"
   ]
  },
  {
   "cell_type": "code",
   "execution_count": 6,
   "metadata": {},
   "outputs": [],
   "source": [
    "df[\"Lab 9 - Max Points\"] /= 2\n",
    "df[\"Project 3 Redemption - Max Points\"] /= 2"
   ]
  },
  {
   "cell_type": "markdown",
   "metadata": {},
   "source": [
    "# Fixing the Final Projects"
   ]
  },
  {
   "cell_type": "code",
   "execution_count": 7,
   "metadata": {},
   "outputs": [],
   "source": [
    "df[\"Project 4\"] = df[\n",
    "    [\n",
    "        \"Project 4 Notebook PDF (Power Outages)\",\n",
    "        \"Project 4 Notebook PDF (League of Legends)\",\n",
    "        \"Project 4 Notebook PDF (Recipes and Ratings)\",\n",
    "    ]\n",
    "].sum(axis=1)\n",
    "\n",
    "df[\"Project 4 - Max Points\"] = df[\"Project 4 Notebook PDF (Power Outages) - Max Points\"]\n",
    "\n",
    "df[\"Project 4 Checkpoint\"] = df[\"Final Project (Checkpoint1)\"]\n",
    "df[\"Project 4 Checkpoint - Max Points\"] = df[\"Final Project (Checkpoint1) - Max Points\"]\n",
    "\n",
    "df[\"Project 5 Checkpoint\"] = df[\"Final Project (Checkpoint2)\"]\n",
    "df[\"Project 5 Checkpoint - Max Points\"] = df[\"Final Project (Checkpoint2) - Max Points\"]"
   ]
  },
  {
   "cell_type": "markdown",
   "metadata": {},
   "source": [
    "# Calculating the Grade for each Assignment"
   ]
  },
  {
   "cell_type": "code",
   "execution_count": 8,
   "metadata": {},
   "outputs": [],
   "source": [
    "def get_assignment_grade(r, assignment_name):\n",
    "    num = r[assignment_name]\n",
    "    den = r[assignment_name + \" - Max Points\"]\n",
    "\n",
    "    return num / den"
   ]
  },
  {
   "cell_type": "code",
   "execution_count": 9,
   "metadata": {},
   "outputs": [],
   "source": [
    "for i in range(1, NUM_LABS + 1):\n",
    "    assignment_name = f\"Lab {i}\"\n",
    "    df[assignment_name + \" Grade\"] = df.apply(\n",
    "        get_assignment_grade, axis=1, assignment_name=assignment_name\n",
    "    )\n",
    "    # if i == 1:\n",
    "    #     pass\n",
    "\n",
    "    assignment_name = f\"Lab {i} Redemption\"\n",
    "    df[assignment_name + \" Grade\"] = df.apply(\n",
    "        get_assignment_grade, axis=1, assignment_name=assignment_name\n",
    "    )"
   ]
  },
  {
   "cell_type": "code",
   "execution_count": 10,
   "metadata": {},
   "outputs": [],
   "source": [
    "for i in range(1, NUM_PROJECTS + 1):\n",
    "    assignment_name = f\"Project {i}\"\n",
    "    df[assignment_name + \" Grade\"] = df.apply(\n",
    "        get_assignment_grade, axis=1, assignment_name=assignment_name\n",
    "    )\n",
    "\n",
    "    # 4th project has no redemption\n",
    "    if i == 4:\n",
    "        break\n",
    "    assignment_name = f\"Project {i} Redemption\"\n",
    "    df[assignment_name + \" Grade\"] = df.apply(\n",
    "        get_assignment_grade, axis=1, assignment_name=assignment_name\n",
    "    )"
   ]
  },
  {
   "cell_type": "code",
   "execution_count": 11,
   "metadata": {},
   "outputs": [],
   "source": [
    "for i in range(1, NUM_PROJECT_CHECKPOINTS + 1):\n",
    "    assignment_name = f\"Project {i} Checkpoint\"\n",
    "    df[assignment_name + \" Final Grade\"] = df.apply(\n",
    "        get_assignment_grade, axis=1, assignment_name=assignment_name\n",
    "    )"
   ]
  },
  {
   "cell_type": "markdown",
   "metadata": {},
   "source": [
    "# Calculating Final Grade with Redemption Assignments"
   ]
  },
  {
   "cell_type": "code",
   "execution_count": 12,
   "metadata": {},
   "outputs": [],
   "source": [
    "def final_grade_with_redemption(assignment_name):\n",
    "    df[f\"{assignment_name} Final Grade\"] = df[f\"{assignment_name} Grade\"] + (\n",
    "        (\n",
    "            df[f\"{assignment_name} Redemption Grade\"] - df[f\"{assignment_name} Grade\"]\n",
    "        ).apply(lambda x: x if x > 0 else 0)\n",
    "        * 0.8\n",
    "    ).fillna(0)"
   ]
  },
  {
   "cell_type": "code",
   "execution_count": 13,
   "metadata": {},
   "outputs": [],
   "source": [
    "# As Project 4 has no redemption, we will calculate the final grade without redemption\n",
    "redemptions_assignments = [f\"Project {i+1}\" for i in range(0, NUM_PROJECTS - 1)] + [\n",
    "    f\"Lab {i+1}\" for i in range(0, NUM_LABS)\n",
    "]\n",
    "for assignment in redemptions_assignments:\n",
    "    final_grade_with_redemption(assignment)\n",
    "df[\"Project 4 Final Grade\"] = df[\"Project 4 Grade\"]"
   ]
  },
  {
   "cell_type": "markdown",
   "metadata": {},
   "source": [
    "# Finding Dropped Lab"
   ]
  },
  {
   "cell_type": "code",
   "execution_count": 14,
   "metadata": {},
   "outputs": [],
   "source": [
    "def find_dropped_labs(df):\n",
    "    lab_scores = df[[f\"Lab {i} Final Grade\" for i in range(1, NUM_LABS + 1)]].fillna(0)\n",
    "    dropped_labs = np.argsort(np.array(lab_scores))[:NUM_DROPS]\n",
    "    dropped_labs = np.sort(dropped_labs) + 1\n",
    "    dropped_labs = [f\"Lab {l}\" for l in dropped_labs]\n",
    "    return \", \".join(dropped_labs)\n",
    "\n",
    "\n",
    "df[\"Dropped Labs\"] = df.apply(find_dropped_labs, axis=1)"
   ]
  },
  {
   "cell_type": "markdown",
   "metadata": {},
   "source": [
    "# Calculating Midterm and Final Grades"
   ]
  },
  {
   "cell_type": "code",
   "execution_count": 15,
   "metadata": {},
   "outputs": [],
   "source": [
    "def individual_student_redemption(row):\n",
    "    if row[\"Redemption Successful\"]:\n",
    "        post_redemption = (\n",
    "            row[\"Midterm Redemption Z-Score\"] * row[\"Midterm std\"] + row[\"Midterm Mean\"]\n",
    "        )\n",
    "        return np.clip(post_redemption, 0, 1)\n",
    "    else:\n",
    "        return row[\"Midterm Exam Grade\"]"
   ]
  },
  {
   "cell_type": "code",
   "execution_count": 16,
   "metadata": {},
   "outputs": [],
   "source": [
    "if YES_MIDTERM:\n",
    "    df[\"Midterm Exam Grade\"] = df[\"Midterm\"] / df[\"Midterm - Max Points\"]\n",
    "    df[\"Midterm Mean\"] = df[\"Midterm Exam Grade\"].dropna().mean()\n",
    "    df[\"Midterm std\"] = df[\"Midterm Exam Grade\"].dropna().std(ddof=0)\n",
    "    df[\"Midterm Z-Score\"] = (df[\"Midterm Exam Grade\"] - df[\"Midterm Mean\"]) / df[\n",
    "        \"Midterm std\"\n",
    "    ]\n",
    "    if YES_FINAL:\n",
    "        MIDTERM_REDEMPTION_MAX_POINTS = 32\n",
    "        for version in FINAL_VERSIONS:\n",
    "            cur_version_final = pd.read_csv(\n",
    "                f\"../data/Final_Exam_Version_Set_Scores/Final_Exam_-_Version_{version}_scores.csv\"\n",
    "            ).set_index(\"SID\")\n",
    "            redmp_questions = cur_version_final.columns[\n",
    "                cur_version_final.columns.str.contains(r\"\\(M\\)\")\n",
    "            ]\n",
    "            redmp_scores = cur_version_final[redmp_questions].sum(axis=1)\n",
    "            redmp_scores = redmp_scores[~redmp_scores.index.duplicated()]\n",
    "            # merge the redemp_scores with df\n",
    "            df = df.assign(\n",
    "                **{f\"redepmtion_v{version}\": redmp_scores},\n",
    "                left_index=True,\n",
    "                right_index=True,\n",
    "            )\n",
    "        df[\"Redemption Score\"] = df[\n",
    "            [f\"redepmtion_v{version}\" for version in FINAL_VERSIONS]\n",
    "        ].sum(axis=1)\n",
    "        df[\"Midterm Redemption Mean\"] = df[\"Redemption Score\"].dropna().mean()\n",
    "        df[\"Midterm Redemption std\"] = df[\"Redemption Score\"].dropna().std(ddof=0)\n",
    "        df[\"Midterm Redemption Z-Score\"] = (\n",
    "            df[\"Redemption Score\"] - df[\"Midterm Redemption Mean\"]\n",
    "        ) / df[\"Midterm Redemption std\"]\n",
    "        df[\"Redemption Successful\"] = (\n",
    "            df[\"Midterm Redemption Z-Score\"] > df[\"Midterm Z-Score\"]\n",
    "        )\n",
    "        df[\"Midterm Exam Grade Post-Redemption\"] = df.apply(\n",
    "            individual_student_redemption, axis=1\n",
    "        )\n",
    "\n",
    "    else:\n",
    "        df[\"Midterm Exam Grade Post-Redemption\"] = df[\"Midterm Exam Grade\"]"
   ]
  },
  {
   "cell_type": "code",
   "execution_count": 17,
   "metadata": {},
   "outputs": [],
   "source": [
    "if YES_FINAL:\n",
    "    df[\"Final Exam\"] = 0\n",
    "    df[\"Final Exam - Max Points\"] = df[\"Final Exam - Version A - Max Points\"].max()\n",
    "    for version in FINAL_VERSIONS:\n",
    "        df[\"Final Exam\"] += df[f\"Final Exam - Version {version}\"].fillna(0)\n",
    "    df[\"Final Exam Grade\"] = df[\"Final Exam\"] / df[\"Final Exam - Max Points\"]"
   ]
  },
  {
   "cell_type": "markdown",
   "metadata": {},
   "source": [
    "# Finding Students who are eligible for Discussion Section"
   ]
  },
  {
   "cell_type": "code",
   "execution_count": 18,
   "metadata": {},
   "outputs": [],
   "source": [
    "df[\"Elgible for Discussion\"] = (df[\"disc_count\"] >= NUM_DISC_ATTENDENCE_REQUIRED) & (\n",
    "    df[\"lecture_count\"] >= NUM_LECT_ATTENDENCE_REQUIRED\n",
    ")"
   ]
  },
  {
   "cell_type": "markdown",
   "metadata": {},
   "source": [
    "# Calculating the Maximum Possible Grade Right Now "
   ]
  },
  {
   "cell_type": "code",
   "execution_count": 19,
   "metadata": {},
   "outputs": [
    {
     "data": {
      "text/plain": [
       "100.0"
      ]
     },
     "execution_count": 19,
     "metadata": {},
     "output_type": "execute_result"
    }
   ],
   "source": [
    "df[\"Max Possible Points\"] = (\n",
    "    NUM_LABS / MAX_LABS * ASSIGNMENT_WEIGHTS[\"lab\"]\n",
    "    + NUM_PROJECTS / MAX_PROJECTS * ASSIGNMENT_WEIGHTS[\"project\"]\n",
    "    + NUM_PROJECT_CHECKPOINTS\n",
    "    / MAX_PROJECT_CHECKPOINTS\n",
    "    * ASSIGNMENT_WEIGHTS[\"project_checkpoint\"]\n",
    ")\n",
    "if YES_MIDTERM:\n",
    "    df[\"Max Possible Points\"] += ASSIGNMENT_WEIGHTS[\"midterm_exam\"]\n",
    "if YES_FINAL:\n",
    "    df[\"Max Possible Points\"] += ASSIGNMENT_WEIGHTS[\"final_exam\"]\n",
    "df[\"Max Possible Points\"] *= 100\n",
    "df[\"Current Max Possible Score\"] = df[\"Max Possible Points\"].max()\n",
    "df[\"Current Max Possible Score\"].max()"
   ]
  },
  {
   "cell_type": "markdown",
   "metadata": {},
   "source": [
    "# Calculating Average Score for Each Assignment Group"
   ]
  },
  {
   "cell_type": "markdown",
   "metadata": {},
   "source": [
    "## 1 Lab is Dropped"
   ]
  },
  {
   "cell_type": "code",
   "execution_count": 20,
   "metadata": {},
   "outputs": [],
   "source": [
    "def calculate_lab_mean(row):\n",
    "    exclude_col = row[\"Dropped Labs\"]\n",
    "    exclude_col += \" Final Grade\"\n",
    "    lab_columns = [f\"Lab {i+1} Final Grade\" for i in range(0, NUM_LABS)]\n",
    "    columns_to_include = [\n",
    "        col for col in lab_columns if col not in [exclude_col, \"Exclude\"]\n",
    "    ]\n",
    "    row_mean = row[columns_to_include].fillna(0).mean()\n",
    "    return row_mean"
   ]
  },
  {
   "cell_type": "code",
   "execution_count": 21,
   "metadata": {},
   "outputs": [],
   "source": [
    "Final_Project_Grade = [f\"Project {i+1} Final Grade\" for i in range(0, NUM_PROJECTS)]\n",
    "# We are adding Final Project 4 Grade to the list of Final Project Grades twice because it has double weight\n",
    "Final_Project_Grade.append(\"Project 4 Final Grade\")\n",
    "Final_Project_Checkpoint_Grade = [\n",
    "    f\"Project {i+1} Checkpoint Final Grade\" for i in range(0, NUM_PROJECT_CHECKPOINTS)\n",
    "]\n",
    "\n",
    "df[\"Lab Average\"] = df.apply(calculate_lab_mean, axis=1)\n",
    "df[\"Project Average\"] = df[Final_Project_Grade].fillna(0).mean(axis=1)\n",
    "df[\"Project Checkpoint Average\"] = (\n",
    "    df[Final_Project_Checkpoint_Grade].fillna(0).mean(axis=1)\n",
    ")\n",
    "if YES_MIDTERM:\n",
    "    df[\"Midterm Average\"] = df[\"Midterm Exam Grade Post-Redemption\"]\n",
    "if YES_FINAL:\n",
    "    df[\"Final Average\"] = df[\"Final Exam Grade\"]"
   ]
  },
  {
   "cell_type": "markdown",
   "metadata": {},
   "source": [
    "# Claculating Scores for Each Student Without Discussion"
   ]
  },
  {
   "cell_type": "code",
   "execution_count": 22,
   "metadata": {},
   "outputs": [
    {
     "data": {
      "text/plain": [
       "(1.0, 1.0, 1.0)"
      ]
     },
     "execution_count": 22,
     "metadata": {},
     "output_type": "execute_result"
    }
   ],
   "source": [
    "NUM_LABS/MAX_LABS, NUM_PROJECTS/MAX_PROJECTS, NUM_PROJECT_CHECKPOINTS/MAX_PROJECT_CHECKPOINTS"
   ]
  },
  {
   "cell_type": "code",
   "execution_count": 23,
   "metadata": {},
   "outputs": [
    {
     "data": {
      "text/plain": [
       "93.33447344903735"
      ]
     },
     "execution_count": 23,
     "metadata": {},
     "output_type": "execute_result"
    }
   ],
   "source": [
    "df[\"Overall Score without Discussion\"] = (\n",
    "    df[\"Lab Average\"] * NUM_LABS / MAX_LABS * ASSIGNMENT_WEIGHTS[\"lab\"]\n",
    "    + df[\"Project Average\"] * NUM_PROJECTS / MAX_PROJECTS * ASSIGNMENT_WEIGHTS[\"project\"]\n",
    "    + df[\"Project Checkpoint Average\"] * NUM_PROJECT_CHECKPOINTS / MAX_PROJECT_CHECKPOINTS * ASSIGNMENT_WEIGHTS[\"project_checkpoint\"]\n",
    ")\n",
    "if YES_MIDTERM:\n",
    "    df[\"Overall Score without Discussion\"] += (\n",
    "        df[\"Midterm Average\"] * ASSIGNMENT_WEIGHTS[\"midterm_exam\"]\n",
    "    )\n",
    "if YES_FINAL:\n",
    "    df[\"Overall Score without Discussion\"] += (\n",
    "        df[\"Final Average\"] * ASSIGNMENT_WEIGHTS[\"final_exam\"]\n",
    "    )\n",
    "\n",
    "df[\"Overall Score without Discussion\"] *= 100\n",
    "\n",
    "df[\"Overall Score without Discussion\"].max()"
   ]
  },
  {
   "cell_type": "markdown",
   "metadata": {},
   "source": [
    "# Claculating Scores for Each Student With Discussion"
   ]
  },
  {
   "cell_type": "code",
   "execution_count": 24,
   "metadata": {},
   "outputs": [
    {
     "data": {
      "text/plain": [
       "94.00947344903734"
      ]
     },
     "execution_count": 24,
     "metadata": {},
     "output_type": "execute_result"
    }
   ],
   "source": [
    "df[\"Overall Score with Discussion\"] = (\n",
    "    df[\"Lab Average\"] * NUM_LABS / MAX_LABS * DISCUSSION_ASSIGNMENT_WEIGHTS[\"lab\"]\n",
    "    + df[\"Project Average\"] * NUM_PROJECTS / MAX_PROJECTS * DISCUSSION_ASSIGNMENT_WEIGHTS[\"project\"]\n",
    "    + df[\"Project Checkpoint Average\"] * NUM_PROJECT_CHECKPOINTS / MAX_PROJECT_CHECKPOINTS * DISCUSSION_ASSIGNMENT_WEIGHTS[\"project_checkpoint\"]\n",
    ")\n",
    "if YES_MIDTERM:\n",
    "    df[\"Overall Score with Discussion\"] += (\n",
    "        df[\"Midterm Average\"] * DISCUSSION_ASSIGNMENT_WEIGHTS[\"midterm_exam\"]\n",
    "    )\n",
    "if YES_FINAL:\n",
    "    df[\"Overall Score with Discussion\"] += (\n",
    "        df[\"Final Average\"] * DISCUSSION_ASSIGNMENT_WEIGHTS[\"final_exam\"]\n",
    "    )\n",
    "\n",
    "df[\"Overall Score with Discussion\"] += DISCUSSION_ASSIGNMENT_WEIGHTS[\"discussion\"]\n",
    "\n",
    "df[\"Overall Score with Discussion\"] *= 100\n",
    "df[\"Overall Score with Discussion\"].max()"
   ]
  },
  {
   "cell_type": "markdown",
   "metadata": {},
   "source": [
    "# Finding Current Overall Score"
   ]
  },
  {
   "cell_type": "code",
   "execution_count": 25,
   "metadata": {},
   "outputs": [],
   "source": [
    "df['Used Discussion'] = df[\"Overall Score with Discussion\"] < df[\"Overall Score without Discussion\"] * df[\"Elgible for Discussion\"] \n",
    "\n",
    "df[\"Overall Score\"] = df.apply(\n",
    "    lambda row: max(\n",
    "        row[\"Overall Score with Discussion\"] * row[\"Elgible for Discussion\"],\n",
    "        row[\"Overall Score without Discussion\"],\n",
    "    ),\n",
    "    axis=1,\n",
    ")"
   ]
  },
  {
   "cell_type": "markdown",
   "metadata": {},
   "source": [
    "# Calculating Current Grade(Percent / Total Point Possible) for Each Student"
   ]
  },
  {
   "cell_type": "code",
   "execution_count": 26,
   "metadata": {},
   "outputs": [],
   "source": [
    "df[\"Current Score\"] = df[\"Overall Score\"] / df[\"Max Possible Points\"] * 100"
   ]
  },
  {
   "cell_type": "code",
   "execution_count": 27,
   "metadata": {},
   "outputs": [],
   "source": [
    "df.reset_index(inplace=True)"
   ]
  },
  {
   "cell_type": "code",
   "execution_count": 28,
   "metadata": {},
   "outputs": [
    {
     "data": {
      "text/plain": [
       "<AxesSubplot:>"
      ]
     },
     "execution_count": 28,
     "metadata": {},
     "output_type": "execute_result"
    },
    {
     "data": {
      "image/png": "[encoded data removed]",
      "text/plain": [
       "<Figure size 640x480 with 1 Axes>"
      ]
     },
     "metadata": {},
     "output_type": "display_data"
    }
   ],
   "source": [
    "df[\"Current Score\"].hist(bins=20)"
   ]
  },
  {
   "cell_type": "code",
   "execution_count": 29,
   "metadata": {},
   "outputs": [],
   "source": [
    "df.to_csv(\"../data/grades_for_grade_report.csv\", index=False)"
   ]
  }
 ],
 "metadata": {
  "kernelspec": {
   "display_name": "dsc80",
   "language": "python",
   "name": "python3"
  },
  "language_info": {
   "codemirror_mode": {
    "name": "ipython",
    "version": 3
   },
   "file_extension": ".py",
   "mimetype": "text/x-python",
   "name": "python",
   "nbconvert_exporter": "python",
   "pygments_lexer": "ipython3",
   "version": "3.8.19"
  }
 },
 "nbformat": 4,
 "nbformat_minor": 2
}
