{
 "cells": [
  {
   "cell_type": "code",
   "execution_count": 1,
   "metadata": {},
   "outputs": [],
   "source": [
    "import pandas as pd\n",
    "import numpy as np\n",
    "import yaml"
   ]
  },
  {
   "cell_type": "markdown",
   "metadata": {},
   "source": [
    "# Getting the Data from Config File"
   ]
  },
  {
   "cell_type": "code",
   "execution_count": 2,
   "metadata": {},
   "outputs": [],
   "source": [
    "config = open(\"../configs.yaml\", \"r\")\n",
    "dictionary = yaml.safe_load(config)"
   ]
  },
  {
   "cell_type": "code",
   "execution_count": 3,
   "metadata": {},
   "outputs": [],
   "source": [
    "# Data Loading Fields\n",
    "GRADES_FILENAME = dictionary[\"data_path\"][\"grades_filename\"]\n",
    "\n",
    "# Lab Fields\n",
    "NUM_LABS = dictionary[\"labs\"][\"num_labs\"]\n",
    "MAX_LABS = dictionary[\"labs\"][\"max_labs\"]\n",
    "\n",
    "# Project Fields\n",
    "NUM_PROJECTS = dictionary[\"projects\"][\"num_projects\"]\n",
    "MAX_PROJECTS = dictionary[\"projects\"][\"max_projects\"]\n",
    "\n",
    "NUM_PROJECT_CHECKPOINTS = dictionary[\"projects\"][\"num_checkpoints\"]\n",
    "MAX_PROJECT_CHECKPOINTS = dictionary[\"projects\"][\"max_checkpoints\"]\n",
    "\n",
    "# Midterm fields\n",
    "YES_MIDTERM = dictionary[\"exams\"][\"midterm\"][\"enabled\"]\n",
    "MIDTERM_VERSIONS = dictionary[\"exams\"][\"midterm\"][\"versions\"]\n",
    "MIDTERM_BONUS = dictionary[\"exams\"][\"midterm\"][\"bonus\"]\n",
    "\n",
    "# Final Fields\n",
    "YES_FINAL = dictionary[\"exams\"][\"final\"][\"enabled\"]\n",
    "FINAL_VERSIONS = dictionary[\"exams\"][\"final\"][\"versions\"]\n",
    "FINAl_BONUS = dictionary[\"exams\"][\"final\"][\"bonus\"]\n",
    "\n",
    "# Discussion Fields\n",
    "MAX_DISCUSSION_OFFSET = dictionary[\"max_discussion_offset\"]\n",
    "MAX_LECTURE_OFFSET = dictionary[\"max_lecture_offset\"]\n",
    "\n",
    "NUM_DISC_ATTENDENCE_REQUIRED = dictionary[\"discussions\"][\n",
    "    \"num_discussions_attendence_required\"\n",
    "]\n",
    "NUM_LECT_ATTENDENCE_REQUIRED = dictionary[\"discussions\"][\n",
    "    \"num_lecture_attendence_required\"\n",
    "]\n",
    "\n",
    "# Number of dropped assignments per category (set to 0 for no drops)\n",
    "# For example, if NUM_DROPS = 2, then 2 Labs and 2 Homeworks will be dropped\n",
    "# Note: Set this to 0 until the end of the quarter\n",
    "NUM_DROPS = dictionary[\"drop_policy\"][\"num_drops\"]\n",
    "\n",
    "OVERALL_EC = dictionary[\"extra_credit\"][\"overall\"]\n",
    "\n",
    "ASSIGNMENT_WEIGHTS = dictionary[\"assignment_weights\"]\n",
    "# DISCUSSION_OR_LECTURE_ASSIGNMENT_WEIGHTS = dictionary[\"discussion_or_lecture_assignment_weights\"]\n",
    "# DISCUSSION_AND_LECTURE_ASSIGNMENT_WEIGHTS = dictionary[\"discussion_and_lecture_assignment_weights\"]\n",
    "\n",
    "# Late Submission Grace Period (3 Minutes)\n",
    "GRACE_PERIOD = 3 / 60"
   ]
  },
  {
   "cell_type": "markdown",
   "metadata": {},
   "source": [
    "# Reading in the Current Grade CSV"
   ]
  },
  {
   "cell_type": "code",
   "execution_count": 4,
   "metadata": {},
   "outputs": [],
   "source": [
    "df = pd.read_csv(GRADES_FILENAME)\n",
    "discussion_and_lecture_attendence = pd.read_csv(\"../data/attendance.csv\").drop(\n",
    "    columns=[\"Email\", \"Name\"]\n",
    ")\n",
    "df = df.merge(discussion_and_lecture_attendence, how='left', on=\"SID\").set_index(\"SID\")\n",
    "\n",
    "# Create name column if not already present\n",
    "if \"Name\" not in df.columns:\n",
    "    df[\"Name\"] = df[\"First Name\"] + \" \" + df[\"Last Name\"]\n",
    "    df = df.drop([\"First Name\", \"Last Name\"], axis=1)"
   ]
  },
  {
   "cell_type": "markdown",
   "metadata": {},
   "source": [
    "# Lab 1 Does not have Redemption Assignement "
   ]
  },
  {
   "cell_type": "code",
   "execution_count": 5,
   "metadata": {},
   "outputs": [],
   "source": [
    "# At the beginning of the quarter, we did not do Lab 1 Redemption\n",
    "def redemption_score(lateness, score):\n",
    "    if lateness != \"00:00:00\":\n",
    "        return score\n",
    "    else:\n",
    "        return np.nan\n",
    "\n",
    "\n",
    "df[\"Lab 1 Redemption\"] = df.apply(\n",
    "    lambda row: redemption_score(row[\"Lab 1 - Lateness (H:M:S)\"], row[\"Lab 1\"]), axis=1\n",
    ")\n",
    "df[\"Lab 1 Redemption - Max Points\"] = df[\"Lab 1 - Max Points\"]"
   ]
  },
  {
   "cell_type": "markdown",
   "metadata": {},
   "source": [
    "# Fixing few Labs and Projects we did Manual Grading for"
   ]
  },
  {
   "cell_type": "code",
   "execution_count": 6,
   "metadata": {},
   "outputs": [],
   "source": [
    "df[\"Lab 9 - Max Points\"] /= 2\n",
    "df[\"Project 3 Redemption - Max Points\"] /= 2"
   ]
  },
  {
   "cell_type": "markdown",
   "metadata": {},
   "source": [
    "# Fixing the Final Projects"
   ]
  },
  {
   "cell_type": "code",
   "execution_count": 7,
   "metadata": {},
   "outputs": [],
   "source": [
    "df[\"Project 4\"] = df[\n",
    "    [\n",
    "        \"Project 4 Notebook PDF (Power Outages)\",\n",
    "        \"Project 4 Notebook PDF (League of Legends)\",\n",
    "        \"Project 4 Notebook PDF (Recipes and Ratings)\",\n",
    "    ]\n",
    "].sum(axis=1)\n",
    "\n",
    "df[\"Project 4 - Max Points\"] = df[\"Project 4 Notebook PDF (Power Outages) - Max Points\"]\n",
    "\n",
    "df[\"Project 4 Checkpoint\"] = df[\"Final Project (Checkpoint1)\"]\n",
    "df[\"Project 4 Checkpoint - Max Points\"] = df[\"Final Project (Checkpoint1) - Max Points\"]\n",
    "\n",
    "df[\"Project 5 Checkpoint\"] = df[\"Final Project (Checkpoint2)\"]\n",
    "df[\"Project 5 Checkpoint - Max Points\"] = df[\"Final Project (Checkpoint2) - Max Points\"]"
   ]
  },
  {
   "cell_type": "markdown",
   "metadata": {},
   "source": [
    "# Calculating the Grade for each Assignment"
   ]
  },
  {
   "cell_type": "code",
   "execution_count": 8,
   "metadata": {},
   "outputs": [],
   "source": [
    "def get_assignment_grade(r, assignment_name):\n",
    "    num = r[assignment_name]\n",
    "    den = r[assignment_name + \" - Max Points\"]\n",
    "\n",
    "    return num / den"
   ]
  },
  {
   "cell_type": "code",
   "execution_count": 9,
   "metadata": {},
   "outputs": [],
   "source": [
    "for i in range(1, NUM_LABS + 1):\n",
    "    assignment_name = f\"Lab {i}\"\n",
    "    df[assignment_name + \" Grade\"] = df.apply(\n",
    "        get_assignment_grade, axis=1, assignment_name=assignment_name\n",
    "    )\n",
    "    # if i == 1:\n",
    "    #     pass\n",
    "\n",
    "    assignment_name = f\"Lab {i} Redemption\"\n",
    "    df[assignment_name + \" Grade\"] = df.apply(\n",
    "        get_assignment_grade, axis=1, assignment_name=assignment_name\n",
    "    )"
   ]
  },
  {
   "cell_type": "code",
   "execution_count": 10,
   "metadata": {},
   "outputs": [],
   "source": [
    "for i in range(1, NUM_PROJECTS + 1):\n",
    "    assignment_name = f\"Project {i}\"\n",
    "    df[assignment_name + \" Grade\"] = df.apply(\n",
    "        get_assignment_grade, axis=1, assignment_name=assignment_name\n",
    "    )\n",
    "\n",
    "    # 4th project has no redemption\n",
    "    if i == 4:\n",
    "        break\n",
    "    assignment_name = f\"Project {i} Redemption\"\n",
    "    df[assignment_name + \" Grade\"] = df.apply(\n",
    "        get_assignment_grade, axis=1, assignment_name=assignment_name\n",
    "    )"
   ]
  },
  {
   "cell_type": "code",
   "execution_count": 11,
   "metadata": {},
   "outputs": [],
   "source": [
    "for i in range(1, NUM_PROJECT_CHECKPOINTS + 1):\n",
    "    assignment_name = f\"Project {i} Checkpoint\"\n",
    "    df[assignment_name + \" Final Grade\"] = df.apply(\n",
    "        get_assignment_grade, axis=1, assignment_name=assignment_name\n",
    "    )"
   ]
  },
  {
   "cell_type": "markdown",
   "metadata": {},
   "source": [
    "# Calculating Final Grade with Redemption Assignments"
   ]
  },
  {
   "cell_type": "code",
   "execution_count": 12,
   "metadata": {},
   "outputs": [],
   "source": [
    "def final_grade_with_redemption(assignment_name):\n",
    "    df[f\"{assignment_name} Final Grade\"] = df[f\"{assignment_name} Grade\"] + (\n",
    "        (\n",
    "            df[f\"{assignment_name} Redemption Grade\"] - df[f\"{assignment_name} Grade\"]\n",
    "        ).apply(lambda x: x if x > 0 else 0)\n",
    "        * 0.8\n",
    "    ).fillna(0)"
   ]
  },
  {
   "cell_type": "code",
   "execution_count": 13,
   "metadata": {},
   "outputs": [],
   "source": [
    "df.fillna(0, inplace=True)\n",
    "# As Project 4 has no redemption, we will calculate the final grade without redemption\n",
    "redemptions_assignments = [f\"Project {i+1}\" for i in range(0, NUM_PROJECTS - 1)] + [\n",
    "    f\"Lab {i+1}\" for i in range(0, NUM_LABS)\n",
    "]\n",
    "for assignment in redemptions_assignments:\n",
    "    final_grade_with_redemption(assignment)\n",
    "df[\"Project 4 Final Grade\"] = df[\"Project 4 Grade\"]"
   ]
  },
  {
   "cell_type": "code",
   "execution_count": 14,
   "metadata": {},
   "outputs": [
    {
     "data": {
      "text/plain": [
       "SID\n",
       "A17473511    0.852\n",
       "A17409981    0.852\n",
       "Name: Project 3 Final Grade, dtype: float64"
      ]
     },
     "execution_count": 14,
     "metadata": {},
     "output_type": "execute_result"
    }
   ],
   "source": [
    "# Fix proposed by Sunan due to project 3 grading error.\n",
    "df.loc[df['Name'].isin(['Prithvi Kochhar', 'Stuti Verma']), 'Project 3 Final Grade'] /= 0.8\n",
    "df.query(\"Name == 'Prithvi Kochhar' or Name == 'Stuti Verma'\")['Project 3 Final Grade']"
   ]
  },
  {
   "cell_type": "markdown",
   "metadata": {},
   "source": [
    "# Finding Dropped Lab"
   ]
  },
  {
   "cell_type": "code",
   "execution_count": 15,
   "metadata": {},
   "outputs": [],
   "source": [
    "def find_dropped_labs(df):\n",
    "    lab_scores = df[[f\"Lab {i} Final Grade\" for i in range(1, NUM_LABS + 1)]].fillna(0)\n",
    "    dropped_labs = np.argsort(np.array(lab_scores))[:NUM_DROPS]\n",
    "    dropped_labs = np.sort(dropped_labs) + 1\n",
    "    dropped_labs = [f\"Lab {l}\" for l in dropped_labs]\n",
    "    return \", \".join(dropped_labs)\n",
    "\n",
    "\n",
    "df[\"Dropped Labs\"] = df.apply(find_dropped_labs, axis=1)"
   ]
  },
  {
   "cell_type": "markdown",
   "metadata": {},
   "source": [
    "# Calculating Midterm and Final Grades"
   ]
  },
  {
   "cell_type": "code",
   "execution_count": 16,
   "metadata": {},
   "outputs": [],
   "source": [
    "def individual_student_redemption(row):\n",
    "    if row[\"Redemption Successful\"]:\n",
    "        post_redemption = (\n",
    "            row[\"Midterm Redemption Z-Score\"] * row[\"Midterm std\"] + row[\"Midterm Mean\"]\n",
    "        )\n",
    "        return np.clip(post_redemption, 0, 1)\n",
    "    else:\n",
    "        return row[\"Midterm Exam Grade\"]"
   ]
  },
  {
   "cell_type": "code",
   "execution_count": 17,
   "metadata": {},
   "outputs": [],
   "source": [
    "if YES_MIDTERM:\n",
    "    df[\"Midterm Exam Grade\"] = df[\"Midterm\"] / df[\"Midterm - Max Points\"]\n",
    "    df[\"Midterm Mean\"] = df[\"Midterm Exam Grade\"].replace(0, np.nan).dropna().mean()\n",
    "    df[\"Midterm std\"] = df[\"Midterm Exam Grade\"].replace(0, np.nan).dropna().std(ddof=0)\n",
    "    df[\"Midterm Z-Score\"] = (df[\"Midterm Exam Grade\"] - df[\"Midterm Mean\"]) / df[\n",
    "        \"Midterm std\"\n",
    "    ]\n",
    "    if YES_FINAL:\n",
    "        MIDTERM_REDEMPTION_MAX_POINTS = 32\n",
    "        for version in FINAL_VERSIONS:\n",
    "            cur_version_final = pd.read_csv(\n",
    "                f\"../data/Final_Exam_Version_Set_Scores/Final_Exam_-_Version_{version}_scores.csv\"\n",
    "            ).set_index(\"SID\")\n",
    "            redmp_questions = cur_version_final.columns[\n",
    "                cur_version_final.columns.str.contains(r\"\\(M\\)\")\n",
    "            ]\n",
    "            redmp_scores = cur_version_final[redmp_questions].sum(axis=1)\n",
    "            redmp_scores = redmp_scores[~redmp_scores.index.duplicated()]\n",
    "            # merge the redemp_scores with df\n",
    "            df = df.assign(\n",
    "                **{f\"redepmtion_v{version}\": redmp_scores},\n",
    "                left_index=True,\n",
    "                right_index=True,\n",
    "            )\n",
    "        df[\"Redemption Score\"] = df[\n",
    "            [f\"redepmtion_v{version}\" for version in FINAL_VERSIONS]\n",
    "        ].sum(axis=1)\n",
    "        df[\"Midterm Redemption Mean\"] = df[\"Redemption Score\"].replace(0, np.nan).dropna().mean()\n",
    "        df[\"Midterm Redemption std\"] = df[\"Redemption Score\"].replace(0, np.nan).dropna().std(ddof=0)\n",
    "        df[\"Midterm Redemption Z-Score\"] = (\n",
    "            df[\"Redemption Score\"] - df[\"Midterm Redemption Mean\"]\n",
    "        ) / df[\"Midterm Redemption std\"]\n",
    "        df[\"Redemption Successful\"] = (\n",
    "            df[\"Midterm Redemption Z-Score\"] > df[\"Midterm Z-Score\"]\n",
    "        )\n",
    "        df[\"Midterm Exam Grade Post-Redemption\"] = df.apply(\n",
    "            individual_student_redemption, axis=1\n",
    "        )\n",
    "\n",
    "    else:\n",
    "        df[\"Midterm Exam Grade Post-Redemption\"] = df[\"Midterm Exam Grade\"]"
   ]
  },
  {
   "cell_type": "code",
   "execution_count": 18,
   "metadata": {},
   "outputs": [],
   "source": [
    "if YES_FINAL:\n",
    "    df[\"Final Exam\"] = 0\n",
    "    df[\"Final Exam - Max Points\"] = df[\"Final Exam - Version A - Max Points\"].max()\n",
    "    for version in FINAL_VERSIONS:\n",
    "        df[\"Final Exam\"] += df[f\"Final Exam - Version {version}\"].fillna(0)\n",
    "    df[\"Final Exam Grade\"] = df[\"Final Exam\"] / df[\"Final Exam - Max Points\"]"
   ]
  },
  {
   "cell_type": "markdown",
   "metadata": {},
   "source": [
    "# Finding Students who are eligible for Discussion Section"
   ]
  },
  {
   "cell_type": "code",
   "execution_count": 19,
   "metadata": {},
   "outputs": [],
   "source": [
    "df['discussion_offset'] = np.clip(df['disc_count']/NUM_DISC_ATTENDENCE_REQUIRED, 0, 1)*MAX_DISCUSSION_OFFSET\n",
    "df['lecture_offset'] = np.clip(df['lecture_count']/NUM_LECT_ATTENDENCE_REQUIRED, 0, 1)*MAX_LECTURE_OFFSET"
   ]
  },
  {
   "cell_type": "markdown",
   "metadata": {},
   "source": [
    "# Calculating the Maximum Possible Grade Right Now "
   ]
  },
  {
   "cell_type": "code",
   "execution_count": 20,
   "metadata": {},
   "outputs": [
    {
     "data": {
      "text/plain": [
       "100.0"
      ]
     },
     "execution_count": 20,
     "metadata": {},
     "output_type": "execute_result"
    }
   ],
   "source": [
    "df[\"Max Possible Points\"] = (\n",
    "    NUM_LABS / MAX_LABS * ASSIGNMENT_WEIGHTS[\"lab\"]\n",
    "    + NUM_PROJECTS / MAX_PROJECTS * ASSIGNMENT_WEIGHTS[\"project\"]\n",
    "    + NUM_PROJECT_CHECKPOINTS\n",
    "    / MAX_PROJECT_CHECKPOINTS\n",
    "    * ASSIGNMENT_WEIGHTS[\"project_checkpoint\"]\n",
    ")\n",
    "if YES_MIDTERM:\n",
    "    df[\"Max Possible Points\"] += ASSIGNMENT_WEIGHTS[\"midterm_exam\"]\n",
    "if YES_FINAL:\n",
    "    df[\"Max Possible Points\"] += ASSIGNMENT_WEIGHTS[\"final_exam\"]\n",
    "df[\"Max Possible Points\"] *= 100\n",
    "df[\"Current Max Possible Score\"] = df[\"Max Possible Points\"].max()\n",
    "df[\"Current Max Possible Score\"].max()"
   ]
  },
  {
   "cell_type": "markdown",
   "metadata": {},
   "source": [
    "# Calculating Average Score for Each Assignment Group"
   ]
  },
  {
   "cell_type": "markdown",
   "metadata": {},
   "source": [
    "## 1 Lab is Dropped"
   ]
  },
  {
   "cell_type": "code",
   "execution_count": 21,
   "metadata": {},
   "outputs": [],
   "source": [
    "def calculate_lab_mean(row):\n",
    "    exclude_col = row[\"Dropped Labs\"]\n",
    "    exclude_col += \" Final Grade\"\n",
    "    lab_columns = [f\"Lab {i+1} Final Grade\" for i in range(0, NUM_LABS)]\n",
    "    columns_to_include = [\n",
    "        col for col in lab_columns if col not in [exclude_col, \"Exclude\"]\n",
    "    ]\n",
    "    row_mean = row[columns_to_include].fillna(0).mean()\n",
    "    return row_mean"
   ]
  },
  {
   "cell_type": "code",
   "execution_count": 22,
   "metadata": {},
   "outputs": [],
   "source": [
    "Final_Project_Grade = [f\"Project {i+1} Final Grade\" for i in range(0, NUM_PROJECTS)]\n",
    "# We are adding Final Project 4 Grade to the list of Final Project Grades twice because it has double weight\n",
    "Final_Project_Grade.append(\"Project 4 Final Grade\")\n",
    "Final_Project_Checkpoint_Grade = [\n",
    "    f\"Project {i+1} Checkpoint Final Grade\" for i in range(0, NUM_PROJECT_CHECKPOINTS)\n",
    "]\n",
    "\n",
    "df[\"Lab Average\"] = df.apply(calculate_lab_mean, axis=1)\n",
    "df[\"Project Average\"] = df[Final_Project_Grade].fillna(0).mean(axis=1)\n",
    "df[\"Project Checkpoint Average\"] = (\n",
    "    df[Final_Project_Checkpoint_Grade].fillna(0).mean(axis=1)\n",
    ")\n",
    "if YES_MIDTERM:\n",
    "    df[\"Midterm Average\"] = df[\"Midterm Exam Grade Post-Redemption\"]\n",
    "if YES_FINAL:\n",
    "    df[\"Final Average\"] = df[\"Final Exam Grade\"]"
   ]
  },
  {
   "cell_type": "markdown",
   "metadata": {},
   "source": [
    "# Claculating Scores for Each Student Without Discussion"
   ]
  },
  {
   "cell_type": "code",
   "execution_count": 23,
   "metadata": {},
   "outputs": [
    {
     "data": {
      "text/plain": [
       "93.33447344903735"
      ]
     },
     "execution_count": 23,
     "metadata": {},
     "output_type": "execute_result"
    }
   ],
   "source": [
    "df[\"Overall Score without Discussion or Lecture\"] = (\n",
    "    df[\"Lab Average\"] * NUM_LABS / MAX_LABS * ASSIGNMENT_WEIGHTS[\"lab\"]\n",
    "    + df[\"Project Average\"] * NUM_PROJECTS / MAX_PROJECTS * ASSIGNMENT_WEIGHTS[\"project\"]\n",
    "    + df[\"Project Checkpoint Average\"] * NUM_PROJECT_CHECKPOINTS / MAX_PROJECT_CHECKPOINTS * ASSIGNMENT_WEIGHTS[\"project_checkpoint\"]\n",
    ")\n",
    "if YES_MIDTERM:\n",
    "    df[\"Overall Score without Discussion or Lecture\"] += (\n",
    "        df[\"Midterm Average\"] * ASSIGNMENT_WEIGHTS[\"midterm_exam\"]\n",
    "    )\n",
    "if YES_FINAL:\n",
    "    df[\"Overall Score without Discussion or Lecture\"] += (\n",
    "        df[\"Final Average\"] * ASSIGNMENT_WEIGHTS[\"final_exam\"]\n",
    "    )\n",
    "\n",
    "df[\"Overall Score without Discussion or Lecture\"] *= 100\n",
    "\n",
    "df[\"Overall Score without Discussion or Lecture\"].max()"
   ]
  },
  {
   "cell_type": "markdown",
   "metadata": {},
   "source": [
    "# Claculating Scores for Each Student With Discussion"
   ]
  },
  {
   "cell_type": "code",
   "execution_count": 24,
   "metadata": {},
   "outputs": [
    {
     "data": {
      "text/plain": [
       "94.00947344903734"
      ]
     },
     "execution_count": 24,
     "metadata": {},
     "output_type": "execute_result"
    }
   ],
   "source": [
    "df[\"Overall Score with Discussion\"] = (\n",
    "    df[\"Lab Average\"] * NUM_LABS / MAX_LABS * ASSIGNMENT_WEIGHTS[\"lab\"]\n",
    "    + df[\"Project Average\"]\n",
    "    * NUM_PROJECTS\n",
    "    / MAX_PROJECTS\n",
    "    * ASSIGNMENT_WEIGHTS[\"project\"]\n",
    "    + df[\"Project Checkpoint Average\"]\n",
    "    * NUM_PROJECT_CHECKPOINTS\n",
    "    / MAX_PROJECT_CHECKPOINTS\n",
    "    * ASSIGNMENT_WEIGHTS[\"project_checkpoint\"]\n",
    ")\n",
    "if YES_MIDTERM:\n",
    "    df[\"Overall Score with Discussion\"] += df[\"Midterm Average\"] * (\n",
    "        ASSIGNMENT_WEIGHTS[\"midterm_exam\"] - df[\"discussion_offset\"] / 2\n",
    "    )\n",
    "if YES_FINAL:\n",
    "    df[\"Overall Score with Discussion\"] += df[\"Final Average\"] * (\n",
    "        ASSIGNMENT_WEIGHTS[\"final_exam\"] - df[\"discussion_offset\"] / 2\n",
    "    )\n",
    "\n",
    "df[\"Overall Score with Discussion\"] += df[\"discussion_offset\"]\n",
    "\n",
    "df[\"Overall Score with Discussion\"] *= 100\n",
    "df[\"Overall Score with Discussion\"].max()"
   ]
  },
  {
   "cell_type": "code",
   "execution_count": 25,
   "metadata": {},
   "outputs": [
    {
     "data": {
      "text/plain": [
       "94.00947344903734"
      ]
     },
     "execution_count": 25,
     "metadata": {},
     "output_type": "execute_result"
    }
   ],
   "source": [
    "df[\"Overall Score with Lecture\"] = (\n",
    "    df[\"Lab Average\"] * NUM_LABS / MAX_LABS * ASSIGNMENT_WEIGHTS[\"lab\"]\n",
    "    + df[\"Project Average\"]\n",
    "    * NUM_PROJECTS\n",
    "    / MAX_PROJECTS\n",
    "    * ASSIGNMENT_WEIGHTS[\"project\"]\n",
    "    + df[\"Project Checkpoint Average\"]\n",
    "    * NUM_PROJECT_CHECKPOINTS\n",
    "    / MAX_PROJECT_CHECKPOINTS\n",
    "    * ASSIGNMENT_WEIGHTS[\"project_checkpoint\"]\n",
    ")\n",
    "if YES_MIDTERM:\n",
    "    df[\"Overall Score with Lecture\"] += df[\"Midterm Average\"] * (\n",
    "        ASSIGNMENT_WEIGHTS[\"midterm_exam\"] - df[\"lecture_offset\"] / 2\n",
    "    )\n",
    "if YES_FINAL:\n",
    "    df[\"Overall Score with Lecture\"] += df[\"Final Average\"] * (\n",
    "        ASSIGNMENT_WEIGHTS[\"final_exam\"] - df[\"lecture_offset\"] / 2\n",
    "    )\n",
    "\n",
    "df[\"Overall Score with Lecture\"] += df[\"lecture_offset\"]\n",
    "\n",
    "df[\"Overall Score with Lecture\"] *= 100\n",
    "df[\"Overall Score with Lecture\"].max()"
   ]
  },
  {
   "cell_type": "code",
   "execution_count": 26,
   "metadata": {},
   "outputs": [
    {
     "data": {
      "text/plain": [
       "94.68447344903736"
      ]
     },
     "execution_count": 26,
     "metadata": {},
     "output_type": "execute_result"
    }
   ],
   "source": [
    "df[\"Overall Score with Discussion and Lecture\"] = (\n",
    "    df[\"Lab Average\"]\n",
    "    * NUM_LABS\n",
    "    / MAX_LABS\n",
    "    * ASSIGNMENT_WEIGHTS[\"lab\"]\n",
    "    + df[\"Project Average\"]\n",
    "    * NUM_PROJECTS\n",
    "    / MAX_PROJECTS\n",
    "    * ASSIGNMENT_WEIGHTS[\"project\"]\n",
    "    + df[\"Project Checkpoint Average\"]\n",
    "    * NUM_PROJECT_CHECKPOINTS\n",
    "    / MAX_PROJECT_CHECKPOINTS\n",
    "    * ASSIGNMENT_WEIGHTS[\"project_checkpoint\"]\n",
    ")\n",
    "if YES_MIDTERM:\n",
    "    df[\"Overall Score with Discussion and Lecture\"] += df[\"Midterm Average\"] * (\n",
    "        ASSIGNMENT_WEIGHTS[\"midterm_exam\"]\n",
    "        - df[\"lecture_offset\"] / 2\n",
    "        - df[\"discussion_offset\"] / 2\n",
    "    )\n",
    "if YES_FINAL:\n",
    "    df[\"Overall Score with Discussion and Lecture\"] += df[\"Final Average\"] * (\n",
    "        ASSIGNMENT_WEIGHTS[\"final_exam\"]\n",
    "        - df[\"lecture_offset\"] / 2\n",
    "        - df[\"discussion_offset\"] / 2\n",
    "    )\n",
    "\n",
    "df[\"Overall Score with Discussion and Lecture\"] += (\n",
    "    df[\"discussion_offset\"] + df[\"lecture_offset\"]\n",
    ")\n",
    "\n",
    "\n",
    "df[\"Overall Score with Discussion and Lecture\"] *= 100\n",
    "df[\"Overall Score with Discussion and Lecture\"].max()"
   ]
  },
  {
   "cell_type": "markdown",
   "metadata": {},
   "source": [
    "# Finding Current Overall Score"
   ]
  },
  {
   "cell_type": "code",
   "execution_count": 27,
   "metadata": {},
   "outputs": [],
   "source": [
    "df[\"Overall Score\"] = df.apply(\n",
    "    lambda row: max(\n",
    "        row[\"Overall Score with Discussion and Lecture\"],\n",
    "        row[\"Overall Score with Discussion\"],\n",
    "        row[\"Overall Score with Lecture\"],\n",
    "        row[\"Overall Score without Discussion or Lecture\"],\n",
    "    ),\n",
    "    axis=1,\n",
    ")"
   ]
  },
  {
   "cell_type": "code",
   "execution_count": 28,
   "metadata": {},
   "outputs": [],
   "source": [
    "def determine_chosen_option(row):\n",
    "    options = {\n",
    "        'Discussion and Lecture': row[\"Overall Score with Discussion and Lecture\"],\n",
    "        'Discussion': row[\"Overall Score with Discussion\"],\n",
    "        'Lecture': row[\"Overall Score with Lecture\"],\n",
    "        'None': row[\"Overall Score without Discussion or Lecture\"]\n",
    "    }\n",
    "    chosen_option = max(options, key=options.get)\n",
    "    return chosen_option\n",
    "\n",
    "df[\"Chosen Option\"] = df.apply(determine_chosen_option, axis=1)"
   ]
  },
  {
   "cell_type": "markdown",
   "metadata": {},
   "source": [
    "# Calculating Current Grade(Percent / Total Point Possible) for Each Student"
   ]
  },
  {
   "cell_type": "code",
   "execution_count": 29,
   "metadata": {},
   "outputs": [],
   "source": [
    "df[\"Current Score\"] = df[\"Overall Score\"] / df[\"Max Possible Points\"] * 100"
   ]
  },
  {
   "cell_type": "code",
   "execution_count": 30,
   "metadata": {},
   "outputs": [],
   "source": [
    "df.reset_index(inplace=True)"
   ]
  },
  {
   "cell_type": "code",
   "execution_count": 31,
   "metadata": {},
   "outputs": [
    {
     "data": {
      "text/plain": [
       "<AxesSubplot:>"
      ]
     },
     "execution_count": 31,
     "metadata": {},
     "output_type": "execute_result"
    },
    {
     "data": {
      "image/png": "[encoded data removed]",
      "text/plain": [
       "<Figure size 640x480 with 1 Axes>"
      ]
     },
     "metadata": {},
     "output_type": "display_data"
    }
   ],
   "source": [
    "df[\"Current Score\"].hist(bins=20)"
   ]
  },
  {
   "cell_type": "code",
   "execution_count": 32,
   "metadata": {},
   "outputs": [
    {
     "data": {
      "text/html": [
       "<div>\n",
       "<style scoped>\n",
       "    .dataframe tbody tr th:only-of-type {\n",
       "        vertical-align: middle;\n",
       "    }\n",
       "\n",
       "    .dataframe tbody tr th {\n",
       "        vertical-align: top;\n",
       "    }\n",
       "\n",
       "    .dataframe thead th {\n",
       "        text-align: right;\n",
       "    }\n",
       "</style>\n",
       "<table border=\"1\" class=\"dataframe\">\n",
       "  <thead>\n",
       "    <tr style=\"text-align: right;\">\n",
       "      <th></th>\n",
       "      <th>SID</th>\n",
       "      <th>Name</th>\n",
       "      <th>Email</th>\n",
       "      <th>Lab 1</th>\n",
       "      <th>Lab 1 - Max Points</th>\n",
       "      <th>Lab 1 - Submission Time</th>\n",
       "      <th>Lab 1 - Lateness (H:M:S)</th>\n",
       "      <th>Project 1 Checkpoint</th>\n",
       "      <th>Project 1 Checkpoint - Max Points</th>\n",
       "      <th>Project 1 Checkpoint - Submission Time</th>\n",
       "      <th>...</th>\n",
       "      <th>Project Checkpoint Average</th>\n",
       "      <th>Midterm Average</th>\n",
       "      <th>Final Average</th>\n",
       "      <th>Overall Score without Discussion or Lecture</th>\n",
       "      <th>Overall Score with Discussion</th>\n",
       "      <th>Overall Score with Lecture</th>\n",
       "      <th>Overall Score with Discussion and Lecture</th>\n",
       "      <th>Overall Score</th>\n",
       "      <th>Chosen Option</th>\n",
       "      <th>Current Score</th>\n",
       "    </tr>\n",
       "  </thead>\n",
       "  <tbody>\n",
       "    <tr>\n",
       "      <th>109</th>\n",
       "      <td>A17372175</td>\n",
       "      <td>Rita Yujia Wu</td>\n",
       "      <td>yuw172@ucsd.edu</td>\n",
       "      <td>133.0</td>\n",
       "      <td>133.0</td>\n",
       "      <td>2024-04-24 14:33:56 -0700</td>\n",
       "      <td>326:34:56</td>\n",
       "      <td>13.0</td>\n",
       "      <td>13.0</td>\n",
       "      <td>2024-04-12 17:53:04 -0700</td>\n",
       "      <td>...</td>\n",
       "      <td>1.000</td>\n",
       "      <td>0.800000</td>\n",
       "      <td>0.930</td>\n",
       "      <td>93.334473</td>\n",
       "      <td>94.009473</td>\n",
       "      <td>94.009473</td>\n",
       "      <td>94.684473</td>\n",
       "      <td>94.684473</td>\n",
       "      <td>Discussion and Lecture</td>\n",
       "      <td>94.684473</td>\n",
       "    </tr>\n",
       "    <tr>\n",
       "      <th>139</th>\n",
       "      <td>A17466227</td>\n",
       "      <td>Yolanda Feng</td>\n",
       "      <td>yuf019@ucsd.edu</td>\n",
       "      <td>133.0</td>\n",
       "      <td>133.0</td>\n",
       "      <td>2024-05-21 22:20:03 -0700</td>\n",
       "      <td>982:21:03</td>\n",
       "      <td>13.0</td>\n",
       "      <td>13.0</td>\n",
       "      <td>2024-04-12 17:53:04 -0700</td>\n",
       "      <td>...</td>\n",
       "      <td>1.000</td>\n",
       "      <td>0.777529</td>\n",
       "      <td>0.930</td>\n",
       "      <td>93.069510</td>\n",
       "      <td>93.800688</td>\n",
       "      <td>93.800688</td>\n",
       "      <td>94.531865</td>\n",
       "      <td>94.531865</td>\n",
       "      <td>Discussion and Lecture</td>\n",
       "      <td>94.531865</td>\n",
       "    </tr>\n",
       "    <tr>\n",
       "      <th>134</th>\n",
       "      <td>A18078140</td>\n",
       "      <td>Viv Somani</td>\n",
       "      <td>visomani@ucsd.edu</td>\n",
       "      <td>132.0</td>\n",
       "      <td>133.0</td>\n",
       "      <td>2024-04-05 14:20:13 -0700</td>\n",
       "      <td>00:00:00</td>\n",
       "      <td>13.0</td>\n",
       "      <td>13.0</td>\n",
       "      <td>2024-04-09 16:59:03 -0700</td>\n",
       "      <td>...</td>\n",
       "      <td>0.975</td>\n",
       "      <td>0.886996</td>\n",
       "      <td>0.900</td>\n",
       "      <td>92.904922</td>\n",
       "      <td>93.437431</td>\n",
       "      <td>93.437431</td>\n",
       "      <td>93.969941</td>\n",
       "      <td>93.969941</td>\n",
       "      <td>Discussion and Lecture</td>\n",
       "      <td>93.969941</td>\n",
       "    </tr>\n",
       "    <tr>\n",
       "      <th>68</th>\n",
       "      <td>A18137549</td>\n",
       "      <td>Jefferson Chen</td>\n",
       "      <td>jec068@ucsd.edu</td>\n",
       "      <td>133.0</td>\n",
       "      <td>133.0</td>\n",
       "      <td>2024-05-08 19:56:02 -0700</td>\n",
       "      <td>667:57:02</td>\n",
       "      <td>13.0</td>\n",
       "      <td>13.0</td>\n",
       "      <td>2024-04-11 15:16:36 -0700</td>\n",
       "      <td>...</td>\n",
       "      <td>1.000</td>\n",
       "      <td>0.800000</td>\n",
       "      <td>0.855</td>\n",
       "      <td>90.633450</td>\n",
       "      <td>91.495950</td>\n",
       "      <td>91.495950</td>\n",
       "      <td>92.358450</td>\n",
       "      <td>92.358450</td>\n",
       "      <td>Discussion and Lecture</td>\n",
       "      <td>92.358450</td>\n",
       "    </tr>\n",
       "    <tr>\n",
       "      <th>108</th>\n",
       "      <td>A16275338</td>\n",
       "      <td>Richard Lin</td>\n",
       "      <td>rhlin@ucsd.edu</td>\n",
       "      <td>131.0</td>\n",
       "      <td>133.0</td>\n",
       "      <td>2024-04-10 19:43:24 -0700</td>\n",
       "      <td>00:00:00</td>\n",
       "      <td>13.0</td>\n",
       "      <td>13.0</td>\n",
       "      <td>2024-04-12 17:51:27 -0700</td>\n",
       "      <td>...</td>\n",
       "      <td>1.000</td>\n",
       "      <td>0.722795</td>\n",
       "      <td>0.865</td>\n",
       "      <td>89.697385</td>\n",
       "      <td>90.727897</td>\n",
       "      <td>90.727897</td>\n",
       "      <td>91.758408</td>\n",
       "      <td>91.758408</td>\n",
       "      <td>Discussion and Lecture</td>\n",
       "      <td>91.758408</td>\n",
       "    </tr>\n",
       "    <tr>\n",
       "      <th>...</th>\n",
       "      <td>...</td>\n",
       "      <td>...</td>\n",
       "      <td>...</td>\n",
       "      <td>...</td>\n",
       "      <td>...</td>\n",
       "      <td>...</td>\n",
       "      <td>...</td>\n",
       "      <td>...</td>\n",
       "      <td>...</td>\n",
       "      <td>...</td>\n",
       "      <td>...</td>\n",
       "      <td>...</td>\n",
       "      <td>...</td>\n",
       "      <td>...</td>\n",
       "      <td>...</td>\n",
       "      <td>...</td>\n",
       "      <td>...</td>\n",
       "      <td>...</td>\n",
       "      <td>...</td>\n",
       "      <td>...</td>\n",
       "      <td>...</td>\n",
       "    </tr>\n",
       "    <tr>\n",
       "      <th>132</th>\n",
       "      <td>A17401622</td>\n",
       "      <td>Vinson Nguyen</td>\n",
       "      <td>vqn002@ucsd.edu</td>\n",
       "      <td>0.0</td>\n",
       "      <td>133.0</td>\n",
       "      <td>0</td>\n",
       "      <td>00:00:00</td>\n",
       "      <td>0.0</td>\n",
       "      <td>13.0</td>\n",
       "      <td>2024-04-12 21:39:15 -0700</td>\n",
       "      <td>...</td>\n",
       "      <td>0.000</td>\n",
       "      <td>0.000000</td>\n",
       "      <td>0.000</td>\n",
       "      <td>0.198020</td>\n",
       "      <td>4.483734</td>\n",
       "      <td>0.198020</td>\n",
       "      <td>4.483734</td>\n",
       "      <td>4.483734</td>\n",
       "      <td>Discussion and Lecture</td>\n",
       "      <td>4.483734</td>\n",
       "    </tr>\n",
       "    <tr>\n",
       "      <th>115</th>\n",
       "      <td>A15664659</td>\n",
       "      <td>Sarah Colbath</td>\n",
       "      <td>mcolbath@ucsd.edu</td>\n",
       "      <td>0.0</td>\n",
       "      <td>133.0</td>\n",
       "      <td>0</td>\n",
       "      <td>00:00:00</td>\n",
       "      <td>0.0</td>\n",
       "      <td>13.0</td>\n",
       "      <td>0</td>\n",
       "      <td>...</td>\n",
       "      <td>0.000</td>\n",
       "      <td>0.000000</td>\n",
       "      <td>0.000</td>\n",
       "      <td>4.367419</td>\n",
       "      <td>4.367419</td>\n",
       "      <td>4.367419</td>\n",
       "      <td>4.367419</td>\n",
       "      <td>4.367419</td>\n",
       "      <td>Discussion and Lecture</td>\n",
       "      <td>4.367419</td>\n",
       "    </tr>\n",
       "    <tr>\n",
       "      <th>12</th>\n",
       "      <td>U10042056</td>\n",
       "      <td>Antoine CARRE CARRE</td>\n",
       "      <td>ax009221@acsmail.ucsd.edu</td>\n",
       "      <td>115.0</td>\n",
       "      <td>133.0</td>\n",
       "      <td>2024-04-10 19:27:47 -0700</td>\n",
       "      <td>00:00:00</td>\n",
       "      <td>0.0</td>\n",
       "      <td>13.0</td>\n",
       "      <td>0</td>\n",
       "      <td>...</td>\n",
       "      <td>0.000</td>\n",
       "      <td>0.000000</td>\n",
       "      <td>0.000</td>\n",
       "      <td>2.161654</td>\n",
       "      <td>2.161654</td>\n",
       "      <td>2.161654</td>\n",
       "      <td>2.161654</td>\n",
       "      <td>2.161654</td>\n",
       "      <td>Discussion and Lecture</td>\n",
       "      <td>2.161654</td>\n",
       "    </tr>\n",
       "    <tr>\n",
       "      <th>23</th>\n",
       "      <td>A16371195</td>\n",
       "      <td>Cariappa Kodira</td>\n",
       "      <td>ckodira@ucsd.edu</td>\n",
       "      <td>98.0</td>\n",
       "      <td>133.0</td>\n",
       "      <td>2024-04-16 16:14:07 -0700</td>\n",
       "      <td>136:15:07</td>\n",
       "      <td>0.0</td>\n",
       "      <td>13.0</td>\n",
       "      <td>2024-04-12 23:54:33 -0700</td>\n",
       "      <td>...</td>\n",
       "      <td>0.000</td>\n",
       "      <td>0.000000</td>\n",
       "      <td>0.000</td>\n",
       "      <td>1.842105</td>\n",
       "      <td>1.842105</td>\n",
       "      <td>1.842105</td>\n",
       "      <td>1.842105</td>\n",
       "      <td>1.842105</td>\n",
       "      <td>Discussion and Lecture</td>\n",
       "      <td>1.842105</td>\n",
       "    </tr>\n",
       "    <tr>\n",
       "      <th>62</th>\n",
       "      <td>A17375507</td>\n",
       "      <td>Idhant Kumar</td>\n",
       "      <td>ikumar@ucsd.edu</td>\n",
       "      <td>0.0</td>\n",
       "      <td>133.0</td>\n",
       "      <td>0</td>\n",
       "      <td>00:00:00</td>\n",
       "      <td>0.0</td>\n",
       "      <td>13.0</td>\n",
       "      <td>0</td>\n",
       "      <td>...</td>\n",
       "      <td>0.000</td>\n",
       "      <td>0.000000</td>\n",
       "      <td>0.000</td>\n",
       "      <td>0.000000</td>\n",
       "      <td>0.000000</td>\n",
       "      <td>0.000000</td>\n",
       "      <td>0.000000</td>\n",
       "      <td>0.000000</td>\n",
       "      <td>Discussion and Lecture</td>\n",
       "      <td>0.000000</td>\n",
       "    </tr>\n",
       "  </tbody>\n",
       "</table>\n",
       "<p>149 rows × 239 columns</p>\n",
       "</div>"
      ],
      "text/plain": [
       "           SID                 Name                      Email  Lab 1  \\\n",
       "109  A17372175        Rita Yujia Wu            yuw172@ucsd.edu  133.0   \n",
       "139  A17466227         Yolanda Feng            yuf019@ucsd.edu  133.0   \n",
       "134  A18078140           Viv Somani          visomani@ucsd.edu  132.0   \n",
       "68   A18137549       Jefferson Chen            jec068@ucsd.edu  133.0   \n",
       "108  A16275338          Richard Lin             rhlin@ucsd.edu  131.0   \n",
       "..         ...                  ...                        ...    ...   \n",
       "132  A17401622        Vinson Nguyen            vqn002@ucsd.edu    0.0   \n",
       "115  A15664659        Sarah Colbath          mcolbath@ucsd.edu    0.0   \n",
       "12   U10042056  Antoine CARRE CARRE  ax009221@acsmail.ucsd.edu  115.0   \n",
       "23   A16371195      Cariappa Kodira           ckodira@ucsd.edu   98.0   \n",
       "62   A17375507         Idhant Kumar            ikumar@ucsd.edu    0.0   \n",
       "\n",
       "     Lab 1 - Max Points    Lab 1 - Submission Time Lab 1 - Lateness (H:M:S)  \\\n",
       "109               133.0  2024-04-24 14:33:56 -0700                326:34:56   \n",
       "139               133.0  2024-05-21 22:20:03 -0700                982:21:03   \n",
       "134               133.0  2024-04-05 14:20:13 -0700                 00:00:00   \n",
       "68                133.0  2024-05-08 19:56:02 -0700                667:57:02   \n",
       "108               133.0  2024-04-10 19:43:24 -0700                 00:00:00   \n",
       "..                  ...                        ...                      ...   \n",
       "132               133.0                          0                 00:00:00   \n",
       "115               133.0                          0                 00:00:00   \n",
       "12                133.0  2024-04-10 19:27:47 -0700                 00:00:00   \n",
       "23                133.0  2024-04-16 16:14:07 -0700                136:15:07   \n",
       "62                133.0                          0                 00:00:00   \n",
       "\n",
       "     Project 1 Checkpoint  Project 1 Checkpoint - Max Points  \\\n",
       "109                  13.0                               13.0   \n",
       "139                  13.0                               13.0   \n",
       "134                  13.0                               13.0   \n",
       "68                   13.0                               13.0   \n",
       "108                  13.0                               13.0   \n",
       "..                    ...                                ...   \n",
       "132                   0.0                               13.0   \n",
       "115                   0.0                               13.0   \n",
       "12                    0.0                               13.0   \n",
       "23                    0.0                               13.0   \n",
       "62                    0.0                               13.0   \n",
       "\n",
       "    Project 1 Checkpoint - Submission Time  ... Project Checkpoint Average  \\\n",
       "109              2024-04-12 17:53:04 -0700  ...                      1.000   \n",
       "139              2024-04-12 17:53:04 -0700  ...                      1.000   \n",
       "134              2024-04-09 16:59:03 -0700  ...                      0.975   \n",
       "68               2024-04-11 15:16:36 -0700  ...                      1.000   \n",
       "108              2024-04-12 17:51:27 -0700  ...                      1.000   \n",
       "..                                     ...  ...                        ...   \n",
       "132              2024-04-12 21:39:15 -0700  ...                      0.000   \n",
       "115                                      0  ...                      0.000   \n",
       "12                                       0  ...                      0.000   \n",
       "23               2024-04-12 23:54:33 -0700  ...                      0.000   \n",
       "62                                       0  ...                      0.000   \n",
       "\n",
       "     Midterm Average  Final Average  \\\n",
       "109         0.800000          0.930   \n",
       "139         0.777529          0.930   \n",
       "134         0.886996          0.900   \n",
       "68          0.800000          0.855   \n",
       "108         0.722795          0.865   \n",
       "..               ...            ...   \n",
       "132         0.000000          0.000   \n",
       "115         0.000000          0.000   \n",
       "12          0.000000          0.000   \n",
       "23          0.000000          0.000   \n",
       "62          0.000000          0.000   \n",
       "\n",
       "    Overall Score without Discussion or Lecture Overall Score with Discussion  \\\n",
       "109                                   93.334473                     94.009473   \n",
       "139                                   93.069510                     93.800688   \n",
       "134                                   92.904922                     93.437431   \n",
       "68                                    90.633450                     91.495950   \n",
       "108                                   89.697385                     90.727897   \n",
       "..                                          ...                           ...   \n",
       "132                                    0.198020                      4.483734   \n",
       "115                                    4.367419                      4.367419   \n",
       "12                                     2.161654                      2.161654   \n",
       "23                                     1.842105                      1.842105   \n",
       "62                                     0.000000                      0.000000   \n",
       "\n",
       "     Overall Score with Lecture  Overall Score with Discussion and Lecture  \\\n",
       "109                   94.009473                                  94.684473   \n",
       "139                   93.800688                                  94.531865   \n",
       "134                   93.437431                                  93.969941   \n",
       "68                    91.495950                                  92.358450   \n",
       "108                   90.727897                                  91.758408   \n",
       "..                          ...                                        ...   \n",
       "132                    0.198020                                   4.483734   \n",
       "115                    4.367419                                   4.367419   \n",
       "12                     2.161654                                   2.161654   \n",
       "23                     1.842105                                   1.842105   \n",
       "62                     0.000000                                   0.000000   \n",
       "\n",
       "    Overall Score           Chosen Option  Current Score  \n",
       "109     94.684473  Discussion and Lecture      94.684473  \n",
       "139     94.531865  Discussion and Lecture      94.531865  \n",
       "134     93.969941  Discussion and Lecture      93.969941  \n",
       "68      92.358450  Discussion and Lecture      92.358450  \n",
       "108     91.758408  Discussion and Lecture      91.758408  \n",
       "..            ...                     ...            ...  \n",
       "132      4.483734  Discussion and Lecture       4.483734  \n",
       "115      4.367419  Discussion and Lecture       4.367419  \n",
       "12       2.161654  Discussion and Lecture       2.161654  \n",
       "23       1.842105  Discussion and Lecture       1.842105  \n",
       "62       0.000000  Discussion and Lecture       0.000000  \n",
       "\n",
       "[149 rows x 239 columns]"
      ]
     },
     "execution_count": 32,
     "metadata": {},
     "output_type": "execute_result"
    }
   ],
   "source": [
    "df = df.sort_values(\"Overall Score\", ascending=False)\n",
    "df = df.drop_duplicates(subset='SID', keep='first')\n",
    "df"
   ]
  },
  {
   "cell_type": "code",
   "execution_count": 33,
   "metadata": {},
   "outputs": [],
   "source": [
    "df.to_csv(\"../data/grades_for_grade_report.csv\", index=False)"
   ]
  },
  {
   "cell_type": "code",
   "execution_count": 34,
   "metadata": {},
   "outputs": [],
   "source": [
    "df[\n",
    "    [\n",
    "        \"Name\",\n",
    "        \"Email\",\n",
    "        \"SID\",\n",
    "        \"Overall Score\",\n",
    "        \"Lab Average\",\n",
    "        \"Project Average\",\n",
    "        \"Project Checkpoint Average\",\n",
    "        \"Midterm Average\",\n",
    "        \"Final Average\",\n",
    "        \"lecture_count\",\n",
    "        \"disc_count\",\n",
    "    ]\n",
    "].to_csv(\"../to_sam.csv\", index=False)"
   ]
  }
 ],
 "metadata": {
  "kernelspec": {
   "display_name": "dsc80",
   "language": "python",
   "name": "python3"
  },
  "language_info": {
   "codemirror_mode": {
    "name": "ipython",
    "version": 3
   },
   "file_extension": ".py",
   "mimetype": "text/x-python",
   "name": "python",
   "nbconvert_exporter": "python",
   "pygments_lexer": "ipython3",
   "version": "3.8.19"
  }
 },
 "nbformat": 4,
 "nbformat_minor": 2
}
