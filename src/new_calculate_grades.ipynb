{
 "cells": [
  {
   "cell_type": "code",
   "execution_count": 1,
   "metadata": {},
   "outputs": [],
   "source": [
    "import pandas as pd\n",
    "import numpy as np\n",
    "import yaml"
   ]
  },
  {
   "cell_type": "markdown",
   "metadata": {},
   "source": [
    "# Getting the Data from Config File"
   ]
  },
  {
   "cell_type": "code",
   "execution_count": 2,
   "metadata": {},
   "outputs": [],
   "source": [
    "config = open(\"../configs.yaml\", 'r')\n",
    "dictionary = yaml.safe_load(config)"
   ]
  },
  {
   "cell_type": "code",
   "execution_count": 3,
   "metadata": {},
   "outputs": [],
   "source": [
    "# Data Loading Fields\n",
    "GRADES_FILENAME = dictionary[\"data_path\"][\"grades_filename\"]\n",
    "\n",
    "# Lab Fields\n",
    "NUM_LABS = dictionary[\"labs\"][\"num_labs\"]\n",
    "MAX_LABS = dictionary[\"labs\"][\"max_labs\"]\n",
    "\n",
    "# Project Fields\n",
    "NUM_PROJECTS = dictionary[\"projects\"][\"num_projects\"]\n",
    "MAX_PROJECTS = dictionary[\"projects\"][\"max_projects\"]\n",
    "\n",
    "NUM_PROJECT_CHECKPOINTS = dictionary[\"projects\"][\"num_checkpoints\"]\n",
    "MAX_PROJECT_CHECKPOINTS = dictionary[\"projects\"][\"max_checkpoints\"]\n",
    "\n",
    "# Midterm fields\n",
    "YES_MIDTERM = dictionary[\"exams\"][\"midterm\"][\"enabled\"]\n",
    "MIDTERM_VERSIONS = dictionary[\"exams\"][\"midterm\"][\"versions\"]\n",
    "MIDTERM_BONUS = dictionary[\"exams\"][\"midterm\"][\"bonus\"]\n",
    "\n",
    "# Final Fields\n",
    "YES_FINAL = dictionary[\"exams\"][\"final\"][\"enabled\"]\n",
    "FINAL_VERSIONS = dictionary[\"exams\"][\"final\"][\"versions\"]\n",
    "\n",
    "# Discussion Fields\n",
    "NUM_DI = dictionary[\"discussions\"][\"num_dis\"]\n",
    "MAX_DI = dictionary[\"discussions\"][\"max_dis\"]\n",
    "\n",
    "# Number of dropped assignments per category (set to 0 for no drops)\n",
    "# For example, if NUM_DROPS = 2, then 2 Labs and 2 Homeworks will be dropped\n",
    "# Note: Set this to 0 until the end of the quarter\n",
    "NUM_DROPS = dictionary[\"drop_policy\"][\"num_drops\"]\n",
    "\n",
    "OVERALL_EC = dictionary[\"extra_credit\"][\"overall\"]\n",
    "\n",
    "ASSIGNMENT_WEIGHTS = dictionary[\"assignment_weights\"]\n",
    "DISCUSSION_ASSIGNMENT_WEIGHTS = dictionary[\"discussion_assignment_weights\"]\n",
    "\n",
    "# Late Submission Grace Period (3 Minutes)\n",
    "GRACE_PERIOD = 3 / 60 "
   ]
  },
  {
   "cell_type": "markdown",
   "metadata": {},
   "source": [
    "# Reading in the Current Grade CSV"
   ]
  },
  {
   "cell_type": "code",
   "execution_count": 4,
   "metadata": {},
   "outputs": [],
   "source": [
    "df = pd.read_csv(GRADES_FILENAME)\n",
    "discussion_and_lecture_attendence = pd.read_csv('../data/attendance_v2.csv').drop(columns=['Email', 'Name'])\n",
    "df = df.merge(discussion_and_lecture_attendence, on='SID')\n",
    "\n",
    "# Create name column if not already present\n",
    "if 'Name' not in df.columns:\n",
    "    df['Name'] = df['First Name'] + ' ' + df['Last Name']\n",
    "    df = df.drop(['First Name', 'Last Name'], axis=1)"
   ]
  },
  {
   "cell_type": "markdown",
   "metadata": {},
   "source": [
    "# Lab 1 Does not have Redemption Assignement "
   ]
  },
  {
   "cell_type": "code",
   "execution_count": 5,
   "metadata": {},
   "outputs": [],
   "source": [
    "# At the beginning of the quarter, we did not do Lab 1 Redemption\n",
    "def redemption_score(lateness, score):\n",
    "    if lateness != \"00:00:00\":\n",
    "        return score\n",
    "    else:\n",
    "        return np.nan\n",
    "\n",
    "df[\"Lab 1 Redemption\"] = df.apply(\n",
    "    lambda row: redemption_score(row[\"Lab 1 - Lateness (H:M:S)\"], row[\"Lab 1\"]), axis=1\n",
    ")\n",
    "df[\"Lab 1 Redemption - Max Points\"] = df[\"Lab 1 - Max Points\"]"
   ]
  },
  {
   "cell_type": "code",
   "execution_count": 6,
   "metadata": {},
   "outputs": [
    {
     "data": {
      "text/html": [
       "<div>\n",
       "<style scoped>\n",
       "    .dataframe tbody tr th:only-of-type {\n",
       "        vertical-align: middle;\n",
       "    }\n",
       "\n",
       "    .dataframe tbody tr th {\n",
       "        vertical-align: top;\n",
       "    }\n",
       "\n",
       "    .dataframe thead th {\n",
       "        text-align: right;\n",
       "    }\n",
       "</style>\n",
       "<table border=\"1\" class=\"dataframe\">\n",
       "  <thead>\n",
       "    <tr style=\"text-align: right;\">\n",
       "      <th></th>\n",
       "      <th>Name</th>\n",
       "      <th>SID</th>\n",
       "      <th>Email</th>\n",
       "      <th>Lab 1</th>\n",
       "      <th>Lab 1 - Max Points</th>\n",
       "      <th>Lab 1 - Submission Time</th>\n",
       "      <th>Lab 1 - Lateness (H:M:S)</th>\n",
       "      <th>Project 1 Checkpoint</th>\n",
       "      <th>Project 1 Checkpoint - Max Points</th>\n",
       "      <th>Project 1 Checkpoint - Submission Time</th>\n",
       "      <th>...</th>\n",
       "      <th>Discussion 8 Worksheet - Lateness (H:M:S)</th>\n",
       "      <th>Lab 7 Redemption</th>\n",
       "      <th>Lab 7 Redemption - Max Points</th>\n",
       "      <th>Lab 7 Redemption - Submission Time</th>\n",
       "      <th>Lab 7 Redemption - Lateness (H:M:S)</th>\n",
       "      <th>Total Lateness (H:M:S)</th>\n",
       "      <th>disc_count</th>\n",
       "      <th>lecture_count</th>\n",
       "      <th>Lab 1 Redemption</th>\n",
       "      <th>Lab 1 Redemption - Max Points</th>\n",
       "    </tr>\n",
       "  </thead>\n",
       "  <tbody>\n",
       "    <tr>\n",
       "      <th>0</th>\n",
       "      <td>Abdulrahim Ham</td>\n",
       "      <td>A17531851</td>\n",
       "      <td>amham@ucsd.edu</td>\n",
       "      <td>129.0</td>\n",
       "      <td>133.0</td>\n",
       "      <td>2024-04-10 13:16:54 -0700</td>\n",
       "      <td>00:00:00</td>\n",
       "      <td>13.0</td>\n",
       "      <td>13.0</td>\n",
       "      <td>2024-04-12 17:15:27 -0700</td>\n",
       "      <td>...</td>\n",
       "      <td>00:00:00</td>\n",
       "      <td>NaN</td>\n",
       "      <td>111.0</td>\n",
       "      <td>NaN</td>\n",
       "      <td>00:00:00</td>\n",
       "      <td>00:00:00</td>\n",
       "      <td>1.0</td>\n",
       "      <td>6.0</td>\n",
       "      <td>NaN</td>\n",
       "      <td>133.0</td>\n",
       "    </tr>\n",
       "    <tr>\n",
       "      <th>1</th>\n",
       "      <td>Aditya Surapaneni</td>\n",
       "      <td>A18134364</td>\n",
       "      <td>assurapaneni@ucsd.edu</td>\n",
       "      <td>127.0</td>\n",
       "      <td>133.0</td>\n",
       "      <td>2024-04-10 18:40:28 -0700</td>\n",
       "      <td>00:00:00</td>\n",
       "      <td>13.0</td>\n",
       "      <td>13.0</td>\n",
       "      <td>2024-04-11 19:37:51 -0700</td>\n",
       "      <td>...</td>\n",
       "      <td>00:00:00</td>\n",
       "      <td>NaN</td>\n",
       "      <td>111.0</td>\n",
       "      <td>NaN</td>\n",
       "      <td>00:00:00</td>\n",
       "      <td>00:00:00</td>\n",
       "      <td>6.0</td>\n",
       "      <td>7.0</td>\n",
       "      <td>NaN</td>\n",
       "      <td>133.0</td>\n",
       "    </tr>\n",
       "    <tr>\n",
       "      <th>2</th>\n",
       "      <td>Adrian Apsay</td>\n",
       "      <td>A17384335</td>\n",
       "      <td>adapsay@ucsd.edu</td>\n",
       "      <td>129.0</td>\n",
       "      <td>133.0</td>\n",
       "      <td>2024-04-10 23:04:53 -0700</td>\n",
       "      <td>00:00:00</td>\n",
       "      <td>13.0</td>\n",
       "      <td>13.0</td>\n",
       "      <td>2024-04-12 23:57:07 -0700</td>\n",
       "      <td>...</td>\n",
       "      <td>00:00:00</td>\n",
       "      <td>NaN</td>\n",
       "      <td>111.0</td>\n",
       "      <td>NaN</td>\n",
       "      <td>00:00:00</td>\n",
       "      <td>00:00:00</td>\n",
       "      <td>7.0</td>\n",
       "      <td>3.0</td>\n",
       "      <td>NaN</td>\n",
       "      <td>133.0</td>\n",
       "    </tr>\n",
       "    <tr>\n",
       "      <th>3</th>\n",
       "      <td>Ahmad Ageel</td>\n",
       "      <td>A17500501</td>\n",
       "      <td>aageel@ucsd.edu</td>\n",
       "      <td>NaN</td>\n",
       "      <td>133.0</td>\n",
       "      <td>NaN</td>\n",
       "      <td>00:00:00</td>\n",
       "      <td>NaN</td>\n",
       "      <td>13.0</td>\n",
       "      <td>NaN</td>\n",
       "      <td>...</td>\n",
       "      <td>00:00:00</td>\n",
       "      <td>NaN</td>\n",
       "      <td>111.0</td>\n",
       "      <td>NaN</td>\n",
       "      <td>00:00:00</td>\n",
       "      <td>00:00:00</td>\n",
       "      <td>0.0</td>\n",
       "      <td>0.0</td>\n",
       "      <td>NaN</td>\n",
       "      <td>133.0</td>\n",
       "    </tr>\n",
       "    <tr>\n",
       "      <th>4</th>\n",
       "      <td>Albert Henderson</td>\n",
       "      <td>A16384282</td>\n",
       "      <td>adhender@ucsd.edu</td>\n",
       "      <td>126.0</td>\n",
       "      <td>133.0</td>\n",
       "      <td>2024-04-11 11:33:48 -0700</td>\n",
       "      <td>00:00:00</td>\n",
       "      <td>12.0</td>\n",
       "      <td>13.0</td>\n",
       "      <td>2024-04-12 23:26:02 -0700</td>\n",
       "      <td>...</td>\n",
       "      <td>00:00:00</td>\n",
       "      <td>NaN</td>\n",
       "      <td>111.0</td>\n",
       "      <td>NaN</td>\n",
       "      <td>00:00:00</td>\n",
       "      <td>00:00:00</td>\n",
       "      <td>0.0</td>\n",
       "      <td>0.0</td>\n",
       "      <td>NaN</td>\n",
       "      <td>133.0</td>\n",
       "    </tr>\n",
       "    <tr>\n",
       "      <th>...</th>\n",
       "      <td>...</td>\n",
       "      <td>...</td>\n",
       "      <td>...</td>\n",
       "      <td>...</td>\n",
       "      <td>...</td>\n",
       "      <td>...</td>\n",
       "      <td>...</td>\n",
       "      <td>...</td>\n",
       "      <td>...</td>\n",
       "      <td>...</td>\n",
       "      <td>...</td>\n",
       "      <td>...</td>\n",
       "      <td>...</td>\n",
       "      <td>...</td>\n",
       "      <td>...</td>\n",
       "      <td>...</td>\n",
       "      <td>...</td>\n",
       "      <td>...</td>\n",
       "      <td>...</td>\n",
       "      <td>...</td>\n",
       "      <td>...</td>\n",
       "    </tr>\n",
       "    <tr>\n",
       "      <th>144</th>\n",
       "      <td>Zachary Thomason</td>\n",
       "      <td>A18090378</td>\n",
       "      <td>zthomason@ucsd.edu</td>\n",
       "      <td>123.0</td>\n",
       "      <td>133.0</td>\n",
       "      <td>2024-04-12 23:01:49 -0700</td>\n",
       "      <td>47:02:49</td>\n",
       "      <td>13.0</td>\n",
       "      <td>13.0</td>\n",
       "      <td>2024-04-12 22:57:28 -0700</td>\n",
       "      <td>...</td>\n",
       "      <td>00:00:00</td>\n",
       "      <td>NaN</td>\n",
       "      <td>111.0</td>\n",
       "      <td>NaN</td>\n",
       "      <td>00:00:00</td>\n",
       "      <td>47:02:49</td>\n",
       "      <td>4.0</td>\n",
       "      <td>2.0</td>\n",
       "      <td>123.0</td>\n",
       "      <td>133.0</td>\n",
       "    </tr>\n",
       "    <tr>\n",
       "      <th>145</th>\n",
       "      <td>Zijin Qin</td>\n",
       "      <td>A17358491</td>\n",
       "      <td>z2qin@ucsd.edu</td>\n",
       "      <td>110.0</td>\n",
       "      <td>133.0</td>\n",
       "      <td>2024-04-10 23:32:06 -0700</td>\n",
       "      <td>00:00:00</td>\n",
       "      <td>13.0</td>\n",
       "      <td>13.0</td>\n",
       "      <td>2024-04-12 13:59:58 -0700</td>\n",
       "      <td>...</td>\n",
       "      <td>00:00:00</td>\n",
       "      <td>NaN</td>\n",
       "      <td>111.0</td>\n",
       "      <td>NaN</td>\n",
       "      <td>00:00:00</td>\n",
       "      <td>47:35:09</td>\n",
       "      <td>6.0</td>\n",
       "      <td>5.0</td>\n",
       "      <td>NaN</td>\n",
       "      <td>133.0</td>\n",
       "    </tr>\n",
       "    <tr>\n",
       "      <th>146</th>\n",
       "      <td>Zixun Zhang</td>\n",
       "      <td>A16985661</td>\n",
       "      <td>ziz046@ucsd.edu</td>\n",
       "      <td>128.0</td>\n",
       "      <td>133.0</td>\n",
       "      <td>2024-04-10 18:19:41 -0700</td>\n",
       "      <td>00:00:00</td>\n",
       "      <td>13.0</td>\n",
       "      <td>13.0</td>\n",
       "      <td>2024-04-12 20:09:39 -0700</td>\n",
       "      <td>...</td>\n",
       "      <td>00:00:00</td>\n",
       "      <td>NaN</td>\n",
       "      <td>111.0</td>\n",
       "      <td>NaN</td>\n",
       "      <td>00:00:00</td>\n",
       "      <td>00:00:00</td>\n",
       "      <td>0.0</td>\n",
       "      <td>0.0</td>\n",
       "      <td>NaN</td>\n",
       "      <td>133.0</td>\n",
       "    </tr>\n",
       "    <tr>\n",
       "      <th>147</th>\n",
       "      <td>Ziyao Zhou</td>\n",
       "      <td>A17268660</td>\n",
       "      <td>ziz075@ucsd.edu</td>\n",
       "      <td>133.0</td>\n",
       "      <td>133.0</td>\n",
       "      <td>2024-05-08 19:39:03 -0700</td>\n",
       "      <td>667:40:03</td>\n",
       "      <td>13.0</td>\n",
       "      <td>13.0</td>\n",
       "      <td>2024-04-12 23:40:46 -0700</td>\n",
       "      <td>...</td>\n",
       "      <td>00:00:00</td>\n",
       "      <td>NaN</td>\n",
       "      <td>111.0</td>\n",
       "      <td>NaN</td>\n",
       "      <td>00:00:00</td>\n",
       "      <td>667:40:03</td>\n",
       "      <td>6.0</td>\n",
       "      <td>4.0</td>\n",
       "      <td>133.0</td>\n",
       "      <td>133.0</td>\n",
       "    </tr>\n",
       "    <tr>\n",
       "      <th>148</th>\n",
       "      <td>Zoya Hasan</td>\n",
       "      <td>A17466997</td>\n",
       "      <td>zohasan@ucsd.edu</td>\n",
       "      <td>114.0</td>\n",
       "      <td>133.0</td>\n",
       "      <td>2024-04-12 15:04:25 -0700</td>\n",
       "      <td>00:00:00</td>\n",
       "      <td>13.0</td>\n",
       "      <td>13.0</td>\n",
       "      <td>2024-04-12 19:39:29 -0700</td>\n",
       "      <td>...</td>\n",
       "      <td>00:00:00</td>\n",
       "      <td>NaN</td>\n",
       "      <td>111.0</td>\n",
       "      <td>NaN</td>\n",
       "      <td>00:00:00</td>\n",
       "      <td>23:39:35</td>\n",
       "      <td>6.0</td>\n",
       "      <td>3.0</td>\n",
       "      <td>NaN</td>\n",
       "      <td>133.0</td>\n",
       "    </tr>\n",
       "  </tbody>\n",
       "</table>\n",
       "<p>149 rows × 116 columns</p>\n",
       "</div>"
      ],
      "text/plain": [
       "                  Name        SID                  Email  Lab 1  \\\n",
       "0       Abdulrahim Ham  A17531851         amham@ucsd.edu  129.0   \n",
       "1    Aditya Surapaneni  A18134364  assurapaneni@ucsd.edu  127.0   \n",
       "2         Adrian Apsay  A17384335       adapsay@ucsd.edu  129.0   \n",
       "3          Ahmad Ageel  A17500501        aageel@ucsd.edu    NaN   \n",
       "4     Albert Henderson  A16384282      adhender@ucsd.edu  126.0   \n",
       "..                 ...        ...                    ...    ...   \n",
       "144   Zachary Thomason  A18090378     zthomason@ucsd.edu  123.0   \n",
       "145          Zijin Qin  A17358491         z2qin@ucsd.edu  110.0   \n",
       "146        Zixun Zhang  A16985661        ziz046@ucsd.edu  128.0   \n",
       "147         Ziyao Zhou  A17268660        ziz075@ucsd.edu  133.0   \n",
       "148         Zoya Hasan  A17466997       zohasan@ucsd.edu  114.0   \n",
       "\n",
       "     Lab 1 - Max Points    Lab 1 - Submission Time Lab 1 - Lateness (H:M:S)  \\\n",
       "0                 133.0  2024-04-10 13:16:54 -0700                 00:00:00   \n",
       "1                 133.0  2024-04-10 18:40:28 -0700                 00:00:00   \n",
       "2                 133.0  2024-04-10 23:04:53 -0700                 00:00:00   \n",
       "3                 133.0                        NaN                 00:00:00   \n",
       "4                 133.0  2024-04-11 11:33:48 -0700                 00:00:00   \n",
       "..                  ...                        ...                      ...   \n",
       "144               133.0  2024-04-12 23:01:49 -0700                 47:02:49   \n",
       "145               133.0  2024-04-10 23:32:06 -0700                 00:00:00   \n",
       "146               133.0  2024-04-10 18:19:41 -0700                 00:00:00   \n",
       "147               133.0  2024-05-08 19:39:03 -0700                667:40:03   \n",
       "148               133.0  2024-04-12 15:04:25 -0700                 00:00:00   \n",
       "\n",
       "     Project 1 Checkpoint  Project 1 Checkpoint - Max Points  \\\n",
       "0                    13.0                               13.0   \n",
       "1                    13.0                               13.0   \n",
       "2                    13.0                               13.0   \n",
       "3                     NaN                               13.0   \n",
       "4                    12.0                               13.0   \n",
       "..                    ...                                ...   \n",
       "144                  13.0                               13.0   \n",
       "145                  13.0                               13.0   \n",
       "146                  13.0                               13.0   \n",
       "147                  13.0                               13.0   \n",
       "148                  13.0                               13.0   \n",
       "\n",
       "    Project 1 Checkpoint - Submission Time  ...  \\\n",
       "0                2024-04-12 17:15:27 -0700  ...   \n",
       "1                2024-04-11 19:37:51 -0700  ...   \n",
       "2                2024-04-12 23:57:07 -0700  ...   \n",
       "3                                      NaN  ...   \n",
       "4                2024-04-12 23:26:02 -0700  ...   \n",
       "..                                     ...  ...   \n",
       "144              2024-04-12 22:57:28 -0700  ...   \n",
       "145              2024-04-12 13:59:58 -0700  ...   \n",
       "146              2024-04-12 20:09:39 -0700  ...   \n",
       "147              2024-04-12 23:40:46 -0700  ...   \n",
       "148              2024-04-12 19:39:29 -0700  ...   \n",
       "\n",
       "    Discussion 8 Worksheet - Lateness (H:M:S)  Lab 7 Redemption  \\\n",
       "0                                    00:00:00               NaN   \n",
       "1                                    00:00:00               NaN   \n",
       "2                                    00:00:00               NaN   \n",
       "3                                    00:00:00               NaN   \n",
       "4                                    00:00:00               NaN   \n",
       "..                                        ...               ...   \n",
       "144                                  00:00:00               NaN   \n",
       "145                                  00:00:00               NaN   \n",
       "146                                  00:00:00               NaN   \n",
       "147                                  00:00:00               NaN   \n",
       "148                                  00:00:00               NaN   \n",
       "\n",
       "     Lab 7 Redemption - Max Points Lab 7 Redemption - Submission Time  \\\n",
       "0                            111.0                                NaN   \n",
       "1                            111.0                                NaN   \n",
       "2                            111.0                                NaN   \n",
       "3                            111.0                                NaN   \n",
       "4                            111.0                                NaN   \n",
       "..                             ...                                ...   \n",
       "144                          111.0                                NaN   \n",
       "145                          111.0                                NaN   \n",
       "146                          111.0                                NaN   \n",
       "147                          111.0                                NaN   \n",
       "148                          111.0                                NaN   \n",
       "\n",
       "    Lab 7 Redemption - Lateness (H:M:S)  Total Lateness (H:M:S)  disc_count  \\\n",
       "0                              00:00:00                00:00:00         1.0   \n",
       "1                              00:00:00                00:00:00         6.0   \n",
       "2                              00:00:00                00:00:00         7.0   \n",
       "3                              00:00:00                00:00:00         0.0   \n",
       "4                              00:00:00                00:00:00         0.0   \n",
       "..                                  ...                     ...         ...   \n",
       "144                            00:00:00                47:02:49         4.0   \n",
       "145                            00:00:00                47:35:09         6.0   \n",
       "146                            00:00:00                00:00:00         0.0   \n",
       "147                            00:00:00               667:40:03         6.0   \n",
       "148                            00:00:00                23:39:35         6.0   \n",
       "\n",
       "    lecture_count Lab 1 Redemption  Lab 1 Redemption - Max Points  \n",
       "0             6.0              NaN                          133.0  \n",
       "1             7.0              NaN                          133.0  \n",
       "2             3.0              NaN                          133.0  \n",
       "3             0.0              NaN                          133.0  \n",
       "4             0.0              NaN                          133.0  \n",
       "..            ...              ...                            ...  \n",
       "144           2.0            123.0                          133.0  \n",
       "145           5.0              NaN                          133.0  \n",
       "146           0.0              NaN                          133.0  \n",
       "147           4.0            133.0                          133.0  \n",
       "148           3.0              NaN                          133.0  \n",
       "\n",
       "[149 rows x 116 columns]"
      ]
     },
     "execution_count": 6,
     "metadata": {},
     "output_type": "execute_result"
    }
   ],
   "source": [
    "df"
   ]
  },
  {
   "cell_type": "markdown",
   "metadata": {},
   "source": [
    "# Calculating the Grade for each Assignment"
   ]
  },
  {
   "cell_type": "code",
   "execution_count": 7,
   "metadata": {},
   "outputs": [],
   "source": [
    "def get_proportion_assignment(r, assignment_name):\n",
    "    num = r[assignment_name]\n",
    "    den = r[assignment_name + ' - Max Points']\n",
    "    \n",
    "    return num / den"
   ]
  },
  {
   "cell_type": "code",
   "execution_count": 8,
   "metadata": {},
   "outputs": [],
   "source": [
    "for i in range(1, NUM_LABS + 1):\n",
    "    assignment_name = f\"Lab {i}\"\n",
    "    df[assignment_name + \" Grade\"] = df.apply(\n",
    "        get_proportion_assignment, axis=1, assignment_name=assignment_name\n",
    "    )\n",
    "    if i == 1:\n",
    "        pass\n",
    "\n",
    "    assignment_name = f\"Lab {i} Redemption\"\n",
    "    df[assignment_name + \" Grade\"] = df.apply(\n",
    "        get_proportion_assignment, axis=1, assignment_name=assignment_name\n",
    "    )"
   ]
  },
  {
   "cell_type": "code",
   "execution_count": 9,
   "metadata": {},
   "outputs": [],
   "source": [
    "for i in range(1, NUM_PROJECTS + 1):\n",
    "    assignment_name = f\"Project {i}\"\n",
    "    df[assignment_name + \" Grade\"] = df.apply(\n",
    "        get_proportion_assignment, axis=1, assignment_name=assignment_name\n",
    "    )\n",
    "\n",
    "    assignment_name = f\"Project {i} Redemption\"\n",
    "    df[assignment_name + \" Grade\"] = df.apply(\n",
    "        get_proportion_assignment, axis=1, assignment_name=assignment_name\n",
    "    )"
   ]
  },
  {
   "cell_type": "code",
   "execution_count": 10,
   "metadata": {},
   "outputs": [],
   "source": [
    "for i in range(1, NUM_PROJECT_CHECKPOINTS+1):\n",
    "    assignment_name = f'Project {i} Checkpoint'\n",
    "    df[assignment_name + ' Final Grade'] = df.apply(get_proportion_assignment, axis=1, assignment_name=assignment_name)"
   ]
  },
  {
   "cell_type": "markdown",
   "metadata": {},
   "source": [
    "# Calculating Final Grade with Redemption Assignments"
   ]
  },
  {
   "cell_type": "code",
   "execution_count": 11,
   "metadata": {},
   "outputs": [],
   "source": [
    "def get_final_score(assignment_name):\n",
    "    df[f\"{assignment_name} Final Grade\"] = df[f\"{assignment_name} Grade\"] + (\n",
    "        (df[f\"{assignment_name} Redemption Grade\"] - df[f\"{assignment_name} Grade\"]).apply(\n",
    "            lambda x: x if x > 0 else 0\n",
    "        )\n",
    "        * 0.8\n",
    "    ).fillna(0)"
   ]
  },
  {
   "cell_type": "code",
   "execution_count": 12,
   "metadata": {},
   "outputs": [],
   "source": [
    "redemptions_assignments = (\n",
    "    [f\"Project {i+1}\" for i in range(0, NUM_PROJECTS)]\n",
    "    + [f\"Lab {i+1}\" for i in range(0, NUM_LABS)]\n",
    ")\n",
    "for assignment in redemptions_assignments:get_final_score(assignment) "
   ]
  },
  {
   "cell_type": "markdown",
   "metadata": {},
   "source": [
    "# Finding Dropped Lab"
   ]
  },
  {
   "cell_type": "code",
   "execution_count": 13,
   "metadata": {},
   "outputs": [],
   "source": [
    "def find_dropped_labs(df):\n",
    "    lab_scores = df[[f'Lab {i} Final Grade' for i in range(1, NUM_LABS+1)]].fillna(0)\n",
    "    dropped_labs = np.argsort(np.array(lab_scores))[:NUM_DROPS]\n",
    "    dropped_labs = np.sort(dropped_labs) + 1\n",
    "    dropped_labs = [f'Lab {l}' for l in dropped_labs]\n",
    "    return ', '.join(dropped_labs)\n",
    "\n",
    "df['Dropped Labs'] = df.apply(find_dropped_labs, axis=1)"
   ]
  },
  {
   "cell_type": "markdown",
   "metadata": {},
   "source": [
    "# Calculating Midterm and Final Grades"
   ]
  },
  {
   "cell_type": "code",
   "execution_count": 14,
   "metadata": {},
   "outputs": [],
   "source": [
    "if YES_MIDTERM:\n",
    "    df['Midterm Exam Grade Pre-EC'] = df['Midterm'] / df['Midterm - Max Points']\n",
    "    df['Midterm Mean'] = df['Midterm Exam Grade Pre-EC'].dropna().mean()\n",
    "    df['Midterm std'] = df['Midterm Exam Grade Pre-EC'].dropna().std(ddof=0)\n",
    "    df['Midterm Z-Score'] = (df['Midterm Exam Grade Pre-EC'] - df['Midterm Mean']) / df['Midterm std']\n",
    "    df['Midterm Exam Grade Post-EC'] = df['Midterm Exam Grade Pre-EC'] + MIDTERM_BONUS  \n",
    "    if YES_FINAL:\n",
    "        ...\n",
    "    else:\n",
    "       df['Midterm Exam Grade Post-Redemption Post-EC'] = df['Midterm Exam Grade Post-EC'] \n",
    "\n",
    "if YES_FINAL:\n",
    "    # Have to wrok on Midterm Redemption \n",
    "    df['Final Exam Grade'] = df['Final'] / df['Final - Max Points']"
   ]
  },
  {
   "cell_type": "markdown",
   "metadata": {},
   "source": [
    "# Finding Students who are eligible for Discussion Section"
   ]
  },
  {
   "cell_type": "code",
   "execution_count": 15,
   "metadata": {},
   "outputs": [],
   "source": [
    "df['Elgible for Discussion'] = (df['disc_count'] >= 8) & (df['lecture_count'] >= 8)"
   ]
  },
  {
   "cell_type": "markdown",
   "metadata": {},
   "source": [
    "# Calculating the Maximum Possible Grade Right Now "
   ]
  },
  {
   "cell_type": "code",
   "execution_count": 16,
   "metadata": {},
   "outputs": [],
   "source": [
    "df[\"Max Possible Points\"] = (\n",
    "    NUM_LABS / MAX_LABS * ASSIGNMENT_WEIGHTS[\"lab\"]\n",
    "    + NUM_PROJECTS / MAX_PROJECTS * ASSIGNMENT_WEIGHTS[\"project\"]\n",
    "    + NUM_PROJECT_CHECKPOINTS / MAX_PROJECT_CHECKPOINTS * ASSIGNMENT_WEIGHTS[\"project_checkpoint\"]\n",
    ")\n",
    "if YES_MIDTERM:\n",
    "    df[\"Max Possible Points\"] += ASSIGNMENT_WEIGHTS[\"midterm_exam\"]\n",
    "if YES_FINAL:\n",
    "    df[\"Max Possible Points\"] += ASSIGNMENT_WEIGHTS[\"final_exam\"]\n",
    "df[\"Max Possible Points\"] *= 100\n",
    "df['Current Max Possible Score'] = df[\"Max Possible Points\"].max()"
   ]
  },
  {
   "cell_type": "markdown",
   "metadata": {},
   "source": [
    "# Calculating Scores for Each Assignment Group"
   ]
  },
  {
   "cell_type": "markdown",
   "metadata": {},
   "source": [
    "## 1 Lab is Dropped"
   ]
  },
  {
   "cell_type": "code",
   "execution_count": 17,
   "metadata": {},
   "outputs": [],
   "source": [
    "def calculate_lab_mean(row):\n",
    "    exclude_col = row['Dropped Labs']\n",
    "    lab_columns = [f\"Lab {i+1} Final Grade\" for i in range(0, NUM_LABS)]\n",
    "    columns_to_include = [col for col in lab_columns if col not in [exclude_col, 'Exclude']]\n",
    "    row_mean = row[columns_to_include].mean()\n",
    "    return row_mean"
   ]
  },
  {
   "cell_type": "code",
   "execution_count": 18,
   "metadata": {},
   "outputs": [],
   "source": [
    "df['Lab Average'] = df[[f\"Lab {i+1} Final Grade\" for i in range(0, NUM_LABS)]].fillna(0).mean(axis=1)\n",
    "df['Project Average'] = df[[f\"Project {i+1} Final Grade\" for i in range(0, NUM_PROJECTS)]].fillna(0).mean(axis=1)\n",
    "df['Project Checkpoint Average'] = df[[f\"Project {i+1} Checkpoint Final Grade\" for i in range(0, NUM_PROJECT_CHECKPOINTS)]].fillna(0).mean(axis=1)\n",
    "if YES_MIDTERM:\n",
    "    df['Midterm Average'] = df['Midterm Exam Grade Post-Redemption Post-EC']\n",
    "if YES_FINAL:\n",
    "    df['Final Average'] = df['Final Final']"
   ]
  },
  {
   "cell_type": "markdown",
   "metadata": {},
   "source": [
    "# Claculating Scores for Each Student Without Discussion"
   ]
  },
  {
   "cell_type": "code",
   "execution_count": 19,
   "metadata": {},
   "outputs": [
    {
     "data": {
      "text/plain": [
       "53.12932079596517"
      ]
     },
     "execution_count": 19,
     "metadata": {},
     "output_type": "execute_result"
    }
   ],
   "source": [
    "df['Overall Score without Discussion'] = (\n",
    "    df['Lab Average'] * NUM_LABS / MAX_LABS * ASSIGNMENT_WEIGHTS[\"lab\"]\n",
    "    + df['Project Average'] * NUM_PROJECTS / MAX_PROJECTS * ASSIGNMENT_WEIGHTS[\"project\"]\n",
    "    + df['Project Checkpoint Average'] * NUM_PROJECT_CHECKPOINTS / MAX_PROJECT_CHECKPOINTS * ASSIGNMENT_WEIGHTS[\"project_checkpoint\"]\n",
    ")\n",
    "if YES_MIDTERM:\n",
    "    df['Overall Score without Discussion'] += df['Midterm Average'] * ASSIGNMENT_WEIGHTS[\"midterm_exam\"]\n",
    "if YES_FINAL:\n",
    "    df['Overall Score without Discussion'] += df['Final Average'] * ASSIGNMENT_WEIGHTS[\"final_exam\"]\n",
    "\n",
    "df['Overall Score without Discussion'] *= 100\n",
    "\n",
    "df['Overall Score without Discussion'].max()"
   ]
  },
  {
   "cell_type": "markdown",
   "metadata": {},
   "source": [
    "# Claculating Scores for Each Student With Discussion"
   ]
  },
  {
   "cell_type": "code",
   "execution_count": 20,
   "metadata": {},
   "outputs": [
    {
     "data": {
      "text/plain": [
       "51.899320795965174"
      ]
     },
     "execution_count": 20,
     "metadata": {},
     "output_type": "execute_result"
    }
   ],
   "source": [
    "df['Overall Score with Discussion'] = (\n",
    "    df['Lab Average'] * NUM_LABS / MAX_LABS * DISCUSSION_ASSIGNMENT_WEIGHTS[\"lab\"]\n",
    "    + df['Project Average'] * NUM_PROJECTS / MAX_PROJECTS * DISCUSSION_ASSIGNMENT_WEIGHTS[\"project\"]\n",
    "    + df['Project Checkpoint Average'] * NUM_PROJECT_CHECKPOINTS / MAX_PROJECT_CHECKPOINTS * DISCUSSION_ASSIGNMENT_WEIGHTS[\"project_checkpoint\"]\n",
    ")\n",
    "if YES_MIDTERM:\n",
    "    df['Overall Score with Discussion'] += df['Midterm Average'] * DISCUSSION_ASSIGNMENT_WEIGHTS[\"midterm_exam\"]\n",
    "if YES_FINAL:\n",
    "    df['Overall Score with Discussion'] += df['Final Average'] * DISCUSSION_ASSIGNMENT_WEIGHTS[\"final_exam\"]\n",
    "\n",
    "df['Overall Score with Discussion'] + DISCUSSION_ASSIGNMENT_WEIGHTS[\"discussion\"]\n",
    "\n",
    "df['Overall Score with Discussion'] *= 100\n",
    "df['Overall Score with Discussion'].max()"
   ]
  },
  {
   "cell_type": "markdown",
   "metadata": {},
   "source": [
    "# Finding Current Overall Score"
   ]
  },
  {
   "cell_type": "code",
   "execution_count": 21,
   "metadata": {},
   "outputs": [],
   "source": [
    "df[\"Overall Score\"] = df.apply(\n",
    "    lambda row: max(\n",
    "        row[\"Overall Score with Discussion\"],\n",
    "        row[\"Overall Score without Discussion\"] * row[\"Elgible for Discussion\"],\n",
    "    ),\n",
    "    axis=1,\n",
    ")"
   ]
  },
  {
   "cell_type": "markdown",
   "metadata": {},
   "source": [
    "# Calculating Current Grade(Percent / Total Point Possible) for Each Student"
   ]
  },
  {
   "cell_type": "code",
   "execution_count": 22,
   "metadata": {},
   "outputs": [],
   "source": [
    "df['Current Score'] = df['Overall Score'] / df['Max Possible Points'] * 100\n"
   ]
  },
  {
   "cell_type": "code",
   "execution_count": 23,
   "metadata": {},
   "outputs": [
    {
     "data": {
      "text/plain": [
       "0      70.760643\n",
       "1      76.907617\n",
       "2      73.163005\n",
       "3      32.081660\n",
       "4      65.600425\n",
       "         ...    \n",
       "144    73.802447\n",
       "145    65.554342\n",
       "146    81.004251\n",
       "147    84.295876\n",
       "148    69.273980\n",
       "Name: Current Score, Length: 149, dtype: float64"
      ]
     },
     "execution_count": 23,
     "metadata": {},
     "output_type": "execute_result"
    }
   ],
   "source": [
    "df['Current Score']"
   ]
  },
  {
   "cell_type": "code",
   "execution_count": 24,
   "metadata": {},
   "outputs": [],
   "source": [
    "df.to_csv('../data/grades_for_grade_report.csv', index=False)"
   ]
  },
  {
   "cell_type": "code",
   "execution_count": null,
   "metadata": {},
   "outputs": [],
   "source": []
  }
 ],
 "metadata": {
  "kernelspec": {
   "display_name": "dsc80",
   "language": "python",
   "name": "python3"
  },
  "language_info": {
   "codemirror_mode": {
    "name": "ipython",
    "version": 3
   },
   "file_extension": ".py",
   "mimetype": "text/x-python",
   "name": "python",
   "nbconvert_exporter": "python",
   "pygments_lexer": "ipython3",
   "version": "3.8.19"
  }
 },
 "nbformat": 4,
 "nbformat_minor": 2
}
